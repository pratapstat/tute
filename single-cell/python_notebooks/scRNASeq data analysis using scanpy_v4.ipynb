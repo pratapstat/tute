{
 "cells": [
  {
   "cell_type": "markdown",
   "id": "69d3620d",
   "metadata": {},
   "source": [
    "# Working with AnnData object using scanpy in Single Cell RNASeq Data Analysis"
   ]
  },
  {
   "cell_type": "markdown",
   "id": "fce9367c",
   "metadata": {},
   "source": [
    "In this tutorial, we will learn:\n",
    "\n",
    "1) Downloading datasets from 10X genomics\n",
    "\n",
    "2) Loading the gene count matrix (cell ranger output) into AnnData object\n",
    "\n",
    "3) What:\n",
    "\n",
    "    - is AnnData object? Different components of AnnData object\n",
    "    \n",
    "    - Section 1: Summary of AnnData object\n",
    "    \n",
    "    - Section 2: Inspection of newly created AnnData object\n",
    "\n",
    "4) Section 3: Quality Control on AnnData object\n",
    "\n",
    "5) Section 4: Filtering cells and genes\n",
    "\n",
    "6) Section 5: Normalization of data \n",
    "\n",
    "7) Section 6: Finding Highly variable genes\n",
    "\n",
    "8) Section 7: Scaling the data\n",
    "\n",
    "9) Section 8: Perform PCA analysis\n",
    "\n",
    "10) Section 9: Finding Neighbors\n",
    "\n",
    "11) Section 10: Running UMAP and Visualization"
   ]
  },
  {
   "cell_type": "code",
   "execution_count": 2,
   "id": "96e3f15a",
   "metadata": {},
   "outputs": [
    {
     "name": "stdout",
     "output_type": "stream",
     "text": [
      "Requirement already satisfied: scanpy in c:\\users\\65861\\anaconda3\\lib\\site-packages (1.9.1)\n",
      "Requirement already satisfied: packaging in c:\\users\\65861\\appdata\\roaming\\python\\python38\\site-packages (from scanpy) (22.0)\n",
      "Requirement already satisfied: scipy>=1.4 in c:\\users\\65861\\appdata\\roaming\\python\\python38\\site-packages (from scanpy) (1.9.3)\n",
      "Requirement already satisfied: pandas>=1.0 in c:\\users\\65861\\anaconda3\\lib\\site-packages (from scanpy) (1.2.4)\n",
      "Requirement already satisfied: session-info in c:\\users\\65861\\anaconda3\\lib\\site-packages (from scanpy) (1.0.0)\n",
      "Requirement already satisfied: networkx>=2.3 in c:\\users\\65861\\anaconda3\\lib\\site-packages (from scanpy) (2.5)\n",
      "Requirement already satisfied: natsort in c:\\users\\65861\\appdata\\roaming\\python\\python38\\site-packages (from scanpy) (8.2.0)\n",
      "Requirement already satisfied: h5py>=3 in c:\\users\\65861\\appdata\\roaming\\python\\python38\\site-packages (from scanpy) (3.7.0)\n",
      "Requirement already satisfied: numba>=0.41.0 in c:\\users\\65861\\anaconda3\\lib\\site-packages (from scanpy) (0.53.1)\n",
      "Requirement already satisfied: scikit-learn>=0.22 in c:\\users\\65861\\anaconda3\\lib\\site-packages (from scanpy) (0.24.1)\n",
      "Requirement already satisfied: numpy>=1.17.0 in c:\\users\\65861\\anaconda3\\lib\\site-packages (from scanpy) (1.20.1)\n",
      "Requirement already satisfied: patsy in c:\\users\\65861\\anaconda3\\lib\\site-packages (from scanpy) (0.5.1)\n",
      "Requirement already satisfied: umap-learn>=0.3.10 in c:\\users\\65861\\anaconda3\\lib\\site-packages (from scanpy) (0.5.3)\n",
      "Requirement already satisfied: anndata>=0.7.4 in c:\\users\\65861\\appdata\\roaming\\python\\python38\\site-packages (from scanpy) (0.8.0)\n",
      "Requirement already satisfied: joblib in c:\\users\\65861\\anaconda3\\lib\\site-packages (from scanpy) (1.0.1)\n",
      "Requirement already satisfied: matplotlib>=3.4 in c:\\users\\65861\\anaconda3\\lib\\site-packages (from scanpy) (3.6.2)\n",
      "Requirement already satisfied: tqdm in c:\\users\\65861\\anaconda3\\lib\\site-packages (from scanpy) (4.59.0)\n",
      "Requirement already satisfied: statsmodels>=0.10.0rc2 in c:\\users\\65861\\anaconda3\\lib\\site-packages (from scanpy) (0.12.2)\n",
      "Requirement already satisfied: seaborn in c:\\users\\65861\\anaconda3\\lib\\site-packages (from scanpy) (0.11.1)\n",
      "Requirement already satisfied: python-dateutil>=2.7 in c:\\users\\65861\\anaconda3\\lib\\site-packages (from matplotlib>=3.4->scanpy) (2.8.1)\n",
      "Requirement already satisfied: contourpy>=1.0.1 in c:\\users\\65861\\anaconda3\\lib\\site-packages (from matplotlib>=3.4->scanpy) (1.0.6)\n",
      "Requirement already satisfied: pillow>=6.2.0 in c:\\users\\65861\\anaconda3\\lib\\site-packages (from matplotlib>=3.4->scanpy) (8.2.0)\n",
      "Requirement already satisfied: fonttools>=4.22.0 in c:\\users\\65861\\anaconda3\\lib\\site-packages (from matplotlib>=3.4->scanpy) (4.38.0)\n",
      "Requirement already satisfied: cycler>=0.10 in c:\\users\\65861\\anaconda3\\lib\\site-packages (from matplotlib>=3.4->scanpy) (0.10.0)\n",
      "Requirement already satisfied: pyparsing>=2.2.1 in c:\\users\\65861\\anaconda3\\lib\\site-packages (from matplotlib>=3.4->scanpy) (2.4.7)\n",
      "Requirement already satisfied: kiwisolver>=1.0.1 in c:\\users\\65861\\anaconda3\\lib\\site-packages (from matplotlib>=3.4->scanpy) (1.3.1)\n",
      "Requirement already satisfied: six in c:\\users\\65861\\anaconda3\\lib\\site-packages (from cycler>=0.10->matplotlib>=3.4->scanpy) (1.15.0)\n",
      "Requirement already satisfied: decorator>=4.3.0 in c:\\users\\65861\\anaconda3\\lib\\site-packages (from networkx>=2.3->scanpy) (5.0.6)\n",
      "Requirement already satisfied: llvmlite<0.37,>=0.36.0rc1 in c:\\users\\65861\\anaconda3\\lib\\site-packages (from numba>=0.41.0->scanpy) (0.36.0)\n",
      "Requirement already satisfied: setuptools in c:\\users\\65861\\anaconda3\\lib\\site-packages (from numba>=0.41.0->scanpy) (52.0.0.post20210125)\n",
      "Requirement already satisfied: pytz>=2017.3 in c:\\users\\65861\\anaconda3\\lib\\site-packages (from pandas>=1.0->scanpy) (2021.1)\n",
      "Requirement already satisfied: threadpoolctl>=2.0.0 in c:\\users\\65861\\anaconda3\\lib\\site-packages (from scikit-learn>=0.22->scanpy) (2.1.0)\n",
      "Requirement already satisfied: pynndescent>=0.5 in c:\\users\\65861\\anaconda3\\lib\\site-packages (from umap-learn>=0.3.10->scanpy) (0.5.8)\n",
      "Requirement already satisfied: stdlib-list in c:\\users\\65861\\anaconda3\\lib\\site-packages (from session-info->scanpy) (0.8.0)\n"
     ]
    }
   ],
   "source": [
    "!pip install scanpy"
   ]
  },
  {
   "cell_type": "code",
   "execution_count": 3,
   "id": "c544c771",
   "metadata": {},
   "outputs": [
    {
     "name": "stdout",
     "output_type": "stream",
     "text": [
      "scanpy==1.9.1 anndata==0.8.0 umap==0.5.3 numpy==1.20.1 scipy==1.9.3 pandas==1.2.4 scikit-learn==0.24.1 statsmodels==0.12.2 pynndescent==0.5.8\n"
     ]
    }
   ],
   "source": [
    "# Main packages\n",
    "import scanpy as sc\n",
    "import pandas as pd\n",
    "\n",
    "\n",
    "# other packages\n",
    "import os\n",
    "\n",
    "\n",
    "#package.module.function()\n",
    "\n",
    "# Figure parameters\n",
    "sc.settings.set_figure_params(dpi=80, facecolor=\"white\")\n",
    "sc.logging.print_header()"
   ]
  },
  {
   "cell_type": "code",
   "execution_count": 4,
   "id": "b29ff793",
   "metadata": {},
   "outputs": [
    {
     "data": {
      "text/plain": [
       "AnnData object with n_obs × n_vars = 2700 × 32738\n",
       "    var: 'gene_ids'"
      ]
     },
     "execution_count": 4,
     "metadata": {},
     "output_type": "execute_result"
    }
   ],
   "source": [
    "#https://scanpy.readthedocs.io/en/stable/api.html#module-scanpy.datasets\n",
    "# Peripheral Blood Mononuclear Cells (PBMC)\n",
    "\n",
    "adata = sc.datasets.pbmc3k()\n",
    "adata"
   ]
  },
  {
   "cell_type": "markdown",
   "id": "3dd487f7",
   "metadata": {},
   "source": [
    "##### File description\n",
    "\n",
    "10X datasets: https://www.10xgenomics.com/resources/datasets\n",
    "\n",
    "Explanation about file formats: https://support.10xgenomics.com/single-cell-gene-expression/software/pipelines/latest/output/matrices\n",
    "\n",
    "'barcodes.tsv' - Cells barcodes (column)\n",
    "\n",
    "'genes.tsv' - Genes ID and name (rows)\n",
    "\n",
    "'matrix.mtx' - Gene Expression matrix (values)"
   ]
  },
  {
   "cell_type": "code",
   "execution_count": 5,
   "id": "7903954a",
   "metadata": {},
   "outputs": [
    {
     "name": "stdout",
     "output_type": "stream",
     "text": [
      "C:/Users/65861/Documents/Work/SingleCell/Python_R_SingleCell/Singlecell/data/filtered_gene_bc_matrices/hg19/\n",
      "['barcodes.tsv', 'genes.tsv', 'matrix.mtx', 'Screenshot 2023-01-10 212000.png']\n"
     ]
    }
   ],
   "source": [
    "# https://cf.10xgenomics.com/samples/cell-exp/1.1.0/pbmc3k/pbmc3k_filtered_gene_bc_matrices.tar.gz\n",
    "\n",
    "# Save my Windows folder location into variable using raw string notation which considers as literal characters\n",
    "filt_folderpath = r\"C:/Users/65861/Documents/Work/SingleCell/Python_R_SingleCell/Singlecell/data/filtered_gene_bc_matrices/hg19/\"\n",
    "print(filt_folderpath)\n",
    "\n",
    "# Check directory contents\n",
    "print(os.listdir(filt_folderpath))\n",
    "\n",
    "# Load files into AnnData object\n",
    "adata = sc.read_10x_mtx(filt_folderpath, var_names = 'gene_symbols',cache=True)"
   ]
  },
  {
   "cell_type": "markdown",
   "id": "5895d126",
   "metadata": {},
   "source": [
    "### What is AnnData?\n",
    "\n",
    "AnnData is a Python object used to represent single-cell RNA-seq data in the anndata package. The anndata package is a toolkit for analyzing and working with single-cell RNA-seq data, and is built on top of the popular pandas and numpy libraries.\n",
    "\n",
    "One of most powerful feature of AnnData object is:  it makes users to easily access and manipulate different types of data from single object.\n",
    "\n",
    "### Components of AnnData object\n",
    "\n",
    "`---> X`\n",
    "\n",
    "The gene expression data is stored as a matrix `(X)`, with rows representing genes and columns representing cells. The data can be either dense (all values are stored in memory) or sparse (only non-zero values are stored in memory).\n",
    "\n",
    "`---> obs and var`\n",
    "\n",
    "The AnnData object stores various annotations about the data, such as gene names and IDs, cell barcodes and metadata, and cluster assignments. These annotations are stored in pandas dataframes called `var` (for gene annotations) and `obs` (for cell annotations).\n",
    "\n",
    "`---> obsm, varm and uns`\n",
    "\n",
    "The AnnData object can also store the results of various analysis steps, such as dimensionality reduction or clustering. The results such as dictionaries in the form of  unstructured data are stored in the `uns`. Information such as PCA, t-SNE, or UMAP coordinates which are all structured data associated with each cells are stored in `obsm` dataframe. Whereas `varm` dataframes stores additional information in the form of structured data associated with each genes. \n",
    "\n",
    "`---> obsp and varp`\n",
    "\n",
    "`obsp` dataframe contains rows for each cell pair and columns for each structured data element such as distances, similarity score or any other measures that are calculated based on both cells. Whereas the `varp` dataframe contains rows for each gene pair and columns for each structured data element, such as the pairwise similarity or distance between genes, the functional enrichment of gene pairs or any other measures that are calculated based on both genes."
   ]
  },
  {
   "cell_type": "markdown",
   "id": "b999fc6b",
   "metadata": {},
   "source": [
    "### Section 1: Summary of AnnData object"
   ]
  },
  {
   "cell_type": "code",
   "execution_count": 6,
   "id": "8baf781f",
   "metadata": {},
   "outputs": [
    {
     "data": {
      "text/plain": [
       "AnnData object with n_obs × n_vars = 2700 × 32738\n",
       "    var: 'gene_ids'"
      ]
     },
     "execution_count": 6,
     "metadata": {},
     "output_type": "execute_result"
    }
   ],
   "source": [
    "adata"
   ]
  },
  {
   "cell_type": "code",
   "execution_count": 7,
   "id": "2cc4f39d",
   "metadata": {},
   "outputs": [
    {
     "name": "stdout",
     "output_type": "stream",
     "text": [
      "(2700, 32738)\n"
     ]
    }
   ],
   "source": [
    "print(adata.shape)"
   ]
  },
  {
   "cell_type": "code",
   "execution_count": 11,
   "id": "3b16b8c0",
   "metadata": {},
   "outputs": [
    {
     "name": "stdout",
     "output_type": "stream",
     "text": [
      "<class 'pandas.core.frame.DataFrame'>\n",
      "Index: 2700 entries, AAACATACAACCAC-1 to TTTGCATGCCTCAC-1\n",
      "Empty DataFrameNone\n",
      "\n",
      "##########################################\n",
      "\n",
      "<class 'pandas.core.frame.DataFrame'>\n",
      "Index: 32738 entries, MIR1302-10 to AC002321.1\n",
      "Data columns (total 1 columns):\n",
      " #   Column    Non-Null Count  Dtype \n",
      "---  ------    --------------  ----- \n",
      " 0   gene_ids  32738 non-null  object\n",
      "dtypes: object(1)\n",
      "memory usage: 511.5+ KB\n",
      "None\n"
     ]
    }
   ],
   "source": [
    "print(adata.obs.info())\n",
    "print('')\n",
    "print('##########################################')\n",
    "print('')\n",
    "print(adata.var.info())"
   ]
  },
  {
   "cell_type": "markdown",
   "id": "abffa284",
   "metadata": {},
   "source": [
    "### Section 2: Inspection of newly created AnnData object"
   ]
  },
  {
   "cell_type": "code",
   "execution_count": 8,
   "id": "24593867",
   "metadata": {},
   "outputs": [
    {
     "data": {
      "text/html": [
       "<div>\n",
       "<style scoped>\n",
       "    .dataframe tbody tr th:only-of-type {\n",
       "        vertical-align: middle;\n",
       "    }\n",
       "\n",
       "    .dataframe tbody tr th {\n",
       "        vertical-align: top;\n",
       "    }\n",
       "\n",
       "    .dataframe thead th {\n",
       "        text-align: right;\n",
       "    }\n",
       "</style>\n",
       "<table border=\"1\" class=\"dataframe\">\n",
       "  <thead>\n",
       "    <tr style=\"text-align: right;\">\n",
       "      <th></th>\n",
       "    </tr>\n",
       "  </thead>\n",
       "  <tbody>\n",
       "    <tr>\n",
       "      <th>AAACATACAACCAC-1</th>\n",
       "    </tr>\n",
       "    <tr>\n",
       "      <th>AAACATTGAGCTAC-1</th>\n",
       "    </tr>\n",
       "    <tr>\n",
       "      <th>AAACATTGATCAGC-1</th>\n",
       "    </tr>\n",
       "    <tr>\n",
       "      <th>AAACCGTGCTTCCG-1</th>\n",
       "    </tr>\n",
       "    <tr>\n",
       "      <th>AAACCGTGTATGCG-1</th>\n",
       "    </tr>\n",
       "    <tr>\n",
       "      <th>...</th>\n",
       "    </tr>\n",
       "    <tr>\n",
       "      <th>TTTCGAACTCTCAT-1</th>\n",
       "    </tr>\n",
       "    <tr>\n",
       "      <th>TTTCTACTGAGGCA-1</th>\n",
       "    </tr>\n",
       "    <tr>\n",
       "      <th>TTTCTACTTCCTCG-1</th>\n",
       "    </tr>\n",
       "    <tr>\n",
       "      <th>TTTGCATGAGAGGC-1</th>\n",
       "    </tr>\n",
       "    <tr>\n",
       "      <th>TTTGCATGCCTCAC-1</th>\n",
       "    </tr>\n",
       "  </tbody>\n",
       "</table>\n",
       "<p>2700 rows × 0 columns</p>\n",
       "</div>"
      ],
      "text/plain": [
       "Empty DataFrame\n",
       "Columns: []\n",
       "Index: [AAACATACAACCAC-1, AAACATTGAGCTAC-1, AAACATTGATCAGC-1, AAACCGTGCTTCCG-1, AAACCGTGTATGCG-1, AAACGCACTGGTAC-1, AAACGCTGACCAGT-1, AAACGCTGGTTCTT-1, AAACGCTGTAGCCA-1, AAACGCTGTTTCTG-1, AAACTTGAAAAACG-1, AAACTTGATCCAGA-1, AAAGAGACGAGATA-1, AAAGAGACGCGAGA-1, AAAGAGACGGACTT-1, AAAGAGACGGCATT-1, AAAGATCTGGGCAA-1, AAAGCAGAAGCCAT-1, AAAGCAGATATCGG-1, AAAGCCTGTATGCG-1, AAAGGCCTGTCTAG-1, AAAGTTTGATCACG-1, AAAGTTTGGGGTGA-1, AAAGTTTGTAGAGA-1, AAAGTTTGTAGCGT-1, AAATCAACAATGCC-1, AAATCAACACCAGT-1, AAATCAACCAGGAG-1, AAATCAACCCTATT-1, AAATCAACGGAAGC-1, AAATCAACTCGCAA-1, AAATCATGACCACA-1, AAATCCCTCCACAA-1, AAATCCCTGCTATG-1, AAATGTTGAACGAA-1, AAATGTTGCCACAA-1, AAATGTTGTGGCAT-1, AAATTCGAAGGTTC-1, AAATTCGAATCACG-1, AAATTCGAGCTGAT-1, AAATTCGAGGAGTG-1, AAATTCGATTCTCA-1, AAATTGACACGACT-1, AAATTGACTCGCTC-1, AACAAACTCATTTC-1, AACAAACTTTCGTT-1, AACAATACGACGAG-1, AACACGTGCAGAGG-1, AACACGTGGAAAGT-1, AACACGTGGAACCT-1, AACACGTGGCTACA-1, AACACGTGTACGAC-1, AACAGCACAAGAGT-1, AACATTGATGGGAG-1, AACCAGTGATACCG-1, AACCCAGATCGCTC-1, AACCGATGCTCCCA-1, AACCGATGGTCATG-1, AACCGATGTTCTAC-1, AACCGCCTAGCGTT-1, AACCGCCTCTACGA-1, AACCTACTGTGAGG-1, AACCTACTGTGTTG-1, AACCTTACGAGACG-1, AACCTTACGCGAGA-1, AACCTTACTAACGC-1, AACCTTTGGACGGA-1, AACCTTTGTACGCA-1, AACGCAACAAGTAG-1, AACGCATGACCCAA-1, AACGCATGCCTTCG-1, AACGCATGTACTTC-1, AACGCCCTCGGGAA-1, AACGCCCTCGTACA-1, AACGCCCTGCTTAG-1, AACGCCCTGGCATT-1, AACGTCGAGTATCG-1, AACGTGTGAAAGCA-1, AACGTGTGGCGGAA-1, AACGTGTGTCCAAG-1, AACGTGTGTGCTTT-1, AACTACCTTAGAGA-1, AACTCACTCAAGCT-1, AACTCACTTGGAGG-1, AACTCGGAAAGTGA-1, AACTCGGAAGGTCT-1, AACTCTTGCAGGAG-1, AACTGTCTCCCTTG-1, AACTTGCTACGCTA-1, AACTTGCTGGGACA-1, AAGAACGAGTGTTG-1, AAGAAGACGTAGGG-1, AAGACAGAAGTCTG-1, AAGACAGAGGATCT-1, AAGACAGATTACCT-1, AAGAGATGGGTAGG-1, AAGATGGAAAACAG-1, AAGATGGAGAACTC-1, AAGATGGAGATAAG-1, AAGATTACAACCTG-1, ...]\n",
       "\n",
       "[2700 rows x 0 columns]"
      ]
     },
     "execution_count": 8,
     "metadata": {},
     "output_type": "execute_result"
    }
   ],
   "source": [
    "# List the cell names\n",
    "adata.obs"
   ]
  },
  {
   "cell_type": "code",
   "execution_count": 9,
   "id": "23bdbd71",
   "metadata": {},
   "outputs": [
    {
     "data": {
      "text/html": [
       "<div>\n",
       "<style scoped>\n",
       "    .dataframe tbody tr th:only-of-type {\n",
       "        vertical-align: middle;\n",
       "    }\n",
       "\n",
       "    .dataframe tbody tr th {\n",
       "        vertical-align: top;\n",
       "    }\n",
       "\n",
       "    .dataframe thead th {\n",
       "        text-align: right;\n",
       "    }\n",
       "</style>\n",
       "<table border=\"1\" class=\"dataframe\">\n",
       "  <thead>\n",
       "    <tr style=\"text-align: right;\">\n",
       "      <th></th>\n",
       "    </tr>\n",
       "  </thead>\n",
       "  <tbody>\n",
       "    <tr>\n",
       "      <th>AAACATACAACCAC-1</th>\n",
       "    </tr>\n",
       "    <tr>\n",
       "      <th>AAACATTGAGCTAC-1</th>\n",
       "    </tr>\n",
       "    <tr>\n",
       "      <th>AAACATTGATCAGC-1</th>\n",
       "    </tr>\n",
       "    <tr>\n",
       "      <th>AAACCGTGCTTCCG-1</th>\n",
       "    </tr>\n",
       "    <tr>\n",
       "      <th>AAACCGTGTATGCG-1</th>\n",
       "    </tr>\n",
       "  </tbody>\n",
       "</table>\n",
       "</div>"
      ],
      "text/plain": [
       "Empty DataFrame\n",
       "Columns: []\n",
       "Index: [AAACATACAACCAC-1, AAACATTGAGCTAC-1, AAACATTGATCAGC-1, AAACCGTGCTTCCG-1, AAACCGTGTATGCG-1]"
      ]
     },
     "execution_count": 9,
     "metadata": {},
     "output_type": "execute_result"
    }
   ],
   "source": [
    "# List the cell names\n",
    "adata.obs.head()"
   ]
  },
  {
   "cell_type": "code",
   "execution_count": 10,
   "id": "feb906b3",
   "metadata": {},
   "outputs": [
    {
     "data": {
      "text/html": [
       "<div>\n",
       "<style scoped>\n",
       "    .dataframe tbody tr th:only-of-type {\n",
       "        vertical-align: middle;\n",
       "    }\n",
       "\n",
       "    .dataframe tbody tr th {\n",
       "        vertical-align: top;\n",
       "    }\n",
       "\n",
       "    .dataframe thead th {\n",
       "        text-align: right;\n",
       "    }\n",
       "</style>\n",
       "<table border=\"1\" class=\"dataframe\">\n",
       "  <thead>\n",
       "    <tr style=\"text-align: right;\">\n",
       "      <th></th>\n",
       "      <th>gene_ids</th>\n",
       "    </tr>\n",
       "  </thead>\n",
       "  <tbody>\n",
       "    <tr>\n",
       "      <th>MIR1302-10</th>\n",
       "      <td>ENSG00000243485</td>\n",
       "    </tr>\n",
       "    <tr>\n",
       "      <th>FAM138A</th>\n",
       "      <td>ENSG00000237613</td>\n",
       "    </tr>\n",
       "    <tr>\n",
       "      <th>OR4F5</th>\n",
       "      <td>ENSG00000186092</td>\n",
       "    </tr>\n",
       "    <tr>\n",
       "      <th>RP11-34P13.7</th>\n",
       "      <td>ENSG00000238009</td>\n",
       "    </tr>\n",
       "    <tr>\n",
       "      <th>RP11-34P13.8</th>\n",
       "      <td>ENSG00000239945</td>\n",
       "    </tr>\n",
       "    <tr>\n",
       "      <th>...</th>\n",
       "      <td>...</td>\n",
       "    </tr>\n",
       "    <tr>\n",
       "      <th>AC145205.1</th>\n",
       "      <td>ENSG00000215635</td>\n",
       "    </tr>\n",
       "    <tr>\n",
       "      <th>BAGE5</th>\n",
       "      <td>ENSG00000268590</td>\n",
       "    </tr>\n",
       "    <tr>\n",
       "      <th>CU459201.1</th>\n",
       "      <td>ENSG00000251180</td>\n",
       "    </tr>\n",
       "    <tr>\n",
       "      <th>AC002321.2</th>\n",
       "      <td>ENSG00000215616</td>\n",
       "    </tr>\n",
       "    <tr>\n",
       "      <th>AC002321.1</th>\n",
       "      <td>ENSG00000215611</td>\n",
       "    </tr>\n",
       "  </tbody>\n",
       "</table>\n",
       "<p>32738 rows × 1 columns</p>\n",
       "</div>"
      ],
      "text/plain": [
       "                     gene_ids\n",
       "MIR1302-10    ENSG00000243485\n",
       "FAM138A       ENSG00000237613\n",
       "OR4F5         ENSG00000186092\n",
       "RP11-34P13.7  ENSG00000238009\n",
       "RP11-34P13.8  ENSG00000239945\n",
       "...                       ...\n",
       "AC145205.1    ENSG00000215635\n",
       "BAGE5         ENSG00000268590\n",
       "CU459201.1    ENSG00000251180\n",
       "AC002321.2    ENSG00000215616\n",
       "AC002321.1    ENSG00000215611\n",
       "\n",
       "[32738 rows x 1 columns]"
      ]
     },
     "execution_count": 10,
     "metadata": {},
     "output_type": "execute_result"
    }
   ],
   "source": [
    "# List the gene names\n",
    "adata.var"
   ]
  },
  {
   "cell_type": "code",
   "execution_count": 11,
   "id": "6fb66afa",
   "metadata": {},
   "outputs": [
    {
     "data": {
      "text/plain": [
       "<2700x32738 sparse matrix of type '<class 'numpy.float32'>'\n",
       "\twith 2286884 stored elements in Compressed Sparse Row format>"
      ]
     },
     "execution_count": 11,
     "metadata": {},
     "output_type": "execute_result"
    }
   ],
   "source": [
    "# AnnData stores sparse data in Compressed Sparse Row matrix which are memory efficient instead of large 2-d matrices.\n",
    "# https://cmdlinetips.com/2018/03/sparse-matrices-in-python-with-scipy/\n",
    "adata.X"
   ]
  },
  {
   "cell_type": "code",
   "execution_count": 19,
   "id": "f19c3096",
   "metadata": {},
   "outputs": [
    {
     "data": {
      "text/html": [
       "<div>\n",
       "<style scoped>\n",
       "    .dataframe tbody tr th:only-of-type {\n",
       "        vertical-align: middle;\n",
       "    }\n",
       "\n",
       "    .dataframe tbody tr th {\n",
       "        vertical-align: top;\n",
       "    }\n",
       "\n",
       "    .dataframe thead th {\n",
       "        text-align: right;\n",
       "    }\n",
       "</style>\n",
       "<table border=\"1\" class=\"dataframe\">\n",
       "  <thead>\n",
       "    <tr style=\"text-align: right;\">\n",
       "      <th></th>\n",
       "      <th>MIR1302-10</th>\n",
       "      <th>FAM138A</th>\n",
       "      <th>OR4F5</th>\n",
       "      <th>RP11-34P13.7</th>\n",
       "      <th>RP11-34P13.8</th>\n",
       "      <th>AL627309.1</th>\n",
       "      <th>RP11-34P13.14</th>\n",
       "      <th>RP11-34P13.9</th>\n",
       "      <th>AP006222.2</th>\n",
       "      <th>RP4-669L17.10</th>\n",
       "      <th>...</th>\n",
       "      <th>KIR3DL2-1</th>\n",
       "      <th>AL590523.1</th>\n",
       "      <th>CT476828.1</th>\n",
       "      <th>PNRC2-1</th>\n",
       "      <th>SRSF10-1</th>\n",
       "      <th>AC145205.1</th>\n",
       "      <th>BAGE5</th>\n",
       "      <th>CU459201.1</th>\n",
       "      <th>AC002321.2</th>\n",
       "      <th>AC002321.1</th>\n",
       "    </tr>\n",
       "  </thead>\n",
       "  <tbody>\n",
       "    <tr>\n",
       "      <th>AAACATACAACCAC-1</th>\n",
       "      <td>0.0</td>\n",
       "      <td>0.0</td>\n",
       "      <td>0.0</td>\n",
       "      <td>0.0</td>\n",
       "      <td>0.0</td>\n",
       "      <td>0.0</td>\n",
       "      <td>0.0</td>\n",
       "      <td>0.0</td>\n",
       "      <td>0.0</td>\n",
       "      <td>0.0</td>\n",
       "      <td>...</td>\n",
       "      <td>0.0</td>\n",
       "      <td>0.0</td>\n",
       "      <td>0.0</td>\n",
       "      <td>0.0</td>\n",
       "      <td>0.0</td>\n",
       "      <td>0.0</td>\n",
       "      <td>0.0</td>\n",
       "      <td>0.0</td>\n",
       "      <td>0.0</td>\n",
       "      <td>0.0</td>\n",
       "    </tr>\n",
       "    <tr>\n",
       "      <th>AAACATTGAGCTAC-1</th>\n",
       "      <td>0.0</td>\n",
       "      <td>0.0</td>\n",
       "      <td>0.0</td>\n",
       "      <td>0.0</td>\n",
       "      <td>0.0</td>\n",
       "      <td>0.0</td>\n",
       "      <td>0.0</td>\n",
       "      <td>0.0</td>\n",
       "      <td>0.0</td>\n",
       "      <td>0.0</td>\n",
       "      <td>...</td>\n",
       "      <td>0.0</td>\n",
       "      <td>0.0</td>\n",
       "      <td>0.0</td>\n",
       "      <td>0.0</td>\n",
       "      <td>0.0</td>\n",
       "      <td>0.0</td>\n",
       "      <td>0.0</td>\n",
       "      <td>0.0</td>\n",
       "      <td>0.0</td>\n",
       "      <td>0.0</td>\n",
       "    </tr>\n",
       "    <tr>\n",
       "      <th>AAACATTGATCAGC-1</th>\n",
       "      <td>0.0</td>\n",
       "      <td>0.0</td>\n",
       "      <td>0.0</td>\n",
       "      <td>0.0</td>\n",
       "      <td>0.0</td>\n",
       "      <td>0.0</td>\n",
       "      <td>0.0</td>\n",
       "      <td>0.0</td>\n",
       "      <td>0.0</td>\n",
       "      <td>0.0</td>\n",
       "      <td>...</td>\n",
       "      <td>0.0</td>\n",
       "      <td>0.0</td>\n",
       "      <td>0.0</td>\n",
       "      <td>0.0</td>\n",
       "      <td>0.0</td>\n",
       "      <td>0.0</td>\n",
       "      <td>0.0</td>\n",
       "      <td>0.0</td>\n",
       "      <td>0.0</td>\n",
       "      <td>0.0</td>\n",
       "    </tr>\n",
       "    <tr>\n",
       "      <th>AAACCGTGCTTCCG-1</th>\n",
       "      <td>0.0</td>\n",
       "      <td>0.0</td>\n",
       "      <td>0.0</td>\n",
       "      <td>0.0</td>\n",
       "      <td>0.0</td>\n",
       "      <td>0.0</td>\n",
       "      <td>0.0</td>\n",
       "      <td>0.0</td>\n",
       "      <td>0.0</td>\n",
       "      <td>0.0</td>\n",
       "      <td>...</td>\n",
       "      <td>0.0</td>\n",
       "      <td>0.0</td>\n",
       "      <td>0.0</td>\n",
       "      <td>0.0</td>\n",
       "      <td>0.0</td>\n",
       "      <td>0.0</td>\n",
       "      <td>0.0</td>\n",
       "      <td>0.0</td>\n",
       "      <td>0.0</td>\n",
       "      <td>0.0</td>\n",
       "    </tr>\n",
       "    <tr>\n",
       "      <th>AAACCGTGTATGCG-1</th>\n",
       "      <td>0.0</td>\n",
       "      <td>0.0</td>\n",
       "      <td>0.0</td>\n",
       "      <td>0.0</td>\n",
       "      <td>0.0</td>\n",
       "      <td>0.0</td>\n",
       "      <td>0.0</td>\n",
       "      <td>0.0</td>\n",
       "      <td>0.0</td>\n",
       "      <td>0.0</td>\n",
       "      <td>...</td>\n",
       "      <td>0.0</td>\n",
       "      <td>0.0</td>\n",
       "      <td>0.0</td>\n",
       "      <td>0.0</td>\n",
       "      <td>0.0</td>\n",
       "      <td>0.0</td>\n",
       "      <td>0.0</td>\n",
       "      <td>0.0</td>\n",
       "      <td>0.0</td>\n",
       "      <td>0.0</td>\n",
       "    </tr>\n",
       "    <tr>\n",
       "      <th>...</th>\n",
       "      <td>...</td>\n",
       "      <td>...</td>\n",
       "      <td>...</td>\n",
       "      <td>...</td>\n",
       "      <td>...</td>\n",
       "      <td>...</td>\n",
       "      <td>...</td>\n",
       "      <td>...</td>\n",
       "      <td>...</td>\n",
       "      <td>...</td>\n",
       "      <td>...</td>\n",
       "      <td>...</td>\n",
       "      <td>...</td>\n",
       "      <td>...</td>\n",
       "      <td>...</td>\n",
       "      <td>...</td>\n",
       "      <td>...</td>\n",
       "      <td>...</td>\n",
       "      <td>...</td>\n",
       "      <td>...</td>\n",
       "      <td>...</td>\n",
       "    </tr>\n",
       "    <tr>\n",
       "      <th>TTTCGAACTCTCAT-1</th>\n",
       "      <td>0.0</td>\n",
       "      <td>0.0</td>\n",
       "      <td>0.0</td>\n",
       "      <td>0.0</td>\n",
       "      <td>0.0</td>\n",
       "      <td>0.0</td>\n",
       "      <td>0.0</td>\n",
       "      <td>0.0</td>\n",
       "      <td>0.0</td>\n",
       "      <td>0.0</td>\n",
       "      <td>...</td>\n",
       "      <td>0.0</td>\n",
       "      <td>0.0</td>\n",
       "      <td>0.0</td>\n",
       "      <td>0.0</td>\n",
       "      <td>0.0</td>\n",
       "      <td>0.0</td>\n",
       "      <td>0.0</td>\n",
       "      <td>0.0</td>\n",
       "      <td>0.0</td>\n",
       "      <td>0.0</td>\n",
       "    </tr>\n",
       "    <tr>\n",
       "      <th>TTTCTACTGAGGCA-1</th>\n",
       "      <td>0.0</td>\n",
       "      <td>0.0</td>\n",
       "      <td>0.0</td>\n",
       "      <td>0.0</td>\n",
       "      <td>0.0</td>\n",
       "      <td>0.0</td>\n",
       "      <td>0.0</td>\n",
       "      <td>0.0</td>\n",
       "      <td>0.0</td>\n",
       "      <td>0.0</td>\n",
       "      <td>...</td>\n",
       "      <td>0.0</td>\n",
       "      <td>0.0</td>\n",
       "      <td>0.0</td>\n",
       "      <td>0.0</td>\n",
       "      <td>0.0</td>\n",
       "      <td>0.0</td>\n",
       "      <td>0.0</td>\n",
       "      <td>0.0</td>\n",
       "      <td>0.0</td>\n",
       "      <td>0.0</td>\n",
       "    </tr>\n",
       "    <tr>\n",
       "      <th>TTTCTACTTCCTCG-1</th>\n",
       "      <td>0.0</td>\n",
       "      <td>0.0</td>\n",
       "      <td>0.0</td>\n",
       "      <td>0.0</td>\n",
       "      <td>0.0</td>\n",
       "      <td>0.0</td>\n",
       "      <td>0.0</td>\n",
       "      <td>0.0</td>\n",
       "      <td>0.0</td>\n",
       "      <td>0.0</td>\n",
       "      <td>...</td>\n",
       "      <td>0.0</td>\n",
       "      <td>0.0</td>\n",
       "      <td>0.0</td>\n",
       "      <td>0.0</td>\n",
       "      <td>0.0</td>\n",
       "      <td>0.0</td>\n",
       "      <td>0.0</td>\n",
       "      <td>0.0</td>\n",
       "      <td>0.0</td>\n",
       "      <td>0.0</td>\n",
       "    </tr>\n",
       "    <tr>\n",
       "      <th>TTTGCATGAGAGGC-1</th>\n",
       "      <td>0.0</td>\n",
       "      <td>0.0</td>\n",
       "      <td>0.0</td>\n",
       "      <td>0.0</td>\n",
       "      <td>0.0</td>\n",
       "      <td>0.0</td>\n",
       "      <td>0.0</td>\n",
       "      <td>0.0</td>\n",
       "      <td>0.0</td>\n",
       "      <td>0.0</td>\n",
       "      <td>...</td>\n",
       "      <td>0.0</td>\n",
       "      <td>0.0</td>\n",
       "      <td>0.0</td>\n",
       "      <td>0.0</td>\n",
       "      <td>0.0</td>\n",
       "      <td>0.0</td>\n",
       "      <td>0.0</td>\n",
       "      <td>0.0</td>\n",
       "      <td>0.0</td>\n",
       "      <td>0.0</td>\n",
       "    </tr>\n",
       "    <tr>\n",
       "      <th>TTTGCATGCCTCAC-1</th>\n",
       "      <td>0.0</td>\n",
       "      <td>0.0</td>\n",
       "      <td>0.0</td>\n",
       "      <td>0.0</td>\n",
       "      <td>0.0</td>\n",
       "      <td>0.0</td>\n",
       "      <td>0.0</td>\n",
       "      <td>0.0</td>\n",
       "      <td>0.0</td>\n",
       "      <td>0.0</td>\n",
       "      <td>...</td>\n",
       "      <td>0.0</td>\n",
       "      <td>0.0</td>\n",
       "      <td>0.0</td>\n",
       "      <td>0.0</td>\n",
       "      <td>0.0</td>\n",
       "      <td>0.0</td>\n",
       "      <td>0.0</td>\n",
       "      <td>0.0</td>\n",
       "      <td>0.0</td>\n",
       "      <td>0.0</td>\n",
       "    </tr>\n",
       "  </tbody>\n",
       "</table>\n",
       "<p>2700 rows × 32738 columns</p>\n",
       "</div>"
      ],
      "text/plain": [
       "                  MIR1302-10  FAM138A  OR4F5  RP11-34P13.7  RP11-34P13.8  \\\n",
       "AAACATACAACCAC-1         0.0      0.0    0.0           0.0           0.0   \n",
       "AAACATTGAGCTAC-1         0.0      0.0    0.0           0.0           0.0   \n",
       "AAACATTGATCAGC-1         0.0      0.0    0.0           0.0           0.0   \n",
       "AAACCGTGCTTCCG-1         0.0      0.0    0.0           0.0           0.0   \n",
       "AAACCGTGTATGCG-1         0.0      0.0    0.0           0.0           0.0   \n",
       "...                      ...      ...    ...           ...           ...   \n",
       "TTTCGAACTCTCAT-1         0.0      0.0    0.0           0.0           0.0   \n",
       "TTTCTACTGAGGCA-1         0.0      0.0    0.0           0.0           0.0   \n",
       "TTTCTACTTCCTCG-1         0.0      0.0    0.0           0.0           0.0   \n",
       "TTTGCATGAGAGGC-1         0.0      0.0    0.0           0.0           0.0   \n",
       "TTTGCATGCCTCAC-1         0.0      0.0    0.0           0.0           0.0   \n",
       "\n",
       "                  AL627309.1  RP11-34P13.14  RP11-34P13.9  AP006222.2  \\\n",
       "AAACATACAACCAC-1         0.0            0.0           0.0         0.0   \n",
       "AAACATTGAGCTAC-1         0.0            0.0           0.0         0.0   \n",
       "AAACATTGATCAGC-1         0.0            0.0           0.0         0.0   \n",
       "AAACCGTGCTTCCG-1         0.0            0.0           0.0         0.0   \n",
       "AAACCGTGTATGCG-1         0.0            0.0           0.0         0.0   \n",
       "...                      ...            ...           ...         ...   \n",
       "TTTCGAACTCTCAT-1         0.0            0.0           0.0         0.0   \n",
       "TTTCTACTGAGGCA-1         0.0            0.0           0.0         0.0   \n",
       "TTTCTACTTCCTCG-1         0.0            0.0           0.0         0.0   \n",
       "TTTGCATGAGAGGC-1         0.0            0.0           0.0         0.0   \n",
       "TTTGCATGCCTCAC-1         0.0            0.0           0.0         0.0   \n",
       "\n",
       "                  RP4-669L17.10  ...  KIR3DL2-1  AL590523.1  CT476828.1  \\\n",
       "AAACATACAACCAC-1            0.0  ...        0.0         0.0         0.0   \n",
       "AAACATTGAGCTAC-1            0.0  ...        0.0         0.0         0.0   \n",
       "AAACATTGATCAGC-1            0.0  ...        0.0         0.0         0.0   \n",
       "AAACCGTGCTTCCG-1            0.0  ...        0.0         0.0         0.0   \n",
       "AAACCGTGTATGCG-1            0.0  ...        0.0         0.0         0.0   \n",
       "...                         ...  ...        ...         ...         ...   \n",
       "TTTCGAACTCTCAT-1            0.0  ...        0.0         0.0         0.0   \n",
       "TTTCTACTGAGGCA-1            0.0  ...        0.0         0.0         0.0   \n",
       "TTTCTACTTCCTCG-1            0.0  ...        0.0         0.0         0.0   \n",
       "TTTGCATGAGAGGC-1            0.0  ...        0.0         0.0         0.0   \n",
       "TTTGCATGCCTCAC-1            0.0  ...        0.0         0.0         0.0   \n",
       "\n",
       "                  PNRC2-1  SRSF10-1  AC145205.1  BAGE5  CU459201.1  \\\n",
       "AAACATACAACCAC-1      0.0       0.0         0.0    0.0         0.0   \n",
       "AAACATTGAGCTAC-1      0.0       0.0         0.0    0.0         0.0   \n",
       "AAACATTGATCAGC-1      0.0       0.0         0.0    0.0         0.0   \n",
       "AAACCGTGCTTCCG-1      0.0       0.0         0.0    0.0         0.0   \n",
       "AAACCGTGTATGCG-1      0.0       0.0         0.0    0.0         0.0   \n",
       "...                   ...       ...         ...    ...         ...   \n",
       "TTTCGAACTCTCAT-1      0.0       0.0         0.0    0.0         0.0   \n",
       "TTTCTACTGAGGCA-1      0.0       0.0         0.0    0.0         0.0   \n",
       "TTTCTACTTCCTCG-1      0.0       0.0         0.0    0.0         0.0   \n",
       "TTTGCATGAGAGGC-1      0.0       0.0         0.0    0.0         0.0   \n",
       "TTTGCATGCCTCAC-1      0.0       0.0         0.0    0.0         0.0   \n",
       "\n",
       "                  AC002321.2  AC002321.1  \n",
       "AAACATACAACCAC-1         0.0         0.0  \n",
       "AAACATTGAGCTAC-1         0.0         0.0  \n",
       "AAACATTGATCAGC-1         0.0         0.0  \n",
       "AAACCGTGCTTCCG-1         0.0         0.0  \n",
       "AAACCGTGTATGCG-1         0.0         0.0  \n",
       "...                      ...         ...  \n",
       "TTTCGAACTCTCAT-1         0.0         0.0  \n",
       "TTTCTACTGAGGCA-1         0.0         0.0  \n",
       "TTTCTACTTCCTCG-1         0.0         0.0  \n",
       "TTTGCATGAGAGGC-1         0.0         0.0  \n",
       "TTTGCATGCCTCAC-1         0.0         0.0  \n",
       "\n",
       "[2700 rows x 32738 columns]"
      ]
     },
     "execution_count": 19,
     "metadata": {},
     "output_type": "execute_result"
    }
   ],
   "source": [
    "# Note:\n",
    "    # Cells by genes in Scanpy\n",
    "    # Genes by cells in Seurat\n",
    "    \n",
    "# create a shallow dataframe (No changes to original dataframe)    \n",
    "    \n",
    "adata.to_df()"
   ]
  },
  {
   "cell_type": "markdown",
   "id": "7e8907bd",
   "metadata": {},
   "source": [
    "### Section 3: Quality Control on AnnData object"
   ]
  },
  {
   "cell_type": "code",
   "execution_count": 12,
   "id": "eae230bb",
   "metadata": {},
   "outputs": [
    {
     "data": {
      "image/png": "[encoded data removed]",
      "text/plain": [
       "<Figure size 360x396 with 1 Axes>"
      ]
     },
     "metadata": {
      "needs_background": "light"
     },
     "output_type": "display_data"
    }
   ],
   "source": [
    "# The n_top genes with the highest mean fraction over all cells \n",
    "\n",
    "sc.pl.highest_expr_genes(adata, n_top=20)"
   ]
  },
  {
   "cell_type": "markdown",
   "id": "9d852471",
   "metadata": {},
   "source": [
    "#### Section 3a : Populating obs and var dataframes with QC stats"
   ]
  },
  {
   "cell_type": "code",
   "execution_count": 13,
   "id": "2120c162",
   "metadata": {},
   "outputs": [],
   "source": [
    "adata_wQC = adata.copy()\n",
    "sc.pp.calculate_qc_metrics(adata_wQC, percent_top=None, log1p=False, inplace=True)"
   ]
  },
  {
   "cell_type": "code",
   "execution_count": 14,
   "id": "28d802e5",
   "metadata": {},
   "outputs": [
    {
     "data": {
      "text/plain": [
       "AnnData object with n_obs × n_vars = 2700 × 32738\n",
       "    var: 'gene_ids'"
      ]
     },
     "execution_count": 14,
     "metadata": {},
     "output_type": "execute_result"
    }
   ],
   "source": [
    "adata"
   ]
  },
  {
   "cell_type": "code",
   "execution_count": 15,
   "id": "ac0f2d32",
   "metadata": {},
   "outputs": [
    {
     "data": {
      "text/plain": [
       "AnnData object with n_obs × n_vars = 2700 × 32738\n",
       "    obs: 'n_genes_by_counts', 'total_counts'\n",
       "    var: 'gene_ids', 'n_cells_by_counts', 'mean_counts', 'pct_dropout_by_counts', 'total_counts'"
      ]
     },
     "execution_count": 15,
     "metadata": {},
     "output_type": "execute_result"
    }
   ],
   "source": [
    "# This dataframe now contains: \n",
    "#                    1) X matrix with n_obs × n_vars = 2700 × 32738\n",
    "#                    2) obs: 'n_genes_by_counts', 'total_counts'\n",
    "#                    3) var: 'gene_ids', 'n_cells_by_counts', 'mean_counts', 'pct_dropout_by_counts', 'total_counts'\n",
    "\n",
    "adata_wQC"
   ]
  },
  {
   "cell_type": "code",
   "execution_count": 16,
   "id": "acd61b3b",
   "metadata": {},
   "outputs": [
    {
     "data": {
      "text/html": [
       "<div>\n",
       "<style scoped>\n",
       "    .dataframe tbody tr th:only-of-type {\n",
       "        vertical-align: middle;\n",
       "    }\n",
       "\n",
       "    .dataframe tbody tr th {\n",
       "        vertical-align: top;\n",
       "    }\n",
       "\n",
       "    .dataframe thead th {\n",
       "        text-align: right;\n",
       "    }\n",
       "</style>\n",
       "<table border=\"1\" class=\"dataframe\">\n",
       "  <thead>\n",
       "    <tr style=\"text-align: right;\">\n",
       "      <th></th>\n",
       "      <th>n_genes_by_counts</th>\n",
       "      <th>total_counts</th>\n",
       "    </tr>\n",
       "  </thead>\n",
       "  <tbody>\n",
       "    <tr>\n",
       "      <th>AAACATACAACCAC-1</th>\n",
       "      <td>781</td>\n",
       "      <td>2421.0</td>\n",
       "    </tr>\n",
       "    <tr>\n",
       "      <th>AAACATTGAGCTAC-1</th>\n",
       "      <td>1352</td>\n",
       "      <td>4903.0</td>\n",
       "    </tr>\n",
       "    <tr>\n",
       "      <th>AAACATTGATCAGC-1</th>\n",
       "      <td>1131</td>\n",
       "      <td>3149.0</td>\n",
       "    </tr>\n",
       "    <tr>\n",
       "      <th>AAACCGTGCTTCCG-1</th>\n",
       "      <td>960</td>\n",
       "      <td>2639.0</td>\n",
       "    </tr>\n",
       "    <tr>\n",
       "      <th>AAACCGTGTATGCG-1</th>\n",
       "      <td>522</td>\n",
       "      <td>981.0</td>\n",
       "    </tr>\n",
       "    <tr>\n",
       "      <th>...</th>\n",
       "      <td>...</td>\n",
       "      <td>...</td>\n",
       "    </tr>\n",
       "    <tr>\n",
       "      <th>TTTCGAACTCTCAT-1</th>\n",
       "      <td>1155</td>\n",
       "      <td>3461.0</td>\n",
       "    </tr>\n",
       "    <tr>\n",
       "      <th>TTTCTACTGAGGCA-1</th>\n",
       "      <td>1227</td>\n",
       "      <td>3447.0</td>\n",
       "    </tr>\n",
       "    <tr>\n",
       "      <th>TTTCTACTTCCTCG-1</th>\n",
       "      <td>622</td>\n",
       "      <td>1684.0</td>\n",
       "    </tr>\n",
       "    <tr>\n",
       "      <th>TTTGCATGAGAGGC-1</th>\n",
       "      <td>454</td>\n",
       "      <td>1024.0</td>\n",
       "    </tr>\n",
       "    <tr>\n",
       "      <th>TTTGCATGCCTCAC-1</th>\n",
       "      <td>724</td>\n",
       "      <td>1985.0</td>\n",
       "    </tr>\n",
       "  </tbody>\n",
       "</table>\n",
       "<p>2700 rows × 2 columns</p>\n",
       "</div>"
      ],
      "text/plain": [
       "                  n_genes_by_counts  total_counts\n",
       "AAACATACAACCAC-1                781        2421.0\n",
       "AAACATTGAGCTAC-1               1352        4903.0\n",
       "AAACATTGATCAGC-1               1131        3149.0\n",
       "AAACCGTGCTTCCG-1                960        2639.0\n",
       "AAACCGTGTATGCG-1                522         981.0\n",
       "...                             ...           ...\n",
       "TTTCGAACTCTCAT-1               1155        3461.0\n",
       "TTTCTACTGAGGCA-1               1227        3447.0\n",
       "TTTCTACTTCCTCG-1                622        1684.0\n",
       "TTTGCATGAGAGGC-1                454        1024.0\n",
       "TTTGCATGCCTCAC-1                724        1985.0\n",
       "\n",
       "[2700 rows x 2 columns]"
      ]
     },
     "execution_count": 16,
     "metadata": {},
     "output_type": "execute_result"
    }
   ],
   "source": [
    "# n_genes_by_counts - The number of genes with at least 1 count in a cell\n",
    "# total_counts - Total number of counts for a cell\n",
    "\n",
    "adata_wQC.obs"
   ]
  },
  {
   "cell_type": "code",
   "execution_count": 56,
   "id": "74b955cf",
   "metadata": {},
   "outputs": [
    {
     "data": {
      "text/html": [
       "<div>\n",
       "<style scoped>\n",
       "    .dataframe tbody tr th:only-of-type {\n",
       "        vertical-align: middle;\n",
       "    }\n",
       "\n",
       "    .dataframe tbody tr th {\n",
       "        vertical-align: top;\n",
       "    }\n",
       "\n",
       "    .dataframe thead th {\n",
       "        text-align: right;\n",
       "    }\n",
       "</style>\n",
       "<table border=\"1\" class=\"dataframe\">\n",
       "  <thead>\n",
       "    <tr style=\"text-align: right;\">\n",
       "      <th></th>\n",
       "      <th>gene_ids</th>\n",
       "      <th>n_cells_by_counts</th>\n",
       "      <th>mean_counts</th>\n",
       "      <th>pct_dropout_by_counts</th>\n",
       "      <th>total_counts</th>\n",
       "    </tr>\n",
       "  </thead>\n",
       "  <tbody>\n",
       "    <tr>\n",
       "      <th>MIR1302-10</th>\n",
       "      <td>ENSG00000243485</td>\n",
       "      <td>0</td>\n",
       "      <td>0.0</td>\n",
       "      <td>100.0</td>\n",
       "      <td>0.0</td>\n",
       "    </tr>\n",
       "    <tr>\n",
       "      <th>FAM138A</th>\n",
       "      <td>ENSG00000237613</td>\n",
       "      <td>0</td>\n",
       "      <td>0.0</td>\n",
       "      <td>100.0</td>\n",
       "      <td>0.0</td>\n",
       "    </tr>\n",
       "    <tr>\n",
       "      <th>OR4F5</th>\n",
       "      <td>ENSG00000186092</td>\n",
       "      <td>0</td>\n",
       "      <td>0.0</td>\n",
       "      <td>100.0</td>\n",
       "      <td>0.0</td>\n",
       "    </tr>\n",
       "    <tr>\n",
       "      <th>RP11-34P13.7</th>\n",
       "      <td>ENSG00000238009</td>\n",
       "      <td>0</td>\n",
       "      <td>0.0</td>\n",
       "      <td>100.0</td>\n",
       "      <td>0.0</td>\n",
       "    </tr>\n",
       "    <tr>\n",
       "      <th>RP11-34P13.8</th>\n",
       "      <td>ENSG00000239945</td>\n",
       "      <td>0</td>\n",
       "      <td>0.0</td>\n",
       "      <td>100.0</td>\n",
       "      <td>0.0</td>\n",
       "    </tr>\n",
       "    <tr>\n",
       "      <th>...</th>\n",
       "      <td>...</td>\n",
       "      <td>...</td>\n",
       "      <td>...</td>\n",
       "      <td>...</td>\n",
       "      <td>...</td>\n",
       "    </tr>\n",
       "    <tr>\n",
       "      <th>AC145205.1</th>\n",
       "      <td>ENSG00000215635</td>\n",
       "      <td>0</td>\n",
       "      <td>0.0</td>\n",
       "      <td>100.0</td>\n",
       "      <td>0.0</td>\n",
       "    </tr>\n",
       "    <tr>\n",
       "      <th>BAGE5</th>\n",
       "      <td>ENSG00000268590</td>\n",
       "      <td>0</td>\n",
       "      <td>0.0</td>\n",
       "      <td>100.0</td>\n",
       "      <td>0.0</td>\n",
       "    </tr>\n",
       "    <tr>\n",
       "      <th>CU459201.1</th>\n",
       "      <td>ENSG00000251180</td>\n",
       "      <td>0</td>\n",
       "      <td>0.0</td>\n",
       "      <td>100.0</td>\n",
       "      <td>0.0</td>\n",
       "    </tr>\n",
       "    <tr>\n",
       "      <th>AC002321.2</th>\n",
       "      <td>ENSG00000215616</td>\n",
       "      <td>0</td>\n",
       "      <td>0.0</td>\n",
       "      <td>100.0</td>\n",
       "      <td>0.0</td>\n",
       "    </tr>\n",
       "    <tr>\n",
       "      <th>AC002321.1</th>\n",
       "      <td>ENSG00000215611</td>\n",
       "      <td>0</td>\n",
       "      <td>0.0</td>\n",
       "      <td>100.0</td>\n",
       "      <td>0.0</td>\n",
       "    </tr>\n",
       "  </tbody>\n",
       "</table>\n",
       "<p>32738 rows × 5 columns</p>\n",
       "</div>"
      ],
      "text/plain": [
       "                     gene_ids  n_cells_by_counts  mean_counts  \\\n",
       "MIR1302-10    ENSG00000243485                  0          0.0   \n",
       "FAM138A       ENSG00000237613                  0          0.0   \n",
       "OR4F5         ENSG00000186092                  0          0.0   \n",
       "RP11-34P13.7  ENSG00000238009                  0          0.0   \n",
       "RP11-34P13.8  ENSG00000239945                  0          0.0   \n",
       "...                       ...                ...          ...   \n",
       "AC145205.1    ENSG00000215635                  0          0.0   \n",
       "BAGE5         ENSG00000268590                  0          0.0   \n",
       "CU459201.1    ENSG00000251180                  0          0.0   \n",
       "AC002321.2    ENSG00000215616                  0          0.0   \n",
       "AC002321.1    ENSG00000215611                  0          0.0   \n",
       "\n",
       "              pct_dropout_by_counts  total_counts  \n",
       "MIR1302-10                    100.0           0.0  \n",
       "FAM138A                       100.0           0.0  \n",
       "OR4F5                         100.0           0.0  \n",
       "RP11-34P13.7                  100.0           0.0  \n",
       "RP11-34P13.8                  100.0           0.0  \n",
       "...                             ...           ...  \n",
       "AC145205.1                    100.0           0.0  \n",
       "BAGE5                         100.0           0.0  \n",
       "CU459201.1                    100.0           0.0  \n",
       "AC002321.2                    100.0           0.0  \n",
       "AC002321.1                    100.0           0.0  \n",
       "\n",
       "[32738 rows x 5 columns]"
      ]
     },
     "execution_count": 56,
     "metadata": {},
     "output_type": "execute_result"
    }
   ],
   "source": [
    "adata_wQC.var"
   ]
  },
  {
   "cell_type": "markdown",
   "id": "e2b5cb30",
   "metadata": {},
   "source": [
    "#### Section 3b : Populating obs and var dataframes manually"
   ]
  },
  {
   "cell_type": "code",
   "execution_count": 17,
   "id": "6257a366",
   "metadata": {},
   "outputs": [
    {
     "data": {
      "text/plain": [
       "Index(['MIR1302-10', 'FAM138A', 'OR4F5', 'RP11-34P13.7', 'RP11-34P13.8',\n",
       "       'AL627309.1', 'RP11-34P13.14', 'RP11-34P13.9', 'AP006222.2',\n",
       "       'RP4-669L17.10',\n",
       "       ...\n",
       "       'KIR3DL2-1', 'AL590523.1', 'CT476828.1', 'PNRC2-1', 'SRSF10-1',\n",
       "       'AC145205.1', 'BAGE5', 'CU459201.1', 'AC002321.2', 'AC002321.1'],\n",
       "      dtype='object', length=32738)"
      ]
     },
     "execution_count": 17,
     "metadata": {},
     "output_type": "execute_result"
    }
   ],
   "source": [
    "adata_wQC.var_names"
   ]
  },
  {
   "cell_type": "code",
   "execution_count": 18,
   "id": "d1193f88",
   "metadata": {},
   "outputs": [
    {
     "data": {
      "text/plain": [
       "array([False, False, False, ..., False, False, False])"
      ]
     },
     "execution_count": 18,
     "metadata": {},
     "output_type": "execute_result"
    }
   ],
   "source": [
    "adata_wQC.var_names.str.startswith('MT-')"
   ]
  },
  {
   "cell_type": "code",
   "execution_count": 20,
   "id": "c693cb73",
   "metadata": {},
   "outputs": [
    {
     "data": {
      "text/plain": [
       "AnnData object with n_obs × n_vars = 2700 × 32738\n",
       "    obs: 'n_genes_by_counts', 'total_counts'\n",
       "    var: 'gene_ids', 'n_cells_by_counts', 'mean_counts', 'pct_dropout_by_counts', 'total_counts', 'mt'"
      ]
     },
     "execution_count": 20,
     "metadata": {},
     "output_type": "execute_result"
    }
   ],
   "source": [
    "# annotate mitochondrial genes as 'mt' and calculate qc metrics\n",
    "adata_wQC.var['mt'] = adata_wQC.var_names.str.startswith('MT-') # creates a new column in var dataframe with boolean values for gene names that start with MT\n",
    "adata_wQC"
   ]
  },
  {
   "cell_type": "code",
   "execution_count": 21,
   "id": "d2e162ca",
   "metadata": {},
   "outputs": [
    {
     "data": {
      "text/plain": [
       "MIR1302-10      False\n",
       "FAM138A         False\n",
       "OR4F5           False\n",
       "RP11-34P13.7    False\n",
       "RP11-34P13.8    False\n",
       "                ...  \n",
       "AC145205.1      False\n",
       "BAGE5           False\n",
       "CU459201.1      False\n",
       "AC002321.2      False\n",
       "AC002321.1      False\n",
       "Name: mt, Length: 32738, dtype: bool"
      ]
     },
     "execution_count": 21,
     "metadata": {},
     "output_type": "execute_result"
    }
   ],
   "source": [
    "# print mt column\n",
    "adata_wQC.var['mt']"
   ]
  },
  {
   "cell_type": "code",
   "execution_count": 22,
   "id": "e42b3791",
   "metadata": {},
   "outputs": [
    {
     "data": {
      "text/html": [
       "<div>\n",
       "<style scoped>\n",
       "    .dataframe tbody tr th:only-of-type {\n",
       "        vertical-align: middle;\n",
       "    }\n",
       "\n",
       "    .dataframe tbody tr th {\n",
       "        vertical-align: top;\n",
       "    }\n",
       "\n",
       "    .dataframe thead th {\n",
       "        text-align: right;\n",
       "    }\n",
       "</style>\n",
       "<table border=\"1\" class=\"dataframe\">\n",
       "  <thead>\n",
       "    <tr style=\"text-align: right;\">\n",
       "      <th></th>\n",
       "      <th>gene_ids</th>\n",
       "      <th>n_cells_by_counts</th>\n",
       "      <th>mean_counts</th>\n",
       "      <th>pct_dropout_by_counts</th>\n",
       "      <th>total_counts</th>\n",
       "      <th>mt</th>\n",
       "    </tr>\n",
       "  </thead>\n",
       "  <tbody>\n",
       "    <tr>\n",
       "      <th>MIR1302-10</th>\n",
       "      <td>ENSG00000243485</td>\n",
       "      <td>0</td>\n",
       "      <td>0.0</td>\n",
       "      <td>100.0</td>\n",
       "      <td>0.0</td>\n",
       "      <td>False</td>\n",
       "    </tr>\n",
       "    <tr>\n",
       "      <th>FAM138A</th>\n",
       "      <td>ENSG00000237613</td>\n",
       "      <td>0</td>\n",
       "      <td>0.0</td>\n",
       "      <td>100.0</td>\n",
       "      <td>0.0</td>\n",
       "      <td>False</td>\n",
       "    </tr>\n",
       "    <tr>\n",
       "      <th>OR4F5</th>\n",
       "      <td>ENSG00000186092</td>\n",
       "      <td>0</td>\n",
       "      <td>0.0</td>\n",
       "      <td>100.0</td>\n",
       "      <td>0.0</td>\n",
       "      <td>False</td>\n",
       "    </tr>\n",
       "    <tr>\n",
       "      <th>RP11-34P13.7</th>\n",
       "      <td>ENSG00000238009</td>\n",
       "      <td>0</td>\n",
       "      <td>0.0</td>\n",
       "      <td>100.0</td>\n",
       "      <td>0.0</td>\n",
       "      <td>False</td>\n",
       "    </tr>\n",
       "    <tr>\n",
       "      <th>RP11-34P13.8</th>\n",
       "      <td>ENSG00000239945</td>\n",
       "      <td>0</td>\n",
       "      <td>0.0</td>\n",
       "      <td>100.0</td>\n",
       "      <td>0.0</td>\n",
       "      <td>False</td>\n",
       "    </tr>\n",
       "    <tr>\n",
       "      <th>...</th>\n",
       "      <td>...</td>\n",
       "      <td>...</td>\n",
       "      <td>...</td>\n",
       "      <td>...</td>\n",
       "      <td>...</td>\n",
       "      <td>...</td>\n",
       "    </tr>\n",
       "    <tr>\n",
       "      <th>AC145205.1</th>\n",
       "      <td>ENSG00000215635</td>\n",
       "      <td>0</td>\n",
       "      <td>0.0</td>\n",
       "      <td>100.0</td>\n",
       "      <td>0.0</td>\n",
       "      <td>False</td>\n",
       "    </tr>\n",
       "    <tr>\n",
       "      <th>BAGE5</th>\n",
       "      <td>ENSG00000268590</td>\n",
       "      <td>0</td>\n",
       "      <td>0.0</td>\n",
       "      <td>100.0</td>\n",
       "      <td>0.0</td>\n",
       "      <td>False</td>\n",
       "    </tr>\n",
       "    <tr>\n",
       "      <th>CU459201.1</th>\n",
       "      <td>ENSG00000251180</td>\n",
       "      <td>0</td>\n",
       "      <td>0.0</td>\n",
       "      <td>100.0</td>\n",
       "      <td>0.0</td>\n",
       "      <td>False</td>\n",
       "    </tr>\n",
       "    <tr>\n",
       "      <th>AC002321.2</th>\n",
       "      <td>ENSG00000215616</td>\n",
       "      <td>0</td>\n",
       "      <td>0.0</td>\n",
       "      <td>100.0</td>\n",
       "      <td>0.0</td>\n",
       "      <td>False</td>\n",
       "    </tr>\n",
       "    <tr>\n",
       "      <th>AC002321.1</th>\n",
       "      <td>ENSG00000215611</td>\n",
       "      <td>0</td>\n",
       "      <td>0.0</td>\n",
       "      <td>100.0</td>\n",
       "      <td>0.0</td>\n",
       "      <td>False</td>\n",
       "    </tr>\n",
       "  </tbody>\n",
       "</table>\n",
       "<p>32738 rows × 6 columns</p>\n",
       "</div>"
      ],
      "text/plain": [
       "                     gene_ids  n_cells_by_counts  mean_counts  \\\n",
       "MIR1302-10    ENSG00000243485                  0          0.0   \n",
       "FAM138A       ENSG00000237613                  0          0.0   \n",
       "OR4F5         ENSG00000186092                  0          0.0   \n",
       "RP11-34P13.7  ENSG00000238009                  0          0.0   \n",
       "RP11-34P13.8  ENSG00000239945                  0          0.0   \n",
       "...                       ...                ...          ...   \n",
       "AC145205.1    ENSG00000215635                  0          0.0   \n",
       "BAGE5         ENSG00000268590                  0          0.0   \n",
       "CU459201.1    ENSG00000251180                  0          0.0   \n",
       "AC002321.2    ENSG00000215616                  0          0.0   \n",
       "AC002321.1    ENSG00000215611                  0          0.0   \n",
       "\n",
       "              pct_dropout_by_counts  total_counts     mt  \n",
       "MIR1302-10                    100.0           0.0  False  \n",
       "FAM138A                       100.0           0.0  False  \n",
       "OR4F5                         100.0           0.0  False  \n",
       "RP11-34P13.7                  100.0           0.0  False  \n",
       "RP11-34P13.8                  100.0           0.0  False  \n",
       "...                             ...           ...    ...  \n",
       "AC145205.1                    100.0           0.0  False  \n",
       "BAGE5                         100.0           0.0  False  \n",
       "CU459201.1                    100.0           0.0  False  \n",
       "AC002321.2                    100.0           0.0  False  \n",
       "AC002321.1                    100.0           0.0  False  \n",
       "\n",
       "[32738 rows x 6 columns]"
      ]
     },
     "execution_count": 22,
     "metadata": {},
     "output_type": "execute_result"
    }
   ],
   "source": [
    "# print var dataframe columns\n",
    "adata_wQC.var"
   ]
  },
  {
   "cell_type": "code",
   "execution_count": 23,
   "id": "94a3545d",
   "metadata": {},
   "outputs": [],
   "source": [
    "sc.pp.calculate_qc_metrics(adata_wQC, percent_top=None, log1p=False, inplace=True) #,"
   ]
  },
  {
   "cell_type": "code",
   "execution_count": 24,
   "id": "95e115a2",
   "metadata": {},
   "outputs": [
    {
     "data": {
      "text/plain": [
       "AnnData object with n_obs × n_vars = 2700 × 32738\n",
       "    obs: 'n_genes_by_counts', 'total_counts'\n",
       "    var: 'gene_ids', 'n_cells_by_counts', 'mean_counts', 'pct_dropout_by_counts', 'total_counts', 'mt'"
      ]
     },
     "execution_count": 24,
     "metadata": {},
     "output_type": "execute_result"
    }
   ],
   "source": [
    "adata_wQC"
   ]
  },
  {
   "cell_type": "code",
   "execution_count": 25,
   "id": "c88a7cae",
   "metadata": {},
   "outputs": [],
   "source": [
    "sc.pp.calculate_qc_metrics(adata_wQC, qc_vars=['mt'], percent_top=None, log1p=False, inplace=True) #,"
   ]
  },
  {
   "cell_type": "code",
   "execution_count": 26,
   "id": "62384fd2",
   "metadata": {},
   "outputs": [
    {
     "data": {
      "text/plain": [
       "AnnData object with n_obs × n_vars = 2700 × 32738\n",
       "    obs: 'n_genes_by_counts', 'total_counts', 'total_counts_mt', 'pct_counts_mt'\n",
       "    var: 'gene_ids', 'n_cells_by_counts', 'mean_counts', 'pct_dropout_by_counts', 'total_counts', 'mt'"
      ]
     },
     "execution_count": 26,
     "metadata": {},
     "output_type": "execute_result"
    }
   ],
   "source": [
    "adata_wQC"
   ]
  },
  {
   "cell_type": "code",
   "execution_count": 27,
   "id": "ef78d36c",
   "metadata": {},
   "outputs": [
    {
     "data": {
      "image/png": "[encoded data removed]",
      "text/plain": [
       "<Figure size 1080x360 with 3 Axes>"
      ]
     },
     "metadata": {
      "needs_background": "light"
     },
     "output_type": "display_data"
    }
   ],
   "source": [
    "# plot a violin plot with some QC metrics\n",
    "sc.pl.violin(adata_wQC, ['n_genes_by_counts', 'total_counts', 'pct_counts_mt'], jitter=0.4, multi_panel=True)"
   ]
  },
  {
   "cell_type": "code",
   "execution_count": 28,
   "id": "b770f49a",
   "metadata": {},
   "outputs": [
    {
     "data": {
      "text/html": [
       "<div>\n",
       "<style scoped>\n",
       "    .dataframe tbody tr th:only-of-type {\n",
       "        vertical-align: middle;\n",
       "    }\n",
       "\n",
       "    .dataframe tbody tr th {\n",
       "        vertical-align: top;\n",
       "    }\n",
       "\n",
       "    .dataframe thead th {\n",
       "        text-align: right;\n",
       "    }\n",
       "</style>\n",
       "<table border=\"1\" class=\"dataframe\">\n",
       "  <thead>\n",
       "    <tr style=\"text-align: right;\">\n",
       "      <th></th>\n",
       "    </tr>\n",
       "  </thead>\n",
       "  <tbody>\n",
       "    <tr>\n",
       "      <th>AAACATACAACCAC-1</th>\n",
       "    </tr>\n",
       "    <tr>\n",
       "      <th>AAACATTGAGCTAC-1</th>\n",
       "    </tr>\n",
       "    <tr>\n",
       "      <th>AAACATTGATCAGC-1</th>\n",
       "    </tr>\n",
       "    <tr>\n",
       "      <th>AAACCGTGCTTCCG-1</th>\n",
       "    </tr>\n",
       "    <tr>\n",
       "      <th>AAACCGTGTATGCG-1</th>\n",
       "    </tr>\n",
       "  </tbody>\n",
       "</table>\n",
       "</div>"
      ],
      "text/plain": [
       "Empty DataFrame\n",
       "Columns: []\n",
       "Index: [AAACATACAACCAC-1, AAACATTGAGCTAC-1, AAACATTGATCAGC-1, AAACCGTGCTTCCG-1, AAACCGTGTATGCG-1]"
      ]
     },
     "execution_count": 28,
     "metadata": {},
     "output_type": "execute_result"
    }
   ],
   "source": [
    "adata.obs.head()"
   ]
  },
  {
   "cell_type": "code",
   "execution_count": 29,
   "id": "2d5d00e2",
   "metadata": {},
   "outputs": [
    {
     "data": {
      "text/html": [
       "<div>\n",
       "<style scoped>\n",
       "    .dataframe tbody tr th:only-of-type {\n",
       "        vertical-align: middle;\n",
       "    }\n",
       "\n",
       "    .dataframe tbody tr th {\n",
       "        vertical-align: top;\n",
       "    }\n",
       "\n",
       "    .dataframe thead th {\n",
       "        text-align: right;\n",
       "    }\n",
       "</style>\n",
       "<table border=\"1\" class=\"dataframe\">\n",
       "  <thead>\n",
       "    <tr style=\"text-align: right;\">\n",
       "      <th></th>\n",
       "      <th>n_genes_by_counts</th>\n",
       "      <th>total_counts</th>\n",
       "      <th>total_counts_mt</th>\n",
       "      <th>pct_counts_mt</th>\n",
       "    </tr>\n",
       "  </thead>\n",
       "  <tbody>\n",
       "    <tr>\n",
       "      <th>AAACATACAACCAC-1</th>\n",
       "      <td>781</td>\n",
       "      <td>2421.0</td>\n",
       "      <td>73.0</td>\n",
       "      <td>3.015283</td>\n",
       "    </tr>\n",
       "    <tr>\n",
       "      <th>AAACATTGAGCTAC-1</th>\n",
       "      <td>1352</td>\n",
       "      <td>4903.0</td>\n",
       "      <td>186.0</td>\n",
       "      <td>3.793596</td>\n",
       "    </tr>\n",
       "    <tr>\n",
       "      <th>AAACATTGATCAGC-1</th>\n",
       "      <td>1131</td>\n",
       "      <td>3149.0</td>\n",
       "      <td>28.0</td>\n",
       "      <td>0.889171</td>\n",
       "    </tr>\n",
       "    <tr>\n",
       "      <th>AAACCGTGCTTCCG-1</th>\n",
       "      <td>960</td>\n",
       "      <td>2639.0</td>\n",
       "      <td>46.0</td>\n",
       "      <td>1.743085</td>\n",
       "    </tr>\n",
       "    <tr>\n",
       "      <th>AAACCGTGTATGCG-1</th>\n",
       "      <td>522</td>\n",
       "      <td>981.0</td>\n",
       "      <td>12.0</td>\n",
       "      <td>1.223242</td>\n",
       "    </tr>\n",
       "  </tbody>\n",
       "</table>\n",
       "</div>"
      ],
      "text/plain": [
       "                  n_genes_by_counts  total_counts  total_counts_mt  \\\n",
       "AAACATACAACCAC-1                781        2421.0             73.0   \n",
       "AAACATTGAGCTAC-1               1352        4903.0            186.0   \n",
       "AAACATTGATCAGC-1               1131        3149.0             28.0   \n",
       "AAACCGTGCTTCCG-1                960        2639.0             46.0   \n",
       "AAACCGTGTATGCG-1                522         981.0             12.0   \n",
       "\n",
       "                  pct_counts_mt  \n",
       "AAACATACAACCAC-1       3.015283  \n",
       "AAACATTGAGCTAC-1       3.793596  \n",
       "AAACATTGATCAGC-1       0.889171  \n",
       "AAACCGTGCTTCCG-1       1.743085  \n",
       "AAACCGTGTATGCG-1       1.223242  "
      ]
     },
     "execution_count": 29,
     "metadata": {},
     "output_type": "execute_result"
    }
   ],
   "source": [
    "adata_wQC.obs.head()"
   ]
  },
  {
   "cell_type": "code",
   "execution_count": 30,
   "id": "0dacebb8",
   "metadata": {},
   "outputs": [
    {
     "name": "stdout",
     "output_type": "stream",
     "text": [
      "<class 'pandas.core.frame.DataFrame'>\n",
      "Index: 2700 entries, AAACATACAACCAC-1 to TTTGCATGCCTCAC-1\n",
      "Data columns (total 4 columns):\n",
      " #   Column             Non-Null Count  Dtype  \n",
      "---  ------             --------------  -----  \n",
      " 0   n_genes_by_counts  2700 non-null   int32  \n",
      " 1   total_counts       2700 non-null   float32\n",
      " 2   total_counts_mt    2700 non-null   float32\n",
      " 3   pct_counts_mt      2700 non-null   float32\n",
      "dtypes: float32(3), int32(1)\n",
      "memory usage: 127.8+ KB\n",
      "None\n",
      "\n",
      "##########################################\n",
      "\n",
      "<class 'pandas.core.frame.DataFrame'>\n",
      "Index: 32738 entries, MIR1302-10 to AC002321.1\n",
      "Data columns (total 6 columns):\n",
      " #   Column                 Non-Null Count  Dtype  \n",
      "---  ------                 --------------  -----  \n",
      " 0   gene_ids               32738 non-null  object \n",
      " 1   n_cells_by_counts      32738 non-null  int64  \n",
      " 2   mean_counts            32738 non-null  float32\n",
      " 3   pct_dropout_by_counts  32738 non-null  float64\n",
      " 4   total_counts           32738 non-null  float32\n",
      " 5   mt                     32738 non-null  bool   \n",
      "dtypes: bool(1), float32(2), float64(1), int64(1), object(1)\n",
      "memory usage: 2.3+ MB\n",
      "None\n"
     ]
    }
   ],
   "source": [
    "# Print a summary of the AnnData.var dataframe\n",
    "print(adata_wQC.obs.info())\n",
    "print('')\n",
    "print('##########################################')\n",
    "print('')\n",
    "print(adata_wQC.var.info())"
   ]
  },
  {
   "cell_type": "code",
   "execution_count": 85,
   "id": "5497d2c3",
   "metadata": {},
   "outputs": [],
   "source": [
    "#help(sc.pp.calculate_qc_metrics)"
   ]
  },
  {
   "cell_type": "markdown",
   "id": "e49695d4",
   "metadata": {},
   "source": [
    "### Section 4: Filtering cells and genes"
   ]
  },
  {
   "cell_type": "markdown",
   "id": "e6483840",
   "metadata": {},
   "source": [
    "#### Section 4a: Filtering cells with < 200 genes"
   ]
  },
  {
   "cell_type": "code",
   "execution_count": 32,
   "id": "63ac0425",
   "metadata": {},
   "outputs": [
    {
     "data": {
      "text/plain": [
       "AnnData object with n_obs × n_vars = 2700 × 32738\n",
       "    obs: 'n_genes_by_counts', 'total_counts', 'total_counts_mt', 'pct_counts_mt', 'n_genes'\n",
       "    var: 'gene_ids', 'n_cells_by_counts', 'mean_counts', 'pct_dropout_by_counts', 'total_counts', 'mt'"
      ]
     },
     "execution_count": 32,
     "metadata": {},
     "output_type": "execute_result"
    }
   ],
   "source": [
    "adata_wQC_filt = adata_wQC\n",
    "sc.pp.filter_cells(adata_wQC_filt, min_genes=200)\n",
    "adata_wQC_filt"
   ]
  },
  {
   "cell_type": "markdown",
   "id": "987402d0",
   "metadata": {},
   "source": [
    "#### Section 4b: Genes that are expressed in less than “X” cells"
   ]
  },
  {
   "cell_type": "code",
   "execution_count": 33,
   "id": "798f0307",
   "metadata": {},
   "outputs": [
    {
     "name": "stdout",
     "output_type": "stream",
     "text": [
      "AnnData object with n_obs × n_vars = 2700 × 13714\n",
      "    obs: 'n_genes_by_counts', 'total_counts', 'total_counts_mt', 'pct_counts_mt', 'n_genes'\n",
      "    var: 'gene_ids', 'n_cells_by_counts', 'mean_counts', 'pct_dropout_by_counts', 'total_counts', 'mt', 'n_cells'\n",
      "AnnData object with n_obs × n_vars = 2700 × 13714\n",
      "    obs: 'n_genes_by_counts', 'total_counts', 'total_counts_mt', 'pct_counts_mt', 'n_genes'\n",
      "    var: 'gene_ids', 'n_cells_by_counts', 'mean_counts', 'pct_dropout_by_counts', 'total_counts', 'mt', 'n_cells'\n"
     ]
    }
   ],
   "source": [
    "sc.pp.filter_genes(adata_wQC_filt, min_cells=3)\n",
    "print(adata_wQC)\n",
    "print(adata_wQC_filt)"
   ]
  },
  {
   "cell_type": "code",
   "execution_count": 90,
   "id": "d23baaf8",
   "metadata": {},
   "outputs": [
    {
     "data": {
      "text/html": [
       "<div>\n",
       "<style scoped>\n",
       "    .dataframe tbody tr th:only-of-type {\n",
       "        vertical-align: middle;\n",
       "    }\n",
       "\n",
       "    .dataframe tbody tr th {\n",
       "        vertical-align: top;\n",
       "    }\n",
       "\n",
       "    .dataframe thead th {\n",
       "        text-align: right;\n",
       "    }\n",
       "</style>\n",
       "<table border=\"1\" class=\"dataframe\">\n",
       "  <thead>\n",
       "    <tr style=\"text-align: right;\">\n",
       "      <th></th>\n",
       "      <th>gene_ids</th>\n",
       "      <th>n_cells_by_counts</th>\n",
       "      <th>mean_counts</th>\n",
       "      <th>pct_dropout_by_counts</th>\n",
       "      <th>total_counts</th>\n",
       "      <th>mt</th>\n",
       "      <th>n_cells</th>\n",
       "    </tr>\n",
       "  </thead>\n",
       "  <tbody>\n",
       "    <tr>\n",
       "      <th>AL627309.1</th>\n",
       "      <td>ENSG00000237683</td>\n",
       "      <td>9</td>\n",
       "      <td>0.003333</td>\n",
       "      <td>99.666667</td>\n",
       "      <td>9.0</td>\n",
       "      <td>False</td>\n",
       "      <td>9</td>\n",
       "    </tr>\n",
       "    <tr>\n",
       "      <th>AP006222.2</th>\n",
       "      <td>ENSG00000228463</td>\n",
       "      <td>3</td>\n",
       "      <td>0.001111</td>\n",
       "      <td>99.888889</td>\n",
       "      <td>3.0</td>\n",
       "      <td>False</td>\n",
       "      <td>3</td>\n",
       "    </tr>\n",
       "    <tr>\n",
       "      <th>RP11-206L10.2</th>\n",
       "      <td>ENSG00000228327</td>\n",
       "      <td>5</td>\n",
       "      <td>0.001852</td>\n",
       "      <td>99.814815</td>\n",
       "      <td>5.0</td>\n",
       "      <td>False</td>\n",
       "      <td>5</td>\n",
       "    </tr>\n",
       "    <tr>\n",
       "      <th>RP11-206L10.9</th>\n",
       "      <td>ENSG00000237491</td>\n",
       "      <td>3</td>\n",
       "      <td>0.001111</td>\n",
       "      <td>99.888889</td>\n",
       "      <td>3.0</td>\n",
       "      <td>False</td>\n",
       "      <td>3</td>\n",
       "    </tr>\n",
       "    <tr>\n",
       "      <th>LINC00115</th>\n",
       "      <td>ENSG00000225880</td>\n",
       "      <td>18</td>\n",
       "      <td>0.006667</td>\n",
       "      <td>99.333333</td>\n",
       "      <td>18.0</td>\n",
       "      <td>False</td>\n",
       "      <td>18</td>\n",
       "    </tr>\n",
       "    <tr>\n",
       "      <th>...</th>\n",
       "      <td>...</td>\n",
       "      <td>...</td>\n",
       "      <td>...</td>\n",
       "      <td>...</td>\n",
       "      <td>...</td>\n",
       "      <td>...</td>\n",
       "      <td>...</td>\n",
       "    </tr>\n",
       "    <tr>\n",
       "      <th>AC145212.1</th>\n",
       "      <td>ENSG00000215750</td>\n",
       "      <td>16</td>\n",
       "      <td>0.006667</td>\n",
       "      <td>99.407407</td>\n",
       "      <td>18.0</td>\n",
       "      <td>False</td>\n",
       "      <td>16</td>\n",
       "    </tr>\n",
       "    <tr>\n",
       "      <th>AL592183.1</th>\n",
       "      <td>ENSG00000220023</td>\n",
       "      <td>323</td>\n",
       "      <td>0.134815</td>\n",
       "      <td>88.037037</td>\n",
       "      <td>364.0</td>\n",
       "      <td>False</td>\n",
       "      <td>323</td>\n",
       "    </tr>\n",
       "    <tr>\n",
       "      <th>AL354822.1</th>\n",
       "      <td>ENSG00000215615</td>\n",
       "      <td>8</td>\n",
       "      <td>0.002963</td>\n",
       "      <td>99.703704</td>\n",
       "      <td>8.0</td>\n",
       "      <td>False</td>\n",
       "      <td>8</td>\n",
       "    </tr>\n",
       "    <tr>\n",
       "      <th>PNRC2-1</th>\n",
       "      <td>ENSG00000215700</td>\n",
       "      <td>110</td>\n",
       "      <td>0.042963</td>\n",
       "      <td>95.925926</td>\n",
       "      <td>116.0</td>\n",
       "      <td>False</td>\n",
       "      <td>110</td>\n",
       "    </tr>\n",
       "    <tr>\n",
       "      <th>SRSF10-1</th>\n",
       "      <td>ENSG00000215699</td>\n",
       "      <td>69</td>\n",
       "      <td>0.025926</td>\n",
       "      <td>97.444444</td>\n",
       "      <td>70.0</td>\n",
       "      <td>False</td>\n",
       "      <td>69</td>\n",
       "    </tr>\n",
       "  </tbody>\n",
       "</table>\n",
       "<p>13714 rows × 7 columns</p>\n",
       "</div>"
      ],
      "text/plain": [
       "                      gene_ids  n_cells_by_counts  mean_counts  \\\n",
       "AL627309.1     ENSG00000237683                  9     0.003333   \n",
       "AP006222.2     ENSG00000228463                  3     0.001111   \n",
       "RP11-206L10.2  ENSG00000228327                  5     0.001852   \n",
       "RP11-206L10.9  ENSG00000237491                  3     0.001111   \n",
       "LINC00115      ENSG00000225880                 18     0.006667   \n",
       "...                        ...                ...          ...   \n",
       "AC145212.1     ENSG00000215750                 16     0.006667   \n",
       "AL592183.1     ENSG00000220023                323     0.134815   \n",
       "AL354822.1     ENSG00000215615                  8     0.002963   \n",
       "PNRC2-1        ENSG00000215700                110     0.042963   \n",
       "SRSF10-1       ENSG00000215699                 69     0.025926   \n",
       "\n",
       "               pct_dropout_by_counts  total_counts     mt  n_cells  \n",
       "AL627309.1                 99.666667           9.0  False        9  \n",
       "AP006222.2                 99.888889           3.0  False        3  \n",
       "RP11-206L10.2              99.814815           5.0  False        5  \n",
       "RP11-206L10.9              99.888889           3.0  False        3  \n",
       "LINC00115                  99.333333          18.0  False       18  \n",
       "...                              ...           ...    ...      ...  \n",
       "AC145212.1                 99.407407          18.0  False       16  \n",
       "AL592183.1                 88.037037         364.0  False      323  \n",
       "AL354822.1                 99.703704           8.0  False        8  \n",
       "PNRC2-1                    95.925926         116.0  False      110  \n",
       "SRSF10-1                   97.444444          70.0  False       69  \n",
       "\n",
       "[13714 rows x 7 columns]"
      ]
     },
     "execution_count": 90,
     "metadata": {},
     "output_type": "execute_result"
    }
   ],
   "source": [
    "adata_wQC_filt.var"
   ]
  },
  {
   "cell_type": "markdown",
   "id": "c9f9ae60",
   "metadata": {},
   "source": [
    "### Section 5: Normalization"
   ]
  },
  {
   "cell_type": "code",
   "execution_count": 34,
   "id": "c93bc3b9",
   "metadata": {},
   "outputs": [
    {
     "data": {
      "text/plain": [
       "AnnData object with n_obs × n_vars = 2700 × 13714\n",
       "    obs: 'n_genes_by_counts', 'total_counts', 'total_counts_mt', 'pct_counts_mt', 'n_genes'\n",
       "    var: 'gene_ids', 'n_cells_by_counts', 'mean_counts', 'pct_dropout_by_counts', 'total_counts', 'mt', 'n_cells'"
      ]
     },
     "execution_count": 34,
     "metadata": {},
     "output_type": "execute_result"
    }
   ],
   "source": [
    "norm_data = adata_wQC_filt\n",
    "\n",
    "# normalize counts to 10,000 reads per cell\n",
    "sc.pp.normalize_total(norm_data, target_sum=1e4)\n",
    "norm_data"
   ]
  },
  {
   "cell_type": "code",
   "execution_count": 35,
   "id": "cb35c8fc",
   "metadata": {},
   "outputs": [],
   "source": [
    "#log n+1 transform\n",
    "sc.pp.log1p(norm_data)"
   ]
  },
  {
   "cell_type": "code",
   "execution_count": 36,
   "id": "904b7a0b",
   "metadata": {},
   "outputs": [
    {
     "data": {
      "text/plain": [
       "AnnData object with n_obs × n_vars = 2700 × 13714\n",
       "    obs: 'n_genes_by_counts', 'total_counts', 'total_counts_mt', 'pct_counts_mt', 'n_genes'\n",
       "    var: 'gene_ids', 'n_cells_by_counts', 'mean_counts', 'pct_dropout_by_counts', 'total_counts', 'mt', 'n_cells'\n",
       "    uns: 'log1p'"
      ]
     },
     "execution_count": 36,
     "metadata": {},
     "output_type": "execute_result"
    }
   ],
   "source": [
    "norm_data"
   ]
  },
  {
   "cell_type": "code",
   "execution_count": 37,
   "id": "d75184a5",
   "metadata": {},
   "outputs": [
    {
     "data": {
      "text/plain": [
       "OverloadedDict, wrapping:\n",
       "\tOrderedDict([('log1p', {'base': None})])\n",
       "With overloaded keys:\n",
       "\t['neighbors']."
      ]
     },
     "execution_count": 37,
     "metadata": {},
     "output_type": "execute_result"
    }
   ],
   "source": [
    "norm_data.uns"
   ]
  },
  {
   "cell_type": "code",
   "execution_count": 38,
   "id": "3cfc7c00",
   "metadata": {},
   "outputs": [
    {
     "data": {
      "text/plain": [
       "{'base': None}"
      ]
     },
     "execution_count": 38,
     "metadata": {},
     "output_type": "execute_result"
    }
   ],
   "source": [
    "norm_data.uns['log1p']"
   ]
  },
  {
   "cell_type": "code",
   "execution_count": 39,
   "id": "059d14ba",
   "metadata": {},
   "outputs": [],
   "source": [
    "# identify highly variable genes\n",
    "#help(sc.pp.highly_variable_genes)\n",
    "sc.pp.highly_variable_genes(norm_data, n_top_genes=4000)\n",
    "#sc.pp.highly_variable_genes(norm_data, n_top_genes=4000, layer=\"counts\", flavor=\"seurat_v3\" )"
   ]
  },
  {
   "cell_type": "code",
   "execution_count": 40,
   "id": "9c12f196",
   "metadata": {},
   "outputs": [
    {
     "data": {
      "text/plain": [
       "AnnData object with n_obs × n_vars = 2700 × 13714\n",
       "    obs: 'n_genes_by_counts', 'total_counts', 'total_counts_mt', 'pct_counts_mt', 'n_genes'\n",
       "    var: 'gene_ids', 'n_cells_by_counts', 'mean_counts', 'pct_dropout_by_counts', 'total_counts', 'mt', 'n_cells', 'highly_variable', 'means', 'dispersions', 'dispersions_norm'\n",
       "    uns: 'log1p', 'hvg'"
      ]
     },
     "execution_count": 40,
     "metadata": {},
     "output_type": "execute_result"
    }
   ],
   "source": [
    "norm_data"
   ]
  },
  {
   "cell_type": "code",
   "execution_count": 41,
   "id": "bd6d626e",
   "metadata": {},
   "outputs": [
    {
     "data": {
      "text/plain": [
       "OverloadedDict, wrapping:\n",
       "\tOrderedDict([('log1p', {'base': None}), ('hvg', {'flavor': 'seurat'})])\n",
       "With overloaded keys:\n",
       "\t['neighbors']."
      ]
     },
     "execution_count": 41,
     "metadata": {},
     "output_type": "execute_result"
    }
   ],
   "source": [
    "norm_data.uns"
   ]
  },
  {
   "cell_type": "markdown",
   "id": "3ebe6a42",
   "metadata": {},
   "source": [
    "### Section 6: Finding Highly variable genes"
   ]
  },
  {
   "cell_type": "code",
   "execution_count": 43,
   "id": "fe2dea85",
   "metadata": {},
   "outputs": [],
   "source": [
    "HVG_data = norm_data.copy()\n",
    "#filter to only include HVGs\n",
    "HVG_data.raw = HVG_data # freeze state of HVG_data by saving as raw attribute\n",
    "HVG_data = HVG_data[:, HVG_data.var.highly_variable].copy()"
   ]
  },
  {
   "cell_type": "code",
   "execution_count": 44,
   "id": "af81b3b4",
   "metadata": {},
   "outputs": [
    {
     "name": "stdout",
     "output_type": "stream",
     "text": [
      "AnnData object with n_obs × n_vars = 2700 × 13714\n",
      "    obs: 'n_genes_by_counts', 'total_counts', 'total_counts_mt', 'pct_counts_mt', 'n_genes'\n",
      "    var: 'gene_ids', 'n_cells_by_counts', 'mean_counts', 'pct_dropout_by_counts', 'total_counts', 'mt', 'n_cells', 'highly_variable', 'means', 'dispersions', 'dispersions_norm'\n",
      "    uns: 'log1p', 'hvg'\n",
      "#######################################\n",
      "AnnData object with n_obs × n_vars = 2700 × 4000\n",
      "    obs: 'n_genes_by_counts', 'total_counts', 'total_counts_mt', 'pct_counts_mt', 'n_genes'\n",
      "    var: 'gene_ids', 'n_cells_by_counts', 'mean_counts', 'pct_dropout_by_counts', 'total_counts', 'mt', 'n_cells', 'highly_variable', 'means', 'dispersions', 'dispersions_norm'\n",
      "    uns: 'log1p', 'hvg'\n"
     ]
    }
   ],
   "source": [
    "print(norm_data)\n",
    "print(\"#######################################\")\n",
    "print(HVG_data)"
   ]
  },
  {
   "cell_type": "code",
   "execution_count": 107,
   "id": "918e228d",
   "metadata": {},
   "outputs": [
    {
     "data": {
      "text/plain": [
       "{'base': None}"
      ]
     },
     "execution_count": 107,
     "metadata": {},
     "output_type": "execute_result"
    }
   ],
   "source": [
    "HVG_data.uns['log1p']"
   ]
  },
  {
   "cell_type": "code",
   "execution_count": 109,
   "id": "5412244a",
   "metadata": {},
   "outputs": [
    {
     "data": {
      "text/plain": [
       "{'flavor': 'seurat'}"
      ]
     },
     "execution_count": 109,
     "metadata": {},
     "output_type": "execute_result"
    }
   ],
   "source": [
    "HVG_data.uns['hvg']"
   ]
  },
  {
   "cell_type": "markdown",
   "id": "4ba6359d",
   "metadata": {},
   "source": [
    "### Section 7: Scaling the data"
   ]
  },
  {
   "cell_type": "code",
   "execution_count": 46,
   "id": "9a7f7e38",
   "metadata": {},
   "outputs": [],
   "source": [
    "pcHVG_data = HVG_data.copy()\n",
    "#scale to unit variance for PCA, clip values exceding var 10\n",
    "sc.pp.scale(pcHVG_data, max_value=10)"
   ]
  },
  {
   "cell_type": "code",
   "execution_count": 47,
   "id": "cf270713",
   "metadata": {},
   "outputs": [
    {
     "name": "stdout",
     "output_type": "stream",
     "text": [
      "AnnData object with n_obs × n_vars = 2700 × 4000\n",
      "    obs: 'n_genes_by_counts', 'total_counts', 'total_counts_mt', 'pct_counts_mt', 'n_genes'\n",
      "    var: 'gene_ids', 'n_cells_by_counts', 'mean_counts', 'pct_dropout_by_counts', 'total_counts', 'mt', 'n_cells', 'highly_variable', 'means', 'dispersions', 'dispersions_norm'\n",
      "    uns: 'log1p', 'hvg'\n",
      "AnnData object with n_obs × n_vars = 2700 × 4000\n",
      "    obs: 'n_genes_by_counts', 'total_counts', 'total_counts_mt', 'pct_counts_mt', 'n_genes'\n",
      "    var: 'gene_ids', 'n_cells_by_counts', 'mean_counts', 'pct_dropout_by_counts', 'total_counts', 'mt', 'n_cells', 'highly_variable', 'means', 'dispersions', 'dispersions_norm', 'mean', 'std'\n",
      "    uns: 'log1p', 'hvg'\n"
     ]
    }
   ],
   "source": [
    "print(HVG_data)\n",
    "print(pcHVG_data)"
   ]
  },
  {
   "cell_type": "markdown",
   "id": "4d6c60ec",
   "metadata": {},
   "source": [
    "### Section 8: Perform PCA"
   ]
  },
  {
   "cell_type": "code",
   "execution_count": 48,
   "id": "a5cc5901",
   "metadata": {},
   "outputs": [],
   "source": [
    "sc.tl.pca(pcHVG_data)"
   ]
  },
  {
   "cell_type": "code",
   "execution_count": 49,
   "id": "4a468e20",
   "metadata": {},
   "outputs": [
    {
     "name": "stdout",
     "output_type": "stream",
     "text": [
      "AnnData object with n_obs × n_vars = 2700 × 4000\n",
      "    obs: 'n_genes_by_counts', 'total_counts', 'total_counts_mt', 'pct_counts_mt', 'n_genes'\n",
      "    var: 'gene_ids', 'n_cells_by_counts', 'mean_counts', 'pct_dropout_by_counts', 'total_counts', 'mt', 'n_cells', 'highly_variable', 'means', 'dispersions', 'dispersions_norm', 'mean', 'std'\n",
      "    uns: 'log1p', 'hvg', 'pca'\n",
      "    obsm: 'X_pca'\n",
      "    varm: 'PCs'\n"
     ]
    }
   ],
   "source": [
    "print(pcHVG_data)"
   ]
  },
  {
   "cell_type": "code",
   "execution_count": 117,
   "id": "75b330e1",
   "metadata": {},
   "outputs": [
    {
     "data": {
      "text/plain": [
       "{'base': None}"
      ]
     },
     "execution_count": 117,
     "metadata": {},
     "output_type": "execute_result"
    }
   ],
   "source": [
    "pcHVG_data.uns['log1p']"
   ]
  },
  {
   "cell_type": "code",
   "execution_count": 118,
   "id": "31193b15",
   "metadata": {},
   "outputs": [
    {
     "data": {
      "text/plain": [
       "{'flavor': 'seurat'}"
      ]
     },
     "execution_count": 118,
     "metadata": {},
     "output_type": "execute_result"
    }
   ],
   "source": [
    "pcHVG_data.uns['hvg']"
   ]
  },
  {
   "cell_type": "code",
   "execution_count": 116,
   "id": "aac36a71",
   "metadata": {},
   "outputs": [
    {
     "data": {
      "text/plain": [
       "{'params': {'zero_center': True, 'use_highly_variable': True},\n",
       " 'variance': array([59.07857  , 29.192837 , 20.505127 , 19.913877 , 13.975718 ,\n",
       "         8.143864 ,  6.0871806,  5.586012 ,  5.0385623,  4.9421887,\n",
       "         4.560308 ,  4.536615 ,  4.420329 ,  4.328834 ,  4.3070846,\n",
       "         4.1910553,  4.143069 ,  4.08774  ,  4.07924  ,  4.054018 ,\n",
       "         4.033353 ,  4.0148263,  4.003675 ,  3.988926 ,  3.9848216,\n",
       "         3.9773893,  3.954    ,  3.9429932,  3.927587 ,  3.9072323,\n",
       "         3.893893 ,  3.8911047,  3.8843768,  3.8766813,  3.8654687,\n",
       "         3.8575692,  3.8456488,  3.839046 ,  3.8246264,  3.8195994,\n",
       "         3.810368 ,  3.8057752,  3.7891302,  3.7813492,  3.7794983,\n",
       "         3.768635 ,  3.760048 ,  3.747981 ,  3.7378843,  3.730991 ],\n",
       "       dtype=float32),\n",
       " 'variance_ratio': array([0.01856284, 0.00917256, 0.00644283, 0.00625706, 0.00439125,\n",
       "        0.00255885, 0.00191263, 0.00175516, 0.00158315, 0.00155287,\n",
       "        0.00143288, 0.00142543, 0.00138889, 0.00136015, 0.00135331,\n",
       "        0.00131685, 0.00130178, 0.00128439, 0.00128172, 0.0012738 ,\n",
       "        0.0012673 , 0.00126148, 0.00125798, 0.00125334, 0.00125205,\n",
       "        0.00124972, 0.00124237, 0.00123891, 0.00123407, 0.00122768,\n",
       "        0.00122348, 0.00122261, 0.00122049, 0.00121808, 0.00121455,\n",
       "        0.00121207, 0.00120833, 0.00120625, 0.00120172, 0.00120014,\n",
       "        0.00119724, 0.0011958 , 0.00119057, 0.00118812, 0.00118754,\n",
       "        0.00118413, 0.00118143, 0.00117764, 0.00117447, 0.0011723 ],\n",
       "       dtype=float32)}"
      ]
     },
     "execution_count": 116,
     "metadata": {},
     "output_type": "execute_result"
    }
   ],
   "source": [
    "pcHVG_data.uns['pca']"
   ]
  },
  {
   "cell_type": "code",
   "execution_count": 123,
   "id": "cd767f8c",
   "metadata": {},
   "outputs": [
    {
     "name": "stdout",
     "output_type": "stream",
     "text": [
      "dict_keys(['params', 'variance', 'variance_ratio'])\n"
     ]
    }
   ],
   "source": [
    "print(pcHVG_data.uns['pca'].keys())\n",
    "#print(type(pcHVG_data.uns['pca']))"
   ]
  },
  {
   "cell_type": "code",
   "execution_count": 125,
   "id": "de8b54d5",
   "metadata": {},
   "outputs": [
    {
     "data": {
      "text/plain": [
       "{'zero_center': True, 'use_highly_variable': True}"
      ]
     },
     "execution_count": 125,
     "metadata": {},
     "output_type": "execute_result"
    }
   ],
   "source": [
    "pcHVG_data.uns['pca']['params']"
   ]
  },
  {
   "cell_type": "code",
   "execution_count": 124,
   "id": "c0d57942",
   "metadata": {},
   "outputs": [
    {
     "data": {
      "text/plain": [
       "array([59.07857  , 29.192837 , 20.505127 , 19.913877 , 13.975718 ,\n",
       "        8.143864 ,  6.0871806,  5.586012 ,  5.0385623,  4.9421887,\n",
       "        4.560308 ,  4.536615 ,  4.420329 ,  4.328834 ,  4.3070846,\n",
       "        4.1910553,  4.143069 ,  4.08774  ,  4.07924  ,  4.054018 ,\n",
       "        4.033353 ,  4.0148263,  4.003675 ,  3.988926 ,  3.9848216,\n",
       "        3.9773893,  3.954    ,  3.9429932,  3.927587 ,  3.9072323,\n",
       "        3.893893 ,  3.8911047,  3.8843768,  3.8766813,  3.8654687,\n",
       "        3.8575692,  3.8456488,  3.839046 ,  3.8246264,  3.8195994,\n",
       "        3.810368 ,  3.8057752,  3.7891302,  3.7813492,  3.7794983,\n",
       "        3.768635 ,  3.760048 ,  3.747981 ,  3.7378843,  3.730991 ],\n",
       "      dtype=float32)"
      ]
     },
     "execution_count": 124,
     "metadata": {},
     "output_type": "execute_result"
    }
   ],
   "source": [
    "pcHVG_data.uns['pca']['variance']"
   ]
  },
  {
   "cell_type": "code",
   "execution_count": 152,
   "id": "00c2debc",
   "metadata": {},
   "outputs": [
    {
     "name": "stdout",
     "output_type": "stream",
     "text": [
      "AnnData object with n_obs × n_vars = 2700 × 4000\n",
      "    obs: 'n_genes_by_counts', 'total_counts', 'total_counts_mt', 'pct_counts_mt', 'n_genes'\n",
      "    var: 'gene_ids', 'n_cells_by_counts', 'mean_counts', 'pct_dropout_by_counts', 'total_counts', 'mt', 'n_cells', 'highly_variable', 'means', 'dispersions', 'dispersions_norm', 'mean', 'std'\n",
      "    uns: 'log1p', 'hvg', 'pca'\n",
      "    obsm: 'X_pca'\n",
      "    varm: 'PCs'\n"
     ]
    }
   ],
   "source": [
    "print(pcHVG_data)"
   ]
  },
  {
   "cell_type": "code",
   "execution_count": 175,
   "id": "209ed910",
   "metadata": {},
   "outputs": [
    {
     "data": {
      "text/html": [
       "<div>\n",
       "<style scoped>\n",
       "    .dataframe tbody tr th:only-of-type {\n",
       "        vertical-align: middle;\n",
       "    }\n",
       "\n",
       "    .dataframe tbody tr th {\n",
       "        vertical-align: top;\n",
       "    }\n",
       "\n",
       "    .dataframe thead th {\n",
       "        text-align: right;\n",
       "    }\n",
       "</style>\n",
       "<table border=\"1\" class=\"dataframe\">\n",
       "  <thead>\n",
       "    <tr style=\"text-align: right;\">\n",
       "      <th></th>\n",
       "      <th>X_pca1</th>\n",
       "      <th>X_pca2</th>\n",
       "      <th>X_pca3</th>\n",
       "      <th>X_pca4</th>\n",
       "      <th>X_pca5</th>\n",
       "      <th>X_pca6</th>\n",
       "      <th>X_pca7</th>\n",
       "      <th>X_pca8</th>\n",
       "      <th>X_pca9</th>\n",
       "      <th>X_pca10</th>\n",
       "      <th>...</th>\n",
       "      <th>X_pca43</th>\n",
       "      <th>X_pca44</th>\n",
       "      <th>X_pca45</th>\n",
       "      <th>X_pca46</th>\n",
       "      <th>X_pca47</th>\n",
       "      <th>X_pca48</th>\n",
       "      <th>X_pca49</th>\n",
       "      <th>X_pca50</th>\n",
       "      <th>X_umap1</th>\n",
       "      <th>X_umap2</th>\n",
       "    </tr>\n",
       "  </thead>\n",
       "  <tbody>\n",
       "    <tr>\n",
       "      <th>AAACATACAACCAC-1</th>\n",
       "      <td>-5.477530</td>\n",
       "      <td>0.715857</td>\n",
       "      <td>-2.960063</td>\n",
       "      <td>0.633411</td>\n",
       "      <td>1.318296</td>\n",
       "      <td>-0.074125</td>\n",
       "      <td>-1.486689</td>\n",
       "      <td>-1.352830</td>\n",
       "      <td>1.634555</td>\n",
       "      <td>2.219655</td>\n",
       "      <td>...</td>\n",
       "      <td>-1.738760</td>\n",
       "      <td>1.784545</td>\n",
       "      <td>3.426666</td>\n",
       "      <td>0.360400</td>\n",
       "      <td>0.503728</td>\n",
       "      <td>-1.503804</td>\n",
       "      <td>-2.738533</td>\n",
       "      <td>0.122488</td>\n",
       "      <td>-1.541273</td>\n",
       "      <td>5.418859</td>\n",
       "    </tr>\n",
       "    <tr>\n",
       "      <th>AAACATTGAGCTAC-1</th>\n",
       "      <td>-0.820331</td>\n",
       "      <td>-4.702875</td>\n",
       "      <td>11.032924</td>\n",
       "      <td>-2.500843</td>\n",
       "      <td>3.237437</td>\n",
       "      <td>2.677763</td>\n",
       "      <td>-2.952067</td>\n",
       "      <td>0.112239</td>\n",
       "      <td>0.480042</td>\n",
       "      <td>-0.911582</td>\n",
       "      <td>...</td>\n",
       "      <td>0.399727</td>\n",
       "      <td>-2.678752</td>\n",
       "      <td>-0.970847</td>\n",
       "      <td>4.928336</td>\n",
       "      <td>-5.920250</td>\n",
       "      <td>0.073277</td>\n",
       "      <td>0.791851</td>\n",
       "      <td>-3.349849</td>\n",
       "      <td>2.913537</td>\n",
       "      <td>-3.763874</td>\n",
       "    </tr>\n",
       "    <tr>\n",
       "      <th>AAACATTGATCAGC-1</th>\n",
       "      <td>-2.573961</td>\n",
       "      <td>4.108792</td>\n",
       "      <td>-2.498273</td>\n",
       "      <td>-0.322534</td>\n",
       "      <td>5.859278</td>\n",
       "      <td>0.857805</td>\n",
       "      <td>-0.658636</td>\n",
       "      <td>-2.511125</td>\n",
       "      <td>-2.916985</td>\n",
       "      <td>0.102671</td>\n",
       "      <td>...</td>\n",
       "      <td>-3.622578</td>\n",
       "      <td>0.020767</td>\n",
       "      <td>-1.230849</td>\n",
       "      <td>3.851016</td>\n",
       "      <td>2.569130</td>\n",
       "      <td>-1.998992</td>\n",
       "      <td>-0.308600</td>\n",
       "      <td>1.198592</td>\n",
       "      <td>0.133103</td>\n",
       "      <td>4.117806</td>\n",
       "    </tr>\n",
       "    <tr>\n",
       "      <th>AAACCGTGCTTCCG-1</th>\n",
       "      <td>14.516243</td>\n",
       "      <td>0.169565</td>\n",
       "      <td>-0.118788</td>\n",
       "      <td>-0.798527</td>\n",
       "      <td>1.718221</td>\n",
       "      <td>-3.389217</td>\n",
       "      <td>-0.790791</td>\n",
       "      <td>1.324942</td>\n",
       "      <td>-1.009531</td>\n",
       "      <td>-1.546413</td>\n",
       "      <td>...</td>\n",
       "      <td>-1.088963</td>\n",
       "      <td>-0.782975</td>\n",
       "      <td>-0.566288</td>\n",
       "      <td>-0.265570</td>\n",
       "      <td>1.749574</td>\n",
       "      <td>-0.006723</td>\n",
       "      <td>-1.364727</td>\n",
       "      <td>-1.237275</td>\n",
       "      <td>14.170448</td>\n",
       "      <td>7.506547</td>\n",
       "    </tr>\n",
       "    <tr>\n",
       "      <th>AAACCGTGTATGCG-1</th>\n",
       "      <td>-0.938967</td>\n",
       "      <td>9.569853</td>\n",
       "      <td>5.534804</td>\n",
       "      <td>0.385296</td>\n",
       "      <td>-9.667472</td>\n",
       "      <td>-0.109913</td>\n",
       "      <td>5.885808</td>\n",
       "      <td>3.633748</td>\n",
       "      <td>-4.835961</td>\n",
       "      <td>-0.906669</td>\n",
       "      <td>...</td>\n",
       "      <td>-4.972777</td>\n",
       "      <td>-4.369856</td>\n",
       "      <td>-2.144444</td>\n",
       "      <td>-0.679863</td>\n",
       "      <td>-0.946739</td>\n",
       "      <td>-0.115438</td>\n",
       "      <td>-1.786590</td>\n",
       "      <td>-3.133774</td>\n",
       "      <td>-3.011772</td>\n",
       "      <td>8.460660</td>\n",
       "    </tr>\n",
       "  </tbody>\n",
       "</table>\n",
       "<p>5 rows × 52 columns</p>\n",
       "</div>"
      ],
      "text/plain": [
       "                     X_pca1    X_pca2     X_pca3    X_pca4    X_pca5  \\\n",
       "AAACATACAACCAC-1  -5.477530  0.715857  -2.960063  0.633411  1.318296   \n",
       "AAACATTGAGCTAC-1  -0.820331 -4.702875  11.032924 -2.500843  3.237437   \n",
       "AAACATTGATCAGC-1  -2.573961  4.108792  -2.498273 -0.322534  5.859278   \n",
       "AAACCGTGCTTCCG-1  14.516243  0.169565  -0.118788 -0.798527  1.718221   \n",
       "AAACCGTGTATGCG-1  -0.938967  9.569853   5.534804  0.385296 -9.667472   \n",
       "\n",
       "                    X_pca6    X_pca7    X_pca8    X_pca9   X_pca10  ...  \\\n",
       "AAACATACAACCAC-1 -0.074125 -1.486689 -1.352830  1.634555  2.219655  ...   \n",
       "AAACATTGAGCTAC-1  2.677763 -2.952067  0.112239  0.480042 -0.911582  ...   \n",
       "AAACATTGATCAGC-1  0.857805 -0.658636 -2.511125 -2.916985  0.102671  ...   \n",
       "AAACCGTGCTTCCG-1 -3.389217 -0.790791  1.324942 -1.009531 -1.546413  ...   \n",
       "AAACCGTGTATGCG-1 -0.109913  5.885808  3.633748 -4.835961 -0.906669  ...   \n",
       "\n",
       "                   X_pca43   X_pca44   X_pca45   X_pca46   X_pca47   X_pca48  \\\n",
       "AAACATACAACCAC-1 -1.738760  1.784545  3.426666  0.360400  0.503728 -1.503804   \n",
       "AAACATTGAGCTAC-1  0.399727 -2.678752 -0.970847  4.928336 -5.920250  0.073277   \n",
       "AAACATTGATCAGC-1 -3.622578  0.020767 -1.230849  3.851016  2.569130 -1.998992   \n",
       "AAACCGTGCTTCCG-1 -1.088963 -0.782975 -0.566288 -0.265570  1.749574 -0.006723   \n",
       "AAACCGTGTATGCG-1 -4.972777 -4.369856 -2.144444 -0.679863 -0.946739 -0.115438   \n",
       "\n",
       "                   X_pca49   X_pca50    X_umap1   X_umap2  \n",
       "AAACATACAACCAC-1 -2.738533  0.122488  -1.541273  5.418859  \n",
       "AAACATTGAGCTAC-1  0.791851 -3.349849   2.913537 -3.763874  \n",
       "AAACATTGATCAGC-1 -0.308600  1.198592   0.133103  4.117806  \n",
       "AAACCGTGCTTCCG-1 -1.364727 -1.237275  14.170448  7.506547  \n",
       "AAACCGTGTATGCG-1 -1.786590 -3.133774  -3.011772  8.460660  \n",
       "\n",
       "[5 rows x 52 columns]"
      ]
     },
     "execution_count": 175,
     "metadata": {},
     "output_type": "execute_result"
    }
   ],
   "source": [
    "# Performing PCA on AnnData object resulted in matrix of PC's stored in the obsm under the 'X_pca' key. \n",
    "\n",
    "# Advantages of obsm matrix: \n",
    "# - keeps the original data stored in the X matrix in the AnnData object intact.\n",
    "# - also allows us to access the transformed data.\n",
    "\n",
    "# The X_pca key in the obsm matrix has same number of rows as the original data matrix (X), \n",
    "# but with fewer columns, where each column represents a principal component and \n",
    "# the columns are ordered by the amount of variance they explain.\n",
    "\n",
    "pcHVG_data.obsm.to_df()"
   ]
  },
  {
   "cell_type": "code",
   "execution_count": 174,
   "id": "143c34f9",
   "metadata": {},
   "outputs": [
    {
     "data": {
      "text/html": [
       "<div>\n",
       "<style scoped>\n",
       "    .dataframe tbody tr th:only-of-type {\n",
       "        vertical-align: middle;\n",
       "    }\n",
       "\n",
       "    .dataframe tbody tr th {\n",
       "        vertical-align: top;\n",
       "    }\n",
       "\n",
       "    .dataframe thead th {\n",
       "        text-align: right;\n",
       "    }\n",
       "</style>\n",
       "<table border=\"1\" class=\"dataframe\">\n",
       "  <thead>\n",
       "    <tr style=\"text-align: right;\">\n",
       "      <th></th>\n",
       "      <th>PCs1</th>\n",
       "      <th>PCs2</th>\n",
       "      <th>PCs3</th>\n",
       "      <th>PCs4</th>\n",
       "      <th>PCs5</th>\n",
       "      <th>PCs6</th>\n",
       "      <th>PCs7</th>\n",
       "      <th>PCs8</th>\n",
       "      <th>PCs9</th>\n",
       "      <th>PCs10</th>\n",
       "      <th>...</th>\n",
       "      <th>PCs41</th>\n",
       "      <th>PCs42</th>\n",
       "      <th>PCs43</th>\n",
       "      <th>PCs44</th>\n",
       "      <th>PCs45</th>\n",
       "      <th>PCs46</th>\n",
       "      <th>PCs47</th>\n",
       "      <th>PCs48</th>\n",
       "      <th>PCs49</th>\n",
       "      <th>PCs50</th>\n",
       "    </tr>\n",
       "  </thead>\n",
       "  <tbody>\n",
       "    <tr>\n",
       "      <th>ISG15</th>\n",
       "      <td>0.053727</td>\n",
       "      <td>0.022210</td>\n",
       "      <td>-0.001733</td>\n",
       "      <td>-2.318774e-02</td>\n",
       "      <td>0.020849</td>\n",
       "      <td>-0.010598</td>\n",
       "      <td>0.008700</td>\n",
       "      <td>-0.012328</td>\n",
       "      <td>-0.050047</td>\n",
       "      <td>-0.018530</td>\n",
       "      <td>...</td>\n",
       "      <td>-0.005327</td>\n",
       "      <td>0.030692</td>\n",
       "      <td>-0.006025</td>\n",
       "      <td>0.029539</td>\n",
       "      <td>-0.044226</td>\n",
       "      <td>-0.001523</td>\n",
       "      <td>-0.000419</td>\n",
       "      <td>0.007766</td>\n",
       "      <td>-0.004751</td>\n",
       "      <td>0.010584</td>\n",
       "    </tr>\n",
       "    <tr>\n",
       "      <th>AGRN</th>\n",
       "      <td>0.005227</td>\n",
       "      <td>-0.000743</td>\n",
       "      <td>-0.000993</td>\n",
       "      <td>-1.347366e-03</td>\n",
       "      <td>-0.003032</td>\n",
       "      <td>0.010725</td>\n",
       "      <td>-0.002312</td>\n",
       "      <td>-0.000986</td>\n",
       "      <td>0.006174</td>\n",
       "      <td>-0.003950</td>\n",
       "      <td>...</td>\n",
       "      <td>0.000603</td>\n",
       "      <td>0.009026</td>\n",
       "      <td>-0.001763</td>\n",
       "      <td>-0.009178</td>\n",
       "      <td>0.015277</td>\n",
       "      <td>-0.000957</td>\n",
       "      <td>0.013917</td>\n",
       "      <td>-0.001940</td>\n",
       "      <td>0.000806</td>\n",
       "      <td>-0.004886</td>\n",
       "    </tr>\n",
       "    <tr>\n",
       "      <th>TNFRSF18</th>\n",
       "      <td>-0.010687</td>\n",
       "      <td>0.023001</td>\n",
       "      <td>0.004487</td>\n",
       "      <td>-7.977050e-03</td>\n",
       "      <td>0.009476</td>\n",
       "      <td>0.018253</td>\n",
       "      <td>0.009051</td>\n",
       "      <td>-0.041630</td>\n",
       "      <td>-0.031039</td>\n",
       "      <td>0.024178</td>\n",
       "      <td>...</td>\n",
       "      <td>0.018612</td>\n",
       "      <td>-0.025120</td>\n",
       "      <td>-0.005118</td>\n",
       "      <td>0.026357</td>\n",
       "      <td>0.017693</td>\n",
       "      <td>0.010709</td>\n",
       "      <td>0.002404</td>\n",
       "      <td>-0.005661</td>\n",
       "      <td>-0.000502</td>\n",
       "      <td>-0.014922</td>\n",
       "    </tr>\n",
       "    <tr>\n",
       "      <th>TNFRSF4</th>\n",
       "      <td>-0.016552</td>\n",
       "      <td>0.011639</td>\n",
       "      <td>-0.024095</td>\n",
       "      <td>-1.610899e-03</td>\n",
       "      <td>0.031614</td>\n",
       "      <td>0.014386</td>\n",
       "      <td>-0.003328</td>\n",
       "      <td>-0.045388</td>\n",
       "      <td>-0.089023</td>\n",
       "      <td>-0.010078</td>\n",
       "      <td>...</td>\n",
       "      <td>0.026440</td>\n",
       "      <td>-0.004436</td>\n",
       "      <td>-0.000299</td>\n",
       "      <td>-0.006095</td>\n",
       "      <td>0.029451</td>\n",
       "      <td>-0.005936</td>\n",
       "      <td>-0.001998</td>\n",
       "      <td>-0.021159</td>\n",
       "      <td>-0.030173</td>\n",
       "      <td>-0.015996</td>\n",
       "    </tr>\n",
       "    <tr>\n",
       "      <th>FAM132A</th>\n",
       "      <td>0.000198</td>\n",
       "      <td>0.000823</td>\n",
       "      <td>-0.000944</td>\n",
       "      <td>6.204723e-07</td>\n",
       "      <td>-0.001018</td>\n",
       "      <td>0.000746</td>\n",
       "      <td>-0.006141</td>\n",
       "      <td>-0.000958</td>\n",
       "      <td>0.005005</td>\n",
       "      <td>0.000591</td>\n",
       "      <td>...</td>\n",
       "      <td>0.000123</td>\n",
       "      <td>-0.001001</td>\n",
       "      <td>0.004343</td>\n",
       "      <td>-0.000929</td>\n",
       "      <td>0.003103</td>\n",
       "      <td>-0.007054</td>\n",
       "      <td>-0.002334</td>\n",
       "      <td>0.003393</td>\n",
       "      <td>0.001328</td>\n",
       "      <td>0.003789</td>\n",
       "    </tr>\n",
       "  </tbody>\n",
       "</table>\n",
       "<p>5 rows × 50 columns</p>\n",
       "</div>"
      ],
      "text/plain": [
       "              PCs1      PCs2      PCs3          PCs4      PCs5      PCs6  \\\n",
       "ISG15     0.053727  0.022210 -0.001733 -2.318774e-02  0.020849 -0.010598   \n",
       "AGRN      0.005227 -0.000743 -0.000993 -1.347366e-03 -0.003032  0.010725   \n",
       "TNFRSF18 -0.010687  0.023001  0.004487 -7.977050e-03  0.009476  0.018253   \n",
       "TNFRSF4  -0.016552  0.011639 -0.024095 -1.610899e-03  0.031614  0.014386   \n",
       "FAM132A   0.000198  0.000823 -0.000944  6.204723e-07 -0.001018  0.000746   \n",
       "\n",
       "              PCs7      PCs8      PCs9     PCs10  ...     PCs41     PCs42  \\\n",
       "ISG15     0.008700 -0.012328 -0.050047 -0.018530  ... -0.005327  0.030692   \n",
       "AGRN     -0.002312 -0.000986  0.006174 -0.003950  ...  0.000603  0.009026   \n",
       "TNFRSF18  0.009051 -0.041630 -0.031039  0.024178  ...  0.018612 -0.025120   \n",
       "TNFRSF4  -0.003328 -0.045388 -0.089023 -0.010078  ...  0.026440 -0.004436   \n",
       "FAM132A  -0.006141 -0.000958  0.005005  0.000591  ...  0.000123 -0.001001   \n",
       "\n",
       "             PCs43     PCs44     PCs45     PCs46     PCs47     PCs48  \\\n",
       "ISG15    -0.006025  0.029539 -0.044226 -0.001523 -0.000419  0.007766   \n",
       "AGRN     -0.001763 -0.009178  0.015277 -0.000957  0.013917 -0.001940   \n",
       "TNFRSF18 -0.005118  0.026357  0.017693  0.010709  0.002404 -0.005661   \n",
       "TNFRSF4  -0.000299 -0.006095  0.029451 -0.005936 -0.001998 -0.021159   \n",
       "FAM132A   0.004343 -0.000929  0.003103 -0.007054 -0.002334  0.003393   \n",
       "\n",
       "             PCs49     PCs50  \n",
       "ISG15    -0.004751  0.010584  \n",
       "AGRN      0.000806 -0.004886  \n",
       "TNFRSF18 -0.000502 -0.014922  \n",
       "TNFRSF4  -0.030173 -0.015996  \n",
       "FAM132A   0.001328  0.003789  \n",
       "\n",
       "[5 rows x 50 columns]"
      ]
     },
     "execution_count": 174,
     "metadata": {},
     "output_type": "execute_result"
    }
   ],
   "source": [
    "pcHVG_data.varm.to_df().head()"
   ]
  },
  {
   "cell_type": "markdown",
   "id": "e41653b1",
   "metadata": {},
   "source": [
    "### Section 9: Finding Neighbors"
   ]
  },
  {
   "cell_type": "code",
   "execution_count": 159,
   "id": "449c8994",
   "metadata": {},
   "outputs": [],
   "source": [
    "sc.pp.neighbors(pcHVG_data)"
   ]
  },
  {
   "cell_type": "code",
   "execution_count": 160,
   "id": "600f625a",
   "metadata": {},
   "outputs": [
    {
     "data": {
      "text/plain": [
       "AnnData object with n_obs × n_vars = 2700 × 4000\n",
       "    obs: 'n_genes_by_counts', 'total_counts', 'total_counts_mt', 'pct_counts_mt', 'n_genes'\n",
       "    var: 'gene_ids', 'n_cells_by_counts', 'mean_counts', 'pct_dropout_by_counts', 'total_counts', 'mt', 'n_cells', 'highly_variable', 'means', 'dispersions', 'dispersions_norm', 'mean', 'std'\n",
       "    uns: 'log1p', 'hvg', 'pca', 'neighbors'\n",
       "    obsm: 'X_pca'\n",
       "    varm: 'PCs'\n",
       "    obsp: 'distances', 'connectivities'"
      ]
     },
     "execution_count": 160,
     "metadata": {},
     "output_type": "execute_result"
    }
   ],
   "source": [
    "pcHVG_data"
   ]
  },
  {
   "cell_type": "code",
   "execution_count": 161,
   "id": "f07e3893",
   "metadata": {},
   "outputs": [
    {
     "data": {
      "text/plain": [
       "PairwiseArrays with keys: distances, connectivities"
      ]
     },
     "execution_count": 161,
     "metadata": {},
     "output_type": "execute_result"
    }
   ],
   "source": [
    "pcHVG_data.obsp"
   ]
  },
  {
   "cell_type": "code",
   "execution_count": 163,
   "id": "90fedcc1",
   "metadata": {},
   "outputs": [
    {
     "data": {
      "text/plain": [
       "anndata._core.aligned_mapping.PairwiseArrays"
      ]
     },
     "execution_count": 163,
     "metadata": {},
     "output_type": "execute_result"
    }
   ],
   "source": [
    "type(pcHVG_data.obsp)"
   ]
  },
  {
   "cell_type": "code",
   "execution_count": 168,
   "id": "15b6b4dd",
   "metadata": {},
   "outputs": [
    {
     "name": "stdout",
     "output_type": "stream",
     "text": [
      "key:  distances\n",
      "value:    (0, 37)\t11.866178512573242\n",
      "  (0, 487)\t11.862650871276855\n",
      "  (0, 597)\t11.841341018676758\n",
      "  (0, 890)\t11.499669075012207\n",
      "  (0, 1171)\t10.900457382202148\n",
      "  (0, 1465)\t11.961982727050781\n",
      "  (0, 1692)\t11.22607421875\n",
      "  (0, 1891)\t11.810883522033691\n",
      "  (0, 2021)\t11.330179214477539\n",
      "  (0, 2058)\t11.813911437988281\n",
      "  (0, 2395)\t11.892126083374023\n",
      "  (0, 2511)\t11.801128387451172\n",
      "  (0, 2520)\t11.940055847167969\n",
      "  (0, 2555)\t11.621065139770508\n",
      "  (1, 10)\t17.03321647644043\n",
      "  (1, 108)\t18.16880226135254\n",
      "  (1, 164)\t18.219032287597656\n",
      "  (1, 281)\t14.332503318786621\n",
      "  (1, 304)\t17.51382827758789\n",
      "  (1, 660)\t17.9306583404541\n",
      "  (1, 713)\t18.41547203063965\n",
      "  (1, 942)\t16.022937774658203\n",
      "  (1, 1224)\t17.789297103881836\n",
      "  (1, 1228)\t17.202999114990234\n",
      "  (1, 1674)\t18.083696365356445\n",
      "  :\t:\n",
      "  (2698, 1310)\t16.635910034179688\n",
      "  (2698, 1494)\t16.53990364074707\n",
      "  (2698, 1521)\t16.526737213134766\n",
      "  (2698, 1577)\t17.525169372558594\n",
      "  (2698, 1781)\t16.902694702148438\n",
      "  (2698, 1938)\t15.962621688842773\n",
      "  (2698, 2042)\t16.952001571655273\n",
      "  (2698, 2173)\t16.392459869384766\n",
      "  (2698, 2462)\t16.839889526367188\n",
      "  (2698, 2587)\t17.284191131591797\n",
      "  (2698, 2594)\t17.006277084350586\n",
      "  (2699, 465)\t10.790887832641602\n",
      "  (2699, 508)\t11.510820388793945\n",
      "  (2699, 668)\t11.806072235107422\n",
      "  (2699, 1151)\t11.056265830993652\n",
      "  (2699, 1163)\t10.919212341308594\n",
      "  (2699, 1466)\t11.760990142822266\n",
      "  (2699, 1638)\t10.757659912109375\n",
      "  (2699, 1717)\t11.89178466796875\n",
      "  (2699, 1775)\t11.57186222076416\n",
      "  (2699, 1872)\t11.756267547607422\n",
      "  (2699, 2282)\t11.71804141998291\n",
      "  (2699, 2362)\t11.57248306274414\n",
      "  (2699, 2411)\t11.78192138671875\n",
      "  (2699, 2660)\t11.556304931640625\n",
      "key:  connectivities\n",
      "value:    (0, 37)\t0.15284358\n",
      "  (0, 487)\t0.1538959\n",
      "  (0, 597)\t0.1604086\n",
      "  (0, 840)\t0.22695133\n",
      "  (0, 890)\t0.31177467\n",
      "  (0, 1171)\t1.0\n",
      "  (0, 1267)\t0.17301376\n",
      "  (0, 1416)\t0.13449779\n",
      "  (0, 1465)\t0.1268588\n",
      "  (0, 1692)\t0.53082174\n",
      "  (0, 1866)\t0.22696236\n",
      "  (0, 1891)\t0.17019837\n",
      "  (0, 2021)\t0.43352118\n",
      "  (0, 2058)\t0.16919893\n",
      "  (0, 2351)\t0.48153022\n",
      "  (0, 2395)\t0.14532124\n",
      "  (0, 2511)\t0.1734585\n",
      "  (0, 2520)\t0.13238612\n",
      "  (0, 2555)\t0.4131887\n",
      "  (1, 10)\t0.28882316\n",
      "  (1, 108)\t0.17133282\n",
      "  (1, 164)\t0.16742064\n",
      "  (1, 281)\t1.0\n",
      "  (1, 304)\t0.23155144\n",
      "  (1, 660)\t0.19116178\n",
      "  :\t:\n",
      "  (2698, 1521)\t0.37355566\n",
      "  (2698, 1577)\t0.06538285\n",
      "  (2698, 1781)\t0.19379808\n",
      "  (2698, 1938)\t1.0\n",
      "  (2698, 2042)\t0.17781605\n",
      "  (2698, 2162)\t0.20788725\n",
      "  (2698, 2173)\t0.47222424\n",
      "  (2698, 2462)\t0.21625236\n",
      "  (2698, 2587)\t0.09957371\n",
      "  (2698, 2594)\t0.1617431\n",
      "  (2699, 159)\t0.015200331\n",
      "  (2699, 465)\t0.9157544\n",
      "  (2699, 508)\t0.13603926\n",
      "  (2699, 668)\t0.06223658\n",
      "  (2699, 1151)\t0.45344374\n",
      "  (2699, 1163)\t0.6518858\n",
      "  (2699, 1466)\t0.07012973\n",
      "  (2699, 1638)\t1.0\n",
      "  (2699, 1717)\t0.049596786\n",
      "  (2699, 1775)\t0.11573103\n",
      "  (2699, 1872)\t0.07101243\n",
      "  (2699, 2282)\t0.07857867\n",
      "  (2699, 2362)\t0.11554088\n",
      "  (2699, 2411)\t0.06634766\n",
      "  (2699, 2660)\t0.12059933\n"
     ]
    }
   ],
   "source": [
    "# obsp attribute contains two keys: 'distances' and 'connectivities', each key has a value that is a sparse matrix.\n",
    "\n",
    "for key, value in pcHVG_data.obsp.items():\n",
    "    print(\"key: \", key)\n",
    "    print(\"value: \", value)"
   ]
  },
  {
   "cell_type": "code",
   "execution_count": 167,
   "id": "71a0e41c",
   "metadata": {},
   "outputs": [
    {
     "name": "stdout",
     "output_type": "stream",
     "text": [
      "[[0. 0. 0. ... 0. 0. 0.]\n",
      " [0. 0. 0. ... 0. 0. 0.]\n",
      " [0. 0. 0. ... 0. 0. 0.]\n",
      " ...\n",
      " [0. 0. 0. ... 0. 0. 0.]\n",
      " [0. 0. 0. ... 0. 0. 0.]\n",
      " [0. 0. 0. ... 0. 0. 0.]]\n"
     ]
    }
   ],
   "source": [
    "print(pcHVG_data.obsp['distances'].toarray())"
   ]
  },
  {
   "cell_type": "markdown",
   "id": "b756e244",
   "metadata": {},
   "source": [
    "### Section 10: Run UMAP"
   ]
  },
  {
   "cell_type": "code",
   "execution_count": 169,
   "id": "fba67ee8",
   "metadata": {},
   "outputs": [],
   "source": [
    "umHVG_data = pcHVG_data\n",
    "sc.tl.umap(umHVG_data)"
   ]
  },
  {
   "cell_type": "code",
   "execution_count": 170,
   "id": "7cafd5d7",
   "metadata": {},
   "outputs": [
    {
     "data": {
      "text/plain": [
       "AnnData object with n_obs × n_vars = 2700 × 4000\n",
       "    obs: 'n_genes_by_counts', 'total_counts', 'total_counts_mt', 'pct_counts_mt', 'n_genes'\n",
       "    var: 'gene_ids', 'n_cells_by_counts', 'mean_counts', 'pct_dropout_by_counts', 'total_counts', 'mt', 'n_cells', 'highly_variable', 'means', 'dispersions', 'dispersions_norm', 'mean', 'std'\n",
       "    uns: 'log1p', 'hvg', 'pca', 'neighbors', 'umap'\n",
       "    obsm: 'X_pca', 'X_umap'\n",
       "    varm: 'PCs'\n",
       "    obsp: 'distances', 'connectivities'"
      ]
     },
     "execution_count": 170,
     "metadata": {},
     "output_type": "execute_result"
    }
   ],
   "source": [
    "umHVG_data"
   ]
  },
  {
   "cell_type": "code",
   "execution_count": 178,
   "id": "66a87921",
   "metadata": {},
   "outputs": [
    {
     "name": "stdout",
     "output_type": "stream",
     "text": [
      "[[-5.47753     0.7158567  -2.9600632  ... -1.5038038  -2.7385328\n",
      "   0.12248797]\n",
      " [-0.82033086 -4.7028747  11.032924   ...  0.07327716  0.7918507\n",
      "  -3.3498495 ]\n",
      " [-2.5739615   4.1087923  -2.4982727  ... -1.9989923  -0.30860007\n",
      "   1.1985921 ]\n",
      " ...\n",
      " [-2.9033778  -9.763722    6.617561   ...  1.6098499   0.10079659\n",
      "   1.9579117 ]\n",
      " [-2.3268554  -7.4409957   7.4637585  ... -0.6684238   2.962389\n",
      "  -3.2557528 ]\n",
      " [-4.099712   -1.915916   -4.141136   ...  0.80929923  0.42616582\n",
      "   1.6284049 ]]\n"
     ]
    }
   ],
   "source": [
    "print(umHVG_data.obsm['X_pca'])"
   ]
  },
  {
   "cell_type": "code",
   "execution_count": 179,
   "id": "643f44bd",
   "metadata": {},
   "outputs": [
    {
     "name": "stdout",
     "output_type": "stream",
     "text": [
      "[[-1.5412725   5.4188585 ]\n",
      " [ 2.913537   -3.7638736 ]\n",
      " [ 0.13310283  4.1178064 ]\n",
      " ...\n",
      " [ 4.3411956  -4.016448  ]\n",
      " [ 4.582146   -3.3064363 ]\n",
      " [-3.1570594   3.1801198 ]]\n"
     ]
    }
   ],
   "source": [
    "print(umHVG_data.obsm['X_umap'])"
   ]
  },
  {
   "cell_type": "markdown",
   "id": "cb45b3b9",
   "metadata": {},
   "source": [
    "### Section 11: UMAP visualization"
   ]
  },
  {
   "cell_type": "code",
   "execution_count": 57,
   "id": "6f5766d9",
   "metadata": {},
   "outputs": [
    {
     "data": {
      "image/png": "[encoded data removed]",
      "text/plain": [
       "<Figure size 1483.92x288 with 6 Axes>"
      ]
     },
     "metadata": {
      "needs_background": "light"
     },
     "output_type": "display_data"
    }
   ],
   "source": [
    "# the below command will use the data stored in the 'X_umap' by default. \n",
    "sc.pl.umap(pcHVG_data,color=['CST3', 'NKG7', 'TNFRSF4'])"
   ]
  },
  {
   "cell_type": "markdown",
   "id": "ab0dce43",
   "metadata": {},
   "source": [
    "### Resources\n",
    "\n",
    "https://www.sc-best-practices.org/preamble.html\n",
    "\n",
    "https://scanpy.readthedocs.io/en/stable/\n",
    "\n",
    "https://nbisweden.github.io/workshop-scRNAseq/labs/compiled/scanpy/scanpy_01_qc.html\n",
    "\n",
    "https://www.10xgenomics.com/resources/datasets"
   ]
  }
 ],
 "metadata": {
  "kernelspec": {
   "display_name": "Python 3",
   "language": "python",
   "name": "python3"
  },
  "language_info": {
   "codemirror_mode": {
    "name": "ipython",
    "version": 3
   },
   "file_extension": ".py",
   "mimetype": "text/x-python",
   "name": "python",
   "nbconvert_exporter": "python",
   "pygments_lexer": "ipython3",
   "version": "3.8.8"
  }
 },
 "nbformat": 4,
 "nbformat_minor": 5
}
