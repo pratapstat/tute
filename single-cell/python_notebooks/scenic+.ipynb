{
 "cells": [
  {
   "cell_type": "code",
   "execution_count": 76,
   "metadata": {},
   "outputs": [
    {
     "name": "stdout",
     "output_type": "stream",
     "text": [
      "cistopic_class.py          label_transfer.py           qc.py\n",
      "clust_vis.py               lda_models.py               signature_enrichment.py\n",
      "diff_features.py           loom.py                     topic_binarization.py\n",
      "gene_activity.py           pseudobulk_peak_calling.py  topic_qc.py\n",
      "__init__.py                \u001b[0m\u001b[01;34m__pycache__\u001b[0m/                utils.py\n",
      "iterative_peak_calling.py  pyGREAT.py\n",
      "/data01/SingleCell/Python_notebooks/pycisTopic\n",
      "Obtaining file:///data01/SingleCell/Python_notebooks/pycisTopic\n",
      "  Preparing metadata (setup.py) ... \u001b[?25ldone\n",
      "\u001b[?25hCollecting pyscenic@ git+https://github.com/aertslab/pySCENIC@master\n",
      "  Cloning https://github.com/aertslab/pySCENIC (to revision master) to /tmp/pip-install-20k0kuo2/pyscenic_3b7ea7a30e0f4db2a560877a84a47256\n",
      "  Running command git clone --filter=blob:none --quiet https://github.com/aertslab/pySCENIC /tmp/pip-install-20k0kuo2/pyscenic_3b7ea7a30e0f4db2a560877a84a47256\n",
      "  Resolved https://github.com/aertslab/pySCENIC to commit 0a90cb5ca615c633b2e012a992669f784e98bc8b\n",
      "  Preparing metadata (setup.py) ... \u001b[?25ldone\n",
      "\u001b[?25hCollecting loomxpy@ git+https://github.com/aertslab/LoomXpy@main\n",
      "  Cloning https://github.com/aertslab/LoomXpy (to revision main) to /tmp/pip-install-20k0kuo2/loomxpy_67709508a508403d8465102fa133ee4b\n",
      "  Running command git clone --filter=blob:none --quiet https://github.com/aertslab/LoomXpy /tmp/pip-install-20k0kuo2/loomxpy_67709508a508403d8465102fa133ee4b\n",
      "  Resolved https://github.com/aertslab/LoomXpy to commit 61995ff10940968eac2cee8fe48300ab477a15d0\n",
      "  Installing build dependencies ... \u001b[?25ldone\n",
      "\u001b[?25h  Getting requirements to build wheel ... \u001b[?25ldone\n",
      "\u001b[?25h  Preparing metadata (pyproject.toml) ... \u001b[?25ldone\n",
      "\u001b[?25hRequirement already satisfied: adjusttext in /home/prakki/anaconda3/envs/scenicplus/lib/python3.8/site-packages (from pycisTopic==1.0.2.dev12+g1e354e6) (0.7.3)\n",
      "Requirement already satisfied: annoy in /home/prakki/anaconda3/envs/scenicplus/lib/python3.8/site-packages (from pycisTopic==1.0.2.dev12+g1e354e6) (1.17.1)\n",
      "Requirement already satisfied: bbknn in /home/prakki/anaconda3/envs/scenicplus/lib/python3.8/site-packages (from pycisTopic==1.0.2.dev12+g1e354e6) (1.5.1)\n",
      "Requirement already satisfied: ctxcore in /home/prakki/anaconda3/envs/scenicplus/lib/python3.8/site-packages (from pycisTopic==1.0.2.dev12+g1e354e6) (0.2.0)\n",
      "Requirement already satisfied: Cython in /home/prakki/anaconda3/envs/scenicplus/lib/python3.8/site-packages (from pycisTopic==1.0.2.dev12+g1e354e6) (0.29.32)\n",
      "Requirement already satisfied: ipython in /home/prakki/anaconda3/envs/scenicplus/lib/python3.8/site-packages (from pycisTopic==1.0.2.dev12+g1e354e6) (8.7.0)\n",
      "Requirement already satisfied: ipykernel in /home/prakki/anaconda3/envs/scenicplus/lib/python3.8/site-packages (from pycisTopic==1.0.2.dev12+g1e354e6) (6.19.4)\n",
      "Requirement already satisfied: gensim in /home/prakki/anaconda3/envs/scenicplus/lib/python3.8/site-packages (from pycisTopic==1.0.2.dev12+g1e354e6) (4.3.0)\n",
      "Requirement already satisfied: harmonypy in /home/prakki/anaconda3/envs/scenicplus/lib/python3.8/site-packages (from pycisTopic==1.0.2.dev12+g1e354e6) (0.0.9)\n",
      "Requirement already satisfied: ipympl in /home/prakki/anaconda3/envs/scenicplus/lib/python3.8/site-packages (from pycisTopic==1.0.2.dev12+g1e354e6) (0.9.2)\n",
      "Requirement already satisfied: leidenalg in /home/prakki/anaconda3/envs/scenicplus/lib/python3.8/site-packages (from pycisTopic==1.0.2.dev12+g1e354e6) (0.9.1)\n",
      "Requirement already satisfied: lda in /home/prakki/anaconda3/envs/scenicplus/lib/python3.8/site-packages (from pycisTopic==1.0.2.dev12+g1e354e6) (2.0.0)\n",
      "Requirement already satisfied: loompy in /home/prakki/anaconda3/envs/scenicplus/lib/python3.8/site-packages (from pycisTopic==1.0.2.dev12+g1e354e6) (3.0.7)\n",
      "Requirement already satisfied: matplotlib in /home/prakki/anaconda3/envs/scenicplus/lib/python3.8/site-packages (from pycisTopic==1.0.2.dev12+g1e354e6) (3.6.2)\n",
      "Requirement already satisfied: macs2 in /home/prakki/anaconda3/envs/scenicplus/lib/python3.8/site-packages (from pycisTopic==1.0.2.dev12+g1e354e6) (2.2.7.1)\n",
      "Requirement already satisfied: networkx in /home/prakki/anaconda3/envs/scenicplus/lib/python3.8/site-packages (from pycisTopic==1.0.2.dev12+g1e354e6) (2.8.8)\n",
      "Requirement already satisfied: numba in /home/prakki/.local/lib/python3.8/site-packages (from pycisTopic==1.0.2.dev12+g1e354e6) (0.56.4)\n",
      "Requirement already satisfied: numpy in /home/prakki/anaconda3/envs/scenicplus/lib/python3.8/site-packages (from pycisTopic==1.0.2.dev12+g1e354e6) (1.23.5)\n",
      "Requirement already satisfied: pyopenssl in /home/prakki/anaconda3/envs/scenicplus/lib/python3.8/site-packages (from pycisTopic==1.0.2.dev12+g1e354e6) (22.1.0)\n",
      "Requirement already satisfied: pandas!=1.3.0,>=1.2.0 in /home/prakki/.local/lib/python3.8/site-packages (from pycisTopic==1.0.2.dev12+g1e354e6) (1.5.2)\n",
      "Requirement already satisfied: polars in /home/prakki/anaconda3/envs/scenicplus/lib/python3.8/site-packages (from pycisTopic==1.0.2.dev12+g1e354e6) (0.15.8)\n",
      "Requirement already satisfied: pybedtools in /home/prakki/anaconda3/envs/scenicplus/lib/python3.8/site-packages (from pycisTopic==1.0.2.dev12+g1e354e6) (0.9.0)\n",
      "Requirement already satisfied: pyfasta in /home/prakki/anaconda3/envs/scenicplus/lib/python3.8/site-packages (from pycisTopic==1.0.2.dev12+g1e354e6) (0.5.2)\n",
      "Requirement already satisfied: pyranges in /home/prakki/anaconda3/envs/scenicplus/lib/python3.8/site-packages (from pycisTopic==1.0.2.dev12+g1e354e6) (0.0.120)\n",
      "Requirement already satisfied: pybiomart in /home/prakki/anaconda3/envs/scenicplus/lib/python3.8/site-packages (from pycisTopic==1.0.2.dev12+g1e354e6) (0.2.0)\n",
      "Requirement already satisfied: pyBigWig in /home/prakki/anaconda3/envs/scenicplus/lib/python3.8/site-packages (from pycisTopic==1.0.2.dev12+g1e354e6) (0.3.18)\n",
      "Requirement already satisfied: python-Levenshtein in /home/prakki/anaconda3/envs/scenicplus/lib/python3.8/site-packages (from pycisTopic==1.0.2.dev12+g1e354e6) (0.20.9)\n",
      "Requirement already satisfied: python-igraph in /home/prakki/anaconda3/envs/scenicplus/lib/python3.8/site-packages (from pycisTopic==1.0.2.dev12+g1e354e6) (0.10.2)\n",
      "Requirement already satisfied: ray[default] in /home/prakki/anaconda3/envs/scenicplus/lib/python3.8/site-packages (from pycisTopic==1.0.2.dev12+g1e354e6) (2.2.0)\n",
      "Requirement already satisfied: scipy in /home/prakki/.local/lib/python3.8/site-packages (from pycisTopic==1.0.2.dev12+g1e354e6) (1.10.0)\n",
      "Requirement already satisfied: scikit-learn in /home/prakki/.local/lib/python3.8/site-packages (from pycisTopic==1.0.2.dev12+g1e354e6) (1.2.0)\n",
      "Requirement already satisfied: scanpy in /home/prakki/anaconda3/envs/scenicplus/lib/python3.8/site-packages (from pycisTopic==1.0.2.dev12+g1e354e6) (1.8.2)\n",
      "Requirement already satisfied: scanorama in /home/prakki/anaconda3/envs/scenicplus/lib/python3.8/site-packages (from pycisTopic==1.0.2.dev12+g1e354e6) (1.7.3)\n",
      "Requirement already satisfied: scrublet in /home/prakki/anaconda3/envs/scenicplus/lib/python3.8/site-packages (from pycisTopic==1.0.2.dev12+g1e354e6) (0.2.3)\n",
      "Requirement already satisfied: seaborn in /home/prakki/anaconda3/envs/scenicplus/lib/python3.8/site-packages (from pycisTopic==1.0.2.dev12+g1e354e6) (0.12.1)\n",
      "Requirement already satisfied: statsmodels in /home/prakki/anaconda3/envs/scenicplus/lib/python3.8/site-packages (from pycisTopic==1.0.2.dev12+g1e354e6) (0.13.5)\n",
      "Requirement already satisfied: tables in /home/prakki/anaconda3/envs/scenicplus/lib/python3.8/site-packages (from pycisTopic==1.0.2.dev12+g1e354e6) (3.8.0)\n",
      "Requirement already satisfied: tmtoolkit in /home/prakki/anaconda3/envs/scenicplus/lib/python3.8/site-packages (from pycisTopic==1.0.2.dev12+g1e354e6) (0.11.2)\n",
      "Requirement already satisfied: typing in /home/prakki/anaconda3/envs/scenicplus/lib/python3.8/site-packages (from pycisTopic==1.0.2.dev12+g1e354e6) (3.7.4.3)\n",
      "Requirement already satisfied: umap-learn in /home/prakki/.local/lib/python3.8/site-packages (from pycisTopic==1.0.2.dev12+g1e354e6) (0.5.3)\n",
      "Requirement already satisfied: xlrd in /home/prakki/anaconda3/envs/scenicplus/lib/python3.8/site-packages (from pycisTopic==1.0.2.dev12+g1e354e6) (2.0.1)\n",
      "Requirement already satisfied: papermill in /home/prakki/anaconda3/envs/scenicplus/lib/python3.8/site-packages (from pycisTopic==1.0.2.dev12+g1e354e6) (2.4.0)\n",
      "Requirement already satisfied: bs4 in /home/prakki/anaconda3/envs/scenicplus/lib/python3.8/site-packages (from pycisTopic==1.0.2.dev12+g1e354e6) (0.0.1)\n",
      "Requirement already satisfied: lxml in /home/prakki/anaconda3/envs/scenicplus/lib/python3.8/site-packages (from pycisTopic==1.0.2.dev12+g1e354e6) (4.9.2)\n",
      "Requirement already satisfied: tspex in /home/prakki/anaconda3/envs/scenicplus/lib/python3.8/site-packages (from pycisTopic==1.0.2.dev12+g1e354e6) (0.6.2)\n",
      "Requirement already satisfied: sphinx_rtd_theme in /home/prakki/anaconda3/envs/scenicplus/lib/python3.8/site-packages (from pycisTopic==1.0.2.dev12+g1e354e6) (1.1.1)\n",
      "Requirement already satisfied: nbsphinx in /home/prakki/anaconda3/envs/scenicplus/lib/python3.8/site-packages (from pycisTopic==1.0.2.dev12+g1e354e6) (0.8.11)\n",
      "Requirement already satisfied: nbsphinx_link in /home/prakki/anaconda3/envs/scenicplus/lib/python3.8/site-packages (from pycisTopic==1.0.2.dev12+g1e354e6) (1.3.0)\n",
      "Requirement already satisfied: numpydoc in /home/prakki/anaconda3/envs/scenicplus/lib/python3.8/site-packages (from pycisTopic==1.0.2.dev12+g1e354e6) (1.5.0)\n",
      "Requirement already satisfied: pytz>=2020.1 in /home/prakki/.local/lib/python3.8/site-packages (from pandas!=1.3.0,>=1.2.0->pycisTopic==1.0.2.dev12+g1e354e6) (2022.7)\n",
      "Requirement already satisfied: python-dateutil>=2.8.1 in /home/prakki/.local/lib/python3.8/site-packages (from pandas!=1.3.0,>=1.2.0->pycisTopic==1.0.2.dev12+g1e354e6) (2.8.2)\n"
     ]
    },
    {
     "name": "stdout",
     "output_type": "stream",
     "text": [
      "Requirement already satisfied: pynndescent in /home/prakki/.local/lib/python3.8/site-packages (from bbknn->pycisTopic==1.0.2.dev12+g1e354e6) (0.5.8)\n",
      "Requirement already satisfied: packaging in /home/prakki/anaconda3/envs/scenicplus/lib/python3.8/site-packages (from bbknn->pycisTopic==1.0.2.dev12+g1e354e6) (22.0)\n",
      "Requirement already satisfied: beautifulsoup4 in /home/prakki/anaconda3/envs/scenicplus/lib/python3.8/site-packages (from bs4->pycisTopic==1.0.2.dev12+g1e354e6) (4.11.1)\n",
      "Requirement already satisfied: frozendict in /home/prakki/anaconda3/envs/scenicplus/lib/python3.8/site-packages (from ctxcore->pycisTopic==1.0.2.dev12+g1e354e6) (2.3.4)\n",
      "Requirement already satisfied: tqdm in /home/prakki/.local/lib/python3.8/site-packages (from ctxcore->pycisTopic==1.0.2.dev12+g1e354e6) (4.64.1)\n",
      "Requirement already satisfied: pyarrow>=8.0.0 in /home/prakki/anaconda3/envs/scenicplus/lib/python3.8/site-packages (from ctxcore->pycisTopic==1.0.2.dev12+g1e354e6) (10.0.1)\n",
      "Requirement already satisfied: pyyaml in /home/prakki/anaconda3/envs/scenicplus/lib/python3.8/site-packages (from ctxcore->pycisTopic==1.0.2.dev12+g1e354e6) (6.0)\n",
      "Requirement already satisfied: cytoolz in /home/prakki/anaconda3/envs/scenicplus/lib/python3.8/site-packages (from ctxcore->pycisTopic==1.0.2.dev12+g1e354e6) (0.12.1)\n",
      "Requirement already satisfied: llvmlite<0.40,>=0.39.0dev0 in /home/prakki/.local/lib/python3.8/site-packages (from numba->pycisTopic==1.0.2.dev12+g1e354e6) (0.39.1)\n",
      "Requirement already satisfied: importlib-metadata in /home/prakki/.local/lib/python3.8/site-packages (from numba->pycisTopic==1.0.2.dev12+g1e354e6) (6.0.0)\n",
      "Requirement already satisfied: setuptools in /home/prakki/anaconda3/envs/scenicplus/lib/python3.8/site-packages (from numba->pycisTopic==1.0.2.dev12+g1e354e6) (65.5.1)\n",
      "Requirement already satisfied: FuzzyTM>=0.4.0 in /home/prakki/anaconda3/envs/scenicplus/lib/python3.8/site-packages (from gensim->pycisTopic==1.0.2.dev12+g1e354e6) (2.0.5)\n",
      "Requirement already satisfied: smart-open>=1.8.1 in /home/prakki/anaconda3/envs/scenicplus/lib/python3.8/site-packages (from gensim->pycisTopic==1.0.2.dev12+g1e354e6) (6.3.0)\n",
      "Requirement already satisfied: matplotlib-inline>=0.1 in /home/prakki/anaconda3/envs/scenicplus/lib/python3.8/site-packages (from ipykernel->pycisTopic==1.0.2.dev12+g1e354e6) (0.1.6)\n",
      "Requirement already satisfied: jupyter-client>=6.1.12 in /home/prakki/anaconda3/envs/scenicplus/lib/python3.8/site-packages (from ipykernel->pycisTopic==1.0.2.dev12+g1e354e6) (7.4.8)\n",
      "Requirement already satisfied: nest-asyncio in /home/prakki/anaconda3/envs/scenicplus/lib/python3.8/site-packages (from ipykernel->pycisTopic==1.0.2.dev12+g1e354e6) (1.5.6)\n",
      "Requirement already satisfied: tornado>=6.1 in /home/prakki/anaconda3/envs/scenicplus/lib/python3.8/site-packages (from ipykernel->pycisTopic==1.0.2.dev12+g1e354e6) (6.2)\n",
      "Requirement already satisfied: traitlets>=5.4.0 in /home/prakki/anaconda3/envs/scenicplus/lib/python3.8/site-packages (from ipykernel->pycisTopic==1.0.2.dev12+g1e354e6) (5.8.0)\n",
      "Requirement already satisfied: comm>=0.1.1 in /home/prakki/anaconda3/envs/scenicplus/lib/python3.8/site-packages (from ipykernel->pycisTopic==1.0.2.dev12+g1e354e6) (0.1.2)\n",
      "Requirement already satisfied: pyzmq>=17 in /home/prakki/anaconda3/envs/scenicplus/lib/python3.8/site-packages (from ipykernel->pycisTopic==1.0.2.dev12+g1e354e6) (24.0.1)\n",
      "Requirement already satisfied: debugpy>=1.0 in /home/prakki/anaconda3/envs/scenicplus/lib/python3.8/site-packages (from ipykernel->pycisTopic==1.0.2.dev12+g1e354e6) (1.6.4)\n",
      "Requirement already satisfied: psutil in /home/prakki/anaconda3/envs/scenicplus/lib/python3.8/site-packages (from ipykernel->pycisTopic==1.0.2.dev12+g1e354e6) (5.9.4)\n",
      "Requirement already satisfied: decorator in /home/prakki/anaconda3/envs/scenicplus/lib/python3.8/site-packages (from ipython->pycisTopic==1.0.2.dev12+g1e354e6) (5.1.1)\n",
      "Requirement already satisfied: pygments>=2.4.0 in /home/prakki/anaconda3/envs/scenicplus/lib/python3.8/site-packages (from ipython->pycisTopic==1.0.2.dev12+g1e354e6) (2.13.0)\n",
      "Requirement already satisfied: stack-data in /home/prakki/anaconda3/envs/scenicplus/lib/python3.8/site-packages (from ipython->pycisTopic==1.0.2.dev12+g1e354e6) (0.6.2)\n",
      "Requirement already satisfied: prompt-toolkit<3.1.0,>=3.0.11 in /home/prakki/anaconda3/envs/scenicplus/lib/python3.8/site-packages (from ipython->pycisTopic==1.0.2.dev12+g1e354e6) (3.0.36)\n",
      "Requirement already satisfied: pexpect>4.3 in /home/prakki/anaconda3/envs/scenicplus/lib/python3.8/site-packages (from ipython->pycisTopic==1.0.2.dev12+g1e354e6) (4.8.0)\n",
      "Requirement already satisfied: pickleshare in /home/prakki/anaconda3/envs/scenicplus/lib/python3.8/site-packages (from ipython->pycisTopic==1.0.2.dev12+g1e354e6) (0.7.5)\n",
      "Requirement already satisfied: jedi>=0.16 in /home/prakki/anaconda3/envs/scenicplus/lib/python3.8/site-packages (from ipython->pycisTopic==1.0.2.dev12+g1e354e6) (0.18.2)\n",
      "Requirement already satisfied: backcall in /home/prakki/anaconda3/envs/scenicplus/lib/python3.8/site-packages (from ipython->pycisTopic==1.0.2.dev12+g1e354e6) (0.2.0)\n",
      "Requirement already satisfied: pillow in /home/prakki/anaconda3/envs/scenicplus/lib/python3.8/site-packages (from ipympl->pycisTopic==1.0.2.dev12+g1e354e6) (9.3.0)\n",
      "Requirement already satisfied: ipywidgets<9,>=7.6.0 in /home/prakki/anaconda3/envs/scenicplus/lib/python3.8/site-packages (from ipympl->pycisTopic==1.0.2.dev12+g1e354e6) (8.0.4)\n",
      "Requirement already satisfied: ipython-genutils in /home/prakki/anaconda3/envs/scenicplus/lib/python3.8/site-packages (from ipympl->pycisTopic==1.0.2.dev12+g1e354e6) (0.2.0)\n",
      "Requirement already satisfied: fonttools>=4.22.0 in /home/prakki/anaconda3/envs/scenicplus/lib/python3.8/site-packages (from matplotlib->pycisTopic==1.0.2.dev12+g1e354e6) (4.38.0)\n",
      "Requirement already satisfied: cycler>=0.10 in /home/prakki/anaconda3/envs/scenicplus/lib/python3.8/site-packages (from matplotlib->pycisTopic==1.0.2.dev12+g1e354e6) (0.11.0)\n",
      "Requirement already satisfied: pyparsing>=2.2.1 in /home/prakki/anaconda3/envs/scenicplus/lib/python3.8/site-packages (from matplotlib->pycisTopic==1.0.2.dev12+g1e354e6) (3.0.9)\n",
      "Requirement already satisfied: kiwisolver>=1.0.1 in /home/prakki/anaconda3/envs/scenicplus/lib/python3.8/site-packages (from matplotlib->pycisTopic==1.0.2.dev12+g1e354e6) (1.4.4)\n",
      "Requirement already satisfied: contourpy>=1.0.1 in /home/prakki/anaconda3/envs/scenicplus/lib/python3.8/site-packages (from matplotlib->pycisTopic==1.0.2.dev12+g1e354e6) (1.0.6)\n",
      "Requirement already satisfied: pbr<4,>=0.6 in /home/prakki/anaconda3/envs/scenicplus/lib/python3.8/site-packages (from lda->pycisTopic==1.0.2.dev12+g1e354e6) (3.1.1)\n",
      "Requirement already satisfied: igraph<0.11,>=0.10.0 in /home/prakki/anaconda3/envs/scenicplus/lib/python3.8/site-packages (from leidenalg->pycisTopic==1.0.2.dev12+g1e354e6) (0.10.2)\n",
      "Requirement already satisfied: h5py in /home/prakki/anaconda3/envs/scenicplus/lib/python3.8/site-packages (from loompy->pycisTopic==1.0.2.dev12+g1e354e6) (3.7.0)\n",
      "Requirement already satisfied: numpy-groupies in /home/prakki/anaconda3/envs/scenicplus/lib/python3.8/site-packages (from loompy->pycisTopic==1.0.2.dev12+g1e354e6) (0.9.20)\n",
      "Requirement already satisfied: click in /home/prakki/anaconda3/envs/scenicplus/lib/python3.8/site-packages (from loompy->pycisTopic==1.0.2.dev12+g1e354e6) (8.1.3)\n",
      "Requirement already satisfied: dataclasses-json>=0.5.3 in /home/prakki/anaconda3/envs/scenicplus/lib/python3.8/site-packages (from loomxpy@ git+https://github.com/aertslab/LoomXpy@main->pycisTopic==1.0.2.dev12+g1e354e6) (0.5.7)\n",
      "Requirement already satisfied: multiprocessing_on_dill in /home/prakki/anaconda3/envs/scenicplus/lib/python3.8/site-packages (from pyscenic@ git+https://github.com/aertslab/pySCENIC@master->pycisTopic==1.0.2.dev12+g1e354e6) (3.5.0a4)\n",
      "Requirement already satisfied: attrs in /home/prakki/anaconda3/envs/scenicplus/lib/python3.8/site-packages (from pyscenic@ git+https://github.com/aertslab/pySCENIC@master->pycisTopic==1.0.2.dev12+g1e354e6) (22.2.0)\n",
      "Requirement already satisfied: numexpr in /home/prakki/anaconda3/envs/scenicplus/lib/python3.8/site-packages (from pyscenic@ git+https://github.com/aertslab/pySCENIC@master->pycisTopic==1.0.2.dev12+g1e354e6) (2.8.4)\n",
      "Requirement already satisfied: cloudpickle in /home/prakki/anaconda3/envs/scenicplus/lib/python3.8/site-packages (from pyscenic@ git+https://github.com/aertslab/pySCENIC@master->pycisTopic==1.0.2.dev12+g1e354e6) (2.2.0)\n",
      "Requirement already satisfied: dask in /home/prakki/anaconda3/envs/scenicplus/lib/python3.8/site-packages (from pyscenic@ git+https://github.com/aertslab/pySCENIC@master->pycisTopic==1.0.2.dev12+g1e354e6) (2022.12.1)\n",
      "Requirement already satisfied: distributed in /home/prakki/anaconda3/envs/scenicplus/lib/python3.8/site-packages (from pyscenic@ git+https://github.com/aertslab/pySCENIC@master->pycisTopic==1.0.2.dev12+g1e354e6) (2022.12.1)\n",
      "Requirement already satisfied: arboreto>=0.1.6 in /home/prakki/anaconda3/envs/scenicplus/lib/python3.8/site-packages (from pyscenic@ git+https://github.com/aertslab/pySCENIC@master->pycisTopic==1.0.2.dev12+g1e354e6) (0.1.6)\n",
      "Requirement already satisfied: boltons in /home/prakki/anaconda3/envs/scenicplus/lib/python3.8/site-packages (from pyscenic@ git+https://github.com/aertslab/pySCENIC@master->pycisTopic==1.0.2.dev12+g1e354e6) (21.0.0)\n",
      "Requirement already satisfied: interlap in /home/prakki/anaconda3/envs/scenicplus/lib/python3.8/site-packages (from pyscenic@ git+https://github.com/aertslab/pySCENIC@master->pycisTopic==1.0.2.dev12+g1e354e6) (0.2.7)\n",
      "Requirement already satisfied: fsspec in /home/prakki/anaconda3/envs/scenicplus/lib/python3.8/site-packages (from pyscenic@ git+https://github.com/aertslab/pySCENIC@master->pycisTopic==1.0.2.dev12+g1e354e6) (2022.11.0)\n",
      "Requirement already satisfied: requests in /home/prakki/anaconda3/envs/scenicplus/lib/python3.8/site-packages (from pyscenic@ git+https://github.com/aertslab/pySCENIC@master->pycisTopic==1.0.2.dev12+g1e354e6) (2.28.1)\n",
      "Requirement already satisfied: aiohttp in /home/prakki/anaconda3/envs/scenicplus/lib/python3.8/site-packages (from pyscenic@ git+https://github.com/aertslab/pySCENIC@master->pycisTopic==1.0.2.dev12+g1e354e6) (3.8.3)\n"
     ]
    },
    {
     "name": "stdout",
     "output_type": "stream",
     "text": [
      "Requirement already satisfied: threadpoolctl>=2.0.0 in /home/prakki/.local/lib/python3.8/site-packages (from scikit-learn->pycisTopic==1.0.2.dev12+g1e354e6) (3.1.0)\n",
      "Requirement already satisfied: joblib>=1.1.1 in /home/prakki/.local/lib/python3.8/site-packages (from scikit-learn->pycisTopic==1.0.2.dev12+g1e354e6) (1.2.0)\n",
      "Requirement already satisfied: docutils in /home/prakki/anaconda3/envs/scenicplus/lib/python3.8/site-packages (from nbsphinx->pycisTopic==1.0.2.dev12+g1e354e6) (0.17.1)\n",
      "Requirement already satisfied: nbformat in /home/prakki/anaconda3/envs/scenicplus/lib/python3.8/site-packages (from nbsphinx->pycisTopic==1.0.2.dev12+g1e354e6) (5.7.1)\n",
      "Requirement already satisfied: jinja2 in /home/prakki/anaconda3/envs/scenicplus/lib/python3.8/site-packages (from nbsphinx->pycisTopic==1.0.2.dev12+g1e354e6) (3.1.2)\n",
      "Requirement already satisfied: sphinx>=1.8 in /home/prakki/anaconda3/envs/scenicplus/lib/python3.8/site-packages (from nbsphinx->pycisTopic==1.0.2.dev12+g1e354e6) (4.5.0)\n",
      "Requirement already satisfied: nbconvert!=5.4 in /home/prakki/anaconda3/envs/scenicplus/lib/python3.8/site-packages (from nbsphinx->pycisTopic==1.0.2.dev12+g1e354e6) (7.2.7)\n",
      "Requirement already satisfied: entrypoints in /home/prakki/anaconda3/envs/scenicplus/lib/python3.8/site-packages (from papermill->pycisTopic==1.0.2.dev12+g1e354e6) (0.4)\n",
      "Requirement already satisfied: nbclient>=0.2.0 in /home/prakki/anaconda3/envs/scenicplus/lib/python3.8/site-packages (from papermill->pycisTopic==1.0.2.dev12+g1e354e6) (0.7.2)\n",
      "Requirement already satisfied: tenacity in /home/prakki/anaconda3/envs/scenicplus/lib/python3.8/site-packages (from papermill->pycisTopic==1.0.2.dev12+g1e354e6) (8.1.0)\n",
      "Requirement already satisfied: ansiwrap in /home/prakki/anaconda3/envs/scenicplus/lib/python3.8/site-packages (from papermill->pycisTopic==1.0.2.dev12+g1e354e6) (0.8.4)\n",
      "Requirement already satisfied: typing_extensions>=4.0.0 in /home/prakki/anaconda3/envs/scenicplus/lib/python3.8/site-packages (from polars->pycisTopic==1.0.2.dev12+g1e354e6) (4.4.0)\n",
      "Requirement already satisfied: pysam in /home/prakki/anaconda3/envs/scenicplus/lib/python3.8/site-packages (from pybedtools->pycisTopic==1.0.2.dev12+g1e354e6) (0.20.0)\n",
      "Requirement already satisfied: six in /home/prakki/anaconda3/envs/scenicplus/lib/python3.8/site-packages (from pybedtools->pycisTopic==1.0.2.dev12+g1e354e6) (1.16.0)\n",
      "Requirement already satisfied: requests-cache in /home/prakki/anaconda3/envs/scenicplus/lib/python3.8/site-packages (from pybiomart->pycisTopic==1.0.2.dev12+g1e354e6) (0.9.7)\n",
      "Requirement already satisfied: future in /home/prakki/anaconda3/envs/scenicplus/lib/python3.8/site-packages (from pybiomart->pycisTopic==1.0.2.dev12+g1e354e6) (0.18.2)\n",
      "Requirement already satisfied: cryptography<39,>=38.0.0 in /home/prakki/anaconda3/envs/scenicplus/lib/python3.8/site-packages (from pyopenssl->pycisTopic==1.0.2.dev12+g1e354e6) (38.0.4)\n",
      "Requirement already satisfied: ncls>=0.0.63 in /home/prakki/anaconda3/envs/scenicplus/lib/python3.8/site-packages (from pyranges->pycisTopic==1.0.2.dev12+g1e354e6) (0.0.65)\n",
      "Requirement already satisfied: pyrle in /home/prakki/anaconda3/envs/scenicplus/lib/python3.8/site-packages (from pyranges->pycisTopic==1.0.2.dev12+g1e354e6) (0.0.35)\n",
      "Requirement already satisfied: natsort in /home/prakki/anaconda3/envs/scenicplus/lib/python3.8/site-packages (from pyranges->pycisTopic==1.0.2.dev12+g1e354e6) (8.2.0)\n",
      "Requirement already satisfied: tabulate in /home/prakki/anaconda3/envs/scenicplus/lib/python3.8/site-packages (from pyranges->pycisTopic==1.0.2.dev12+g1e354e6) (0.9.0)\n",
      "Requirement already satisfied: sorted-nearest>=0.0.33 in /home/prakki/anaconda3/envs/scenicplus/lib/python3.8/site-packages (from pyranges->pycisTopic==1.0.2.dev12+g1e354e6) (0.0.37)\n",
      "Requirement already satisfied: texttable>=1.6.2 in /home/prakki/anaconda3/envs/scenicplus/lib/python3.8/site-packages (from igraph<0.11,>=0.10.0->leidenalg->pycisTopic==1.0.2.dev12+g1e354e6) (1.6.7)\n",
      "Requirement already satisfied: Levenshtein==0.20.9 in /home/prakki/anaconda3/envs/scenicplus/lib/python3.8/site-packages (from python-Levenshtein->pycisTopic==1.0.2.dev12+g1e354e6) (0.20.9)\n",
      "Requirement already satisfied: rapidfuzz<3.0.0,>=2.3.0 in /home/prakki/anaconda3/envs/scenicplus/lib/python3.8/site-packages (from Levenshtein==0.20.9->python-Levenshtein->pycisTopic==1.0.2.dev12+g1e354e6) (2.13.7)\n",
      "Requirement already satisfied: jsonschema in /home/prakki/anaconda3/envs/scenicplus/lib/python3.8/site-packages (from ray[default]->pycisTopic==1.0.2.dev12+g1e354e6) (4.17.3)\n",
      "Requirement already satisfied: msgpack<2.0.0,>=1.0.0 in /home/prakki/anaconda3/envs/scenicplus/lib/python3.8/site-packages (from ray[default]->pycisTopic==1.0.2.dev12+g1e354e6) (1.0.4)\n",
      "Requirement already satisfied: frozenlist in /home/prakki/anaconda3/envs/scenicplus/lib/python3.8/site-packages (from ray[default]->pycisTopic==1.0.2.dev12+g1e354e6) (1.3.3)\n",
      "Requirement already satisfied: grpcio>=1.32.0 in /home/prakki/anaconda3/envs/scenicplus/lib/python3.8/site-packages (from ray[default]->pycisTopic==1.0.2.dev12+g1e354e6) (1.51.1)\n",
      "Requirement already satisfied: aiosignal in /home/prakki/anaconda3/envs/scenicplus/lib/python3.8/site-packages (from ray[default]->pycisTopic==1.0.2.dev12+g1e354e6) (1.3.1)\n",
      "Requirement already satisfied: virtualenv>=20.0.24 in /home/prakki/anaconda3/envs/scenicplus/lib/python3.8/site-packages (from ray[default]->pycisTopic==1.0.2.dev12+g1e354e6) (20.17.1)\n",
      "Requirement already satisfied: protobuf!=3.19.5,>=3.15.3 in /home/prakki/anaconda3/envs/scenicplus/lib/python3.8/site-packages (from ray[default]->pycisTopic==1.0.2.dev12+g1e354e6) (4.21.12)\n",
      "Requirement already satisfied: filelock in /home/prakki/anaconda3/envs/scenicplus/lib/python3.8/site-packages (from ray[default]->pycisTopic==1.0.2.dev12+g1e354e6) (3.9.0)\n",
      "Requirement already satisfied: gpustat>=1.0.0 in /home/prakki/anaconda3/envs/scenicplus/lib/python3.8/site-packages (from ray[default]->pycisTopic==1.0.2.dev12+g1e354e6) (1.0.0)\n",
      "Requirement already satisfied: colorful in /home/prakki/anaconda3/envs/scenicplus/lib/python3.8/site-packages (from ray[default]->pycisTopic==1.0.2.dev12+g1e354e6) (0.5.5)\n",
      "Requirement already satisfied: prometheus-client<0.14.0,>=0.7.1 in /home/prakki/anaconda3/envs/scenicplus/lib/python3.8/site-packages (from ray[default]->pycisTopic==1.0.2.dev12+g1e354e6) (0.13.1)\n",
      "Requirement already satisfied: pydantic in /home/prakki/anaconda3/envs/scenicplus/lib/python3.8/site-packages (from ray[default]->pycisTopic==1.0.2.dev12+g1e354e6) (1.10.3)\n",
      "Requirement already satisfied: aiohttp-cors in /home/prakki/anaconda3/envs/scenicplus/lib/python3.8/site-packages (from ray[default]->pycisTopic==1.0.2.dev12+g1e354e6) (0.7.0)\n",
      "Requirement already satisfied: py-spy>=0.2.0 in /home/prakki/anaconda3/envs/scenicplus/lib/python3.8/site-packages (from ray[default]->pycisTopic==1.0.2.dev12+g1e354e6) (0.3.14)\n",
      "Requirement already satisfied: opencensus in /home/prakki/anaconda3/envs/scenicplus/lib/python3.8/site-packages (from ray[default]->pycisTopic==1.0.2.dev12+g1e354e6) (0.11.0)\n",
      "Requirement already satisfied: intervaltree>=3.1.0 in /home/prakki/anaconda3/envs/scenicplus/lib/python3.8/site-packages (from scanorama->pycisTopic==1.0.2.dev12+g1e354e6) (3.1.0)\n",
      "Requirement already satisfied: geosketch>=1.0 in /home/prakki/anaconda3/envs/scenicplus/lib/python3.8/site-packages (from scanorama->pycisTopic==1.0.2.dev12+g1e354e6) (1.2)\n",
      "Requirement already satisfied: fbpca>=1.0 in /home/prakki/anaconda3/envs/scenicplus/lib/python3.8/site-packages (from scanorama->pycisTopic==1.0.2.dev12+g1e354e6) (1.0)\n",
      "Requirement already satisfied: sinfo in /home/prakki/anaconda3/envs/scenicplus/lib/python3.8/site-packages (from scanpy->pycisTopic==1.0.2.dev12+g1e354e6) (0.3.4)\n",
      "Requirement already satisfied: patsy in /home/prakki/anaconda3/envs/scenicplus/lib/python3.8/site-packages (from scanpy->pycisTopic==1.0.2.dev12+g1e354e6) (0.5.3)\n",
      "Requirement already satisfied: anndata>=0.7.4 in /home/prakki/anaconda3/envs/scenicplus/lib/python3.8/site-packages (from scanpy->pycisTopic==1.0.2.dev12+g1e354e6) (0.8.0)\n",
      "Requirement already satisfied: scikit-image in /home/prakki/anaconda3/envs/scenicplus/lib/python3.8/site-packages (from scrublet->pycisTopic==1.0.2.dev12+g1e354e6) (0.19.3)\n"
     ]
    },
    {
     "name": "stdout",
     "output_type": "stream",
     "text": [
      "Requirement already satisfied: py-cpuinfo in /home/prakki/anaconda3/envs/scenicplus/lib/python3.8/site-packages (from tables->pycisTopic==1.0.2.dev12+g1e354e6) (9.0.0)\n",
      "Requirement already satisfied: blosc2~=2.0.0 in /home/prakki/anaconda3/envs/scenicplus/lib/python3.8/site-packages (from tables->pycisTopic==1.0.2.dev12+g1e354e6) (2.0.0)\n",
      "Requirement already satisfied: openpyxl>=3.0.0 in /home/prakki/anaconda3/envs/scenicplus/lib/python3.8/site-packages (from tmtoolkit->pycisTopic==1.0.2.dev12+g1e354e6) (3.0.10)\n",
      "Requirement already satisfied: globre>=0.1.5 in /home/prakki/anaconda3/envs/scenicplus/lib/python3.8/site-packages (from tmtoolkit->pycisTopic==1.0.2.dev12+g1e354e6) (0.1.5)\n",
      "Requirement already satisfied: yarl<2.0,>=1.0 in /home/prakki/anaconda3/envs/scenicplus/lib/python3.8/site-packages (from aiohttp->pyscenic@ git+https://github.com/aertslab/pySCENIC@master->pycisTopic==1.0.2.dev12+g1e354e6) (1.8.2)\n",
      "Requirement already satisfied: charset-normalizer<3.0,>=2.0 in /home/prakki/anaconda3/envs/scenicplus/lib/python3.8/site-packages (from aiohttp->pyscenic@ git+https://github.com/aertslab/pySCENIC@master->pycisTopic==1.0.2.dev12+g1e354e6) (2.1.1)\n",
      "Requirement already satisfied: multidict<7.0,>=4.5 in /home/prakki/anaconda3/envs/scenicplus/lib/python3.8/site-packages (from aiohttp->pyscenic@ git+https://github.com/aertslab/pySCENIC@master->pycisTopic==1.0.2.dev12+g1e354e6) (6.0.4)\n",
      "Requirement already satisfied: async-timeout<5.0,>=4.0.0a3 in /home/prakki/anaconda3/envs/scenicplus/lib/python3.8/site-packages (from aiohttp->pyscenic@ git+https://github.com/aertslab/pySCENIC@master->pycisTopic==1.0.2.dev12+g1e354e6) (4.0.2)\n",
      "Requirement already satisfied: cffi>=1.12 in /home/prakki/anaconda3/envs/scenicplus/lib/python3.8/site-packages (from cryptography<39,>=38.0.0->pyopenssl->pycisTopic==1.0.2.dev12+g1e354e6) (1.15.1)\n",
      "Requirement already satisfied: typing-inspect>=0.4.0 in /home/prakki/anaconda3/envs/scenicplus/lib/python3.8/site-packages (from dataclasses-json>=0.5.3->loomxpy@ git+https://github.com/aertslab/LoomXpy@main->pycisTopic==1.0.2.dev12+g1e354e6) (0.8.0)\n",
      "Requirement already satisfied: marshmallow<4.0.0,>=3.3.0 in /home/prakki/anaconda3/envs/scenicplus/lib/python3.8/site-packages (from dataclasses-json>=0.5.3->loomxpy@ git+https://github.com/aertslab/LoomXpy@main->pycisTopic==1.0.2.dev12+g1e354e6) (3.19.0)\n",
      "Requirement already satisfied: marshmallow-enum<2.0.0,>=1.5.1 in /home/prakki/anaconda3/envs/scenicplus/lib/python3.8/site-packages (from dataclasses-json>=0.5.3->loomxpy@ git+https://github.com/aertslab/LoomXpy@main->pycisTopic==1.0.2.dev12+g1e354e6) (1.5.1)\n",
      "Requirement already satisfied: pyfume in /home/prakki/anaconda3/envs/scenicplus/lib/python3.8/site-packages (from FuzzyTM>=0.4.0->gensim->pycisTopic==1.0.2.dev12+g1e354e6) (0.2.25)\n",
      "Requirement already satisfied: blessed>=1.17.1 in /home/prakki/anaconda3/envs/scenicplus/lib/python3.8/site-packages (from gpustat>=1.0.0->ray[default]->pycisTopic==1.0.2.dev12+g1e354e6) (1.19.1)\n",
      "Requirement already satisfied: nvidia-ml-py<=11.495.46,>=11.450.129 in /home/prakki/anaconda3/envs/scenicplus/lib/python3.8/site-packages (from gpustat>=1.0.0->ray[default]->pycisTopic==1.0.2.dev12+g1e354e6) (11.495.46)\n",
      "Requirement already satisfied: sortedcontainers<3.0,>=2.0 in /home/prakki/anaconda3/envs/scenicplus/lib/python3.8/site-packages (from intervaltree>=3.1.0->scanorama->pycisTopic==1.0.2.dev12+g1e354e6) (2.4.0)\n",
      "Requirement already satisfied: widgetsnbextension~=4.0 in /home/prakki/anaconda3/envs/scenicplus/lib/python3.8/site-packages (from ipywidgets<9,>=7.6.0->ipympl->pycisTopic==1.0.2.dev12+g1e354e6) (4.0.5)\n",
      "Requirement already satisfied: jupyterlab-widgets~=3.0 in /home/prakki/anaconda3/envs/scenicplus/lib/python3.8/site-packages (from ipywidgets<9,>=7.6.0->ipympl->pycisTopic==1.0.2.dev12+g1e354e6) (3.0.5)\n",
      "Requirement already satisfied: parso<0.9.0,>=0.8.0 in /home/prakki/anaconda3/envs/scenicplus/lib/python3.8/site-packages (from jedi>=0.16->ipython->pycisTopic==1.0.2.dev12+g1e354e6) (0.8.3)\n",
      "Requirement already satisfied: MarkupSafe>=2.0 in /home/prakki/anaconda3/envs/scenicplus/lib/python3.8/site-packages (from jinja2->nbsphinx->pycisTopic==1.0.2.dev12+g1e354e6) (2.1.1)\n",
      "Requirement already satisfied: jupyter-core>=4.9.2 in /home/prakki/anaconda3/envs/scenicplus/lib/python3.8/site-packages (from jupyter-client>=6.1.12->ipykernel->pycisTopic==1.0.2.dev12+g1e354e6) (5.1.1)\n",
      "Requirement already satisfied: tinycss2 in /home/prakki/anaconda3/envs/scenicplus/lib/python3.8/site-packages (from nbconvert!=5.4->nbsphinx->pycisTopic==1.0.2.dev12+g1e354e6) (1.2.1)\n",
      "Requirement already satisfied: jupyterlab-pygments in /home/prakki/anaconda3/envs/scenicplus/lib/python3.8/site-packages (from nbconvert!=5.4->nbsphinx->pycisTopic==1.0.2.dev12+g1e354e6) (0.2.2)\n",
      "Requirement already satisfied: defusedxml in /home/prakki/anaconda3/envs/scenicplus/lib/python3.8/site-packages (from nbconvert!=5.4->nbsphinx->pycisTopic==1.0.2.dev12+g1e354e6) (0.7.1)\n",
      "Requirement already satisfied: pandocfilters>=1.4.1 in /home/prakki/anaconda3/envs/scenicplus/lib/python3.8/site-packages (from nbconvert!=5.4->nbsphinx->pycisTopic==1.0.2.dev12+g1e354e6) (1.5.0)\n",
      "Requirement already satisfied: bleach in /home/prakki/anaconda3/envs/scenicplus/lib/python3.8/site-packages (from nbconvert!=5.4->nbsphinx->pycisTopic==1.0.2.dev12+g1e354e6) (5.0.1)\n",
      "Requirement already satisfied: mistune<3,>=2.0.3 in /home/prakki/anaconda3/envs/scenicplus/lib/python3.8/site-packages (from nbconvert!=5.4->nbsphinx->pycisTopic==1.0.2.dev12+g1e354e6) (2.0.4)\n",
      "Requirement already satisfied: zipp>=0.5 in /home/prakki/.local/lib/python3.8/site-packages (from importlib-metadata->numba->pycisTopic==1.0.2.dev12+g1e354e6) (3.11.0)\n",
      "Requirement already satisfied: fastjsonschema in /home/prakki/anaconda3/envs/scenicplus/lib/python3.8/site-packages (from nbformat->nbsphinx->pycisTopic==1.0.2.dev12+g1e354e6) (2.16.2)\n",
      "Requirement already satisfied: pyrsistent!=0.17.0,!=0.17.1,!=0.17.2,>=0.14.0 in /home/prakki/anaconda3/envs/scenicplus/lib/python3.8/site-packages (from jsonschema->ray[default]->pycisTopic==1.0.2.dev12+g1e354e6) (0.19.3)\n",
      "Requirement already satisfied: importlib-resources>=1.4.0 in /home/prakki/anaconda3/envs/scenicplus/lib/python3.8/site-packages (from jsonschema->ray[default]->pycisTopic==1.0.2.dev12+g1e354e6) (5.10.2)\n",
      "Requirement already satisfied: pkgutil-resolve-name>=1.3.10 in /home/prakki/anaconda3/envs/scenicplus/lib/python3.8/site-packages (from jsonschema->ray[default]->pycisTopic==1.0.2.dev12+g1e354e6) (1.3.10)\n",
      "Requirement already satisfied: et-xmlfile in /home/prakki/anaconda3/envs/scenicplus/lib/python3.8/site-packages (from openpyxl>=3.0.0->tmtoolkit->pycisTopic==1.0.2.dev12+g1e354e6) (1.1.0)\n",
      "Requirement already satisfied: ptyprocess>=0.5 in /home/prakki/anaconda3/envs/scenicplus/lib/python3.8/site-packages (from pexpect>4.3->ipython->pycisTopic==1.0.2.dev12+g1e354e6) (0.7.0)\n",
      "Requirement already satisfied: wcwidth in /home/prakki/anaconda3/envs/scenicplus/lib/python3.8/site-packages (from prompt-toolkit<3.1.0,>=3.0.11->ipython->pycisTopic==1.0.2.dev12+g1e354e6) (0.2.5)\n",
      "Requirement already satisfied: sphinxcontrib-devhelp in /home/prakki/anaconda3/envs/scenicplus/lib/python3.8/site-packages (from sphinx>=1.8->nbsphinx->pycisTopic==1.0.2.dev12+g1e354e6) (1.0.2)\n",
      "Requirement already satisfied: sphinxcontrib-jsmath in /home/prakki/anaconda3/envs/scenicplus/lib/python3.8/site-packages (from sphinx>=1.8->nbsphinx->pycisTopic==1.0.2.dev12+g1e354e6) (1.0.1)\n",
      "Requirement already satisfied: snowballstemmer>=1.1 in /home/prakki/anaconda3/envs/scenicplus/lib/python3.8/site-packages (from sphinx>=1.8->nbsphinx->pycisTopic==1.0.2.dev12+g1e354e6) (2.2.0)\n",
      "Requirement already satisfied: sphinxcontrib-htmlhelp>=2.0.0 in /home/prakki/anaconda3/envs/scenicplus/lib/python3.8/site-packages (from sphinx>=1.8->nbsphinx->pycisTopic==1.0.2.dev12+g1e354e6) (2.0.0)\n",
      "Requirement already satisfied: babel>=1.3 in /home/prakki/anaconda3/envs/scenicplus/lib/python3.8/site-packages (from sphinx>=1.8->nbsphinx->pycisTopic==1.0.2.dev12+g1e354e6) (2.11.0)\n",
      "Requirement already satisfied: sphinxcontrib-qthelp in /home/prakki/anaconda3/envs/scenicplus/lib/python3.8/site-packages (from sphinx>=1.8->nbsphinx->pycisTopic==1.0.2.dev12+g1e354e6) (1.0.3)\n",
      "Requirement already satisfied: alabaster<0.8,>=0.7 in /home/prakki/anaconda3/envs/scenicplus/lib/python3.8/site-packages (from sphinx>=1.8->nbsphinx->pycisTopic==1.0.2.dev12+g1e354e6) (0.7.12)\n",
      "Requirement already satisfied: sphinxcontrib-serializinghtml>=1.1.5 in /home/prakki/anaconda3/envs/scenicplus/lib/python3.8/site-packages (from sphinx>=1.8->nbsphinx->pycisTopic==1.0.2.dev12+g1e354e6) (1.1.5)\n",
      "Requirement already satisfied: sphinxcontrib-applehelp in /home/prakki/anaconda3/envs/scenicplus/lib/python3.8/site-packages (from sphinx>=1.8->nbsphinx->pycisTopic==1.0.2.dev12+g1e354e6) (1.0.2)\n",
      "Requirement already satisfied: imagesize in /home/prakki/anaconda3/envs/scenicplus/lib/python3.8/site-packages (from sphinx>=1.8->nbsphinx->pycisTopic==1.0.2.dev12+g1e354e6) (1.4.1)\n",
      "Requirement already satisfied: idna<4,>=2.5 in /home/prakki/anaconda3/envs/scenicplus/lib/python3.8/site-packages (from requests->pyscenic@ git+https://github.com/aertslab/pySCENIC@master->pycisTopic==1.0.2.dev12+g1e354e6) (3.4)\n",
      "Requirement already satisfied: urllib3<1.27,>=1.21.1 in /home/prakki/anaconda3/envs/scenicplus/lib/python3.8/site-packages (from requests->pyscenic@ git+https://github.com/aertslab/pySCENIC@master->pycisTopic==1.0.2.dev12+g1e354e6) (1.26.13)\n",
      "Requirement already satisfied: certifi>=2017.4.17 in /home/prakki/anaconda3/envs/scenicplus/lib/python3.8/site-packages (from requests->pyscenic@ git+https://github.com/aertslab/pySCENIC@master->pycisTopic==1.0.2.dev12+g1e354e6) (2022.12.7)\n"
     ]
    },
    {
     "name": "stdout",
     "output_type": "stream",
     "text": [
      "Requirement already satisfied: platformdirs<3,>=2.4 in /home/prakki/anaconda3/envs/scenicplus/lib/python3.8/site-packages (from virtualenv>=20.0.24->ray[default]->pycisTopic==1.0.2.dev12+g1e354e6) (2.6.2)\n",
      "Requirement already satisfied: distlib<1,>=0.3.6 in /home/prakki/anaconda3/envs/scenicplus/lib/python3.8/site-packages (from virtualenv>=20.0.24->ray[default]->pycisTopic==1.0.2.dev12+g1e354e6) (0.3.6)\n",
      "Requirement already satisfied: textwrap3>=0.9.2 in /home/prakki/anaconda3/envs/scenicplus/lib/python3.8/site-packages (from ansiwrap->papermill->pycisTopic==1.0.2.dev12+g1e354e6) (0.9.2)\n",
      "Requirement already satisfied: soupsieve>1.2 in /home/prakki/anaconda3/envs/scenicplus/lib/python3.8/site-packages (from beautifulsoup4->bs4->pycisTopic==1.0.2.dev12+g1e354e6) (2.3.2.post1)\n",
      "Requirement already satisfied: toolz>=0.8.0 in /home/prakki/anaconda3/envs/scenicplus/lib/python3.8/site-packages (from cytoolz->ctxcore->pycisTopic==1.0.2.dev12+g1e354e6) (0.12.0)\n",
      "Requirement already satisfied: partd>=0.3.10 in /home/prakki/anaconda3/envs/scenicplus/lib/python3.8/site-packages (from dask->pyscenic@ git+https://github.com/aertslab/pySCENIC@master->pycisTopic==1.0.2.dev12+g1e354e6) (1.3.0)\n",
      "Requirement already satisfied: tblib>=1.6.0 in /home/prakki/anaconda3/envs/scenicplus/lib/python3.8/site-packages (from distributed->pyscenic@ git+https://github.com/aertslab/pySCENIC@master->pycisTopic==1.0.2.dev12+g1e354e6) (1.7.0)\n",
      "Requirement already satisfied: zict>=0.1.3 in /home/prakki/anaconda3/envs/scenicplus/lib/python3.8/site-packages (from distributed->pyscenic@ git+https://github.com/aertslab/pySCENIC@master->pycisTopic==1.0.2.dev12+g1e354e6) (2.2.0)\n",
      "Requirement already satisfied: locket>=1.0.0 in /home/prakki/anaconda3/envs/scenicplus/lib/python3.8/site-packages (from distributed->pyscenic@ git+https://github.com/aertslab/pySCENIC@master->pycisTopic==1.0.2.dev12+g1e354e6) (1.0.0)\n",
      "Requirement already satisfied: dill in /home/prakki/anaconda3/envs/scenicplus/lib/python3.8/site-packages (from multiprocessing_on_dill->pyscenic@ git+https://github.com/aertslab/pySCENIC@master->pycisTopic==1.0.2.dev12+g1e354e6) (0.3.6)\n",
      "Requirement already satisfied: google-api-core<3.0.0,>=1.0.0 in /home/prakki/anaconda3/envs/scenicplus/lib/python3.8/site-packages (from opencensus->ray[default]->pycisTopic==1.0.2.dev12+g1e354e6) (2.11.0)\n",
      "Requirement already satisfied: opencensus-context>=0.1.3 in /home/prakki/anaconda3/envs/scenicplus/lib/python3.8/site-packages (from opencensus->ray[default]->pycisTopic==1.0.2.dev12+g1e354e6) (0.1.3)\n",
      "Requirement already satisfied: url-normalize>=1.4 in /home/prakki/anaconda3/envs/scenicplus/lib/python3.8/site-packages (from requests-cache->pybiomart->pycisTopic==1.0.2.dev12+g1e354e6) (1.4.3)\n",
      "Requirement already satisfied: cattrs>=22.2 in /home/prakki/anaconda3/envs/scenicplus/lib/python3.8/site-packages (from requests-cache->pybiomart->pycisTopic==1.0.2.dev12+g1e354e6) (22.2.0)\n",
      "Requirement already satisfied: appdirs>=1.4.4 in /home/prakki/anaconda3/envs/scenicplus/lib/python3.8/site-packages (from requests-cache->pybiomart->pycisTopic==1.0.2.dev12+g1e354e6) (1.4.4)\n",
      "Requirement already satisfied: PyWavelets>=1.1.1 in /home/prakki/anaconda3/envs/scenicplus/lib/python3.8/site-packages (from scikit-image->scrublet->pycisTopic==1.0.2.dev12+g1e354e6) (1.4.1)\n",
      "Requirement already satisfied: tifffile>=2019.7.26 in /home/prakki/anaconda3/envs/scenicplus/lib/python3.8/site-packages (from scikit-image->scrublet->pycisTopic==1.0.2.dev12+g1e354e6) (2022.10.10)\n",
      "Requirement already satisfied: imageio>=2.4.1 in /home/prakki/anaconda3/envs/scenicplus/lib/python3.8/site-packages (from scikit-image->scrublet->pycisTopic==1.0.2.dev12+g1e354e6) (2.23.0)\n",
      "Requirement already satisfied: stdlib-list in /home/prakki/anaconda3/envs/scenicplus/lib/python3.8/site-packages (from sinfo->scanpy->pycisTopic==1.0.2.dev12+g1e354e6) (0.8.0)\n",
      "Requirement already satisfied: executing>=1.2.0 in /home/prakki/anaconda3/envs/scenicplus/lib/python3.8/site-packages (from stack-data->ipython->pycisTopic==1.0.2.dev12+g1e354e6) (1.2.0)\n",
      "Requirement already satisfied: pure-eval in /home/prakki/anaconda3/envs/scenicplus/lib/python3.8/site-packages (from stack-data->ipython->pycisTopic==1.0.2.dev12+g1e354e6) (0.2.2)\n",
      "Requirement already satisfied: asttokens>=2.1.0 in /home/prakki/anaconda3/envs/scenicplus/lib/python3.8/site-packages (from stack-data->ipython->pycisTopic==1.0.2.dev12+g1e354e6) (2.2.1)\n",
      "Requirement already satisfied: exceptiongroup in /home/prakki/anaconda3/envs/scenicplus/lib/python3.8/site-packages (from cattrs>=22.2->requests-cache->pybiomart->pycisTopic==1.0.2.dev12+g1e354e6) (1.1.0)\n",
      "Requirement already satisfied: pycparser in /home/prakki/anaconda3/envs/scenicplus/lib/python3.8/site-packages (from cffi>=1.12->cryptography<39,>=38.0.0->pyopenssl->pycisTopic==1.0.2.dev12+g1e354e6) (2.21)\n",
      "Requirement already satisfied: google-auth<3.0dev,>=2.14.1 in /home/prakki/anaconda3/envs/scenicplus/lib/python3.8/site-packages (from google-api-core<3.0.0,>=1.0.0->opencensus->ray[default]->pycisTopic==1.0.2.dev12+g1e354e6) (2.15.0)\n",
      "Requirement already satisfied: googleapis-common-protos<2.0dev,>=1.56.2 in /home/prakki/anaconda3/envs/scenicplus/lib/python3.8/site-packages (from google-api-core<3.0.0,>=1.0.0->opencensus->ray[default]->pycisTopic==1.0.2.dev12+g1e354e6) (1.57.0)\n",
      "Requirement already satisfied: mypy-extensions>=0.3.0 in /home/prakki/anaconda3/envs/scenicplus/lib/python3.8/site-packages (from typing-inspect>=0.4.0->dataclasses-json>=0.5.3->loomxpy@ git+https://github.com/aertslab/LoomXpy@main->pycisTopic==1.0.2.dev12+g1e354e6) (0.4.3)\n",
      "Requirement already satisfied: heapdict in /home/prakki/anaconda3/envs/scenicplus/lib/python3.8/site-packages (from zict>=0.1.3->distributed->pyscenic@ git+https://github.com/aertslab/pySCENIC@master->pycisTopic==1.0.2.dev12+g1e354e6) (1.0.1)\n",
      "Requirement already satisfied: webencodings in /home/prakki/anaconda3/envs/scenicplus/lib/python3.8/site-packages (from bleach->nbconvert!=5.4->nbsphinx->pycisTopic==1.0.2.dev12+g1e354e6) (0.5.1)\n",
      "Requirement already satisfied: bokeh<3,>=2.4.2 in /home/prakki/anaconda3/envs/scenicplus/lib/python3.8/site-packages (from dask->pyscenic@ git+https://github.com/aertslab/pySCENIC@master->pycisTopic==1.0.2.dev12+g1e354e6) (2.4.3)\n",
      "Requirement already satisfied: simpful in /home/prakki/anaconda3/envs/scenicplus/lib/python3.8/site-packages (from pyfume->FuzzyTM>=0.4.0->gensim->pycisTopic==1.0.2.dev12+g1e354e6) (2.9.0)\n",
      "Requirement already satisfied: fst-pso in /home/prakki/anaconda3/envs/scenicplus/lib/python3.8/site-packages (from pyfume->FuzzyTM>=0.4.0->gensim->pycisTopic==1.0.2.dev12+g1e354e6) (1.8.1)\n",
      "Requirement already satisfied: cachetools<6.0,>=2.0.0 in /home/prakki/anaconda3/envs/scenicplus/lib/python3.8/site-packages (from google-auth<3.0dev,>=2.14.1->google-api-core<3.0.0,>=1.0.0->opencensus->ray[default]->pycisTopic==1.0.2.dev12+g1e354e6) (5.2.0)\n",
      "Requirement already satisfied: pyasn1-modules>=0.2.1 in /home/prakki/anaconda3/envs/scenicplus/lib/python3.8/site-packages (from google-auth<3.0dev,>=2.14.1->google-api-core<3.0.0,>=1.0.0->opencensus->ray[default]->pycisTopic==1.0.2.dev12+g1e354e6) (0.2.8)\n",
      "Requirement already satisfied: rsa<5,>=3.1.4 in /home/prakki/anaconda3/envs/scenicplus/lib/python3.8/site-packages (from google-auth<3.0dev,>=2.14.1->google-api-core<3.0.0,>=1.0.0->opencensus->ray[default]->pycisTopic==1.0.2.dev12+g1e354e6) (4.9)\n",
      "Requirement already satisfied: miniful in /home/prakki/anaconda3/envs/scenicplus/lib/python3.8/site-packages (from fst-pso->pyfume->FuzzyTM>=0.4.0->gensim->pycisTopic==1.0.2.dev12+g1e354e6) (0.0.6)\n",
      "Requirement already satisfied: pyasn1<0.5.0,>=0.4.6 in /home/prakki/anaconda3/envs/scenicplus/lib/python3.8/site-packages (from pyasn1-modules>=0.2.1->google-auth<3.0dev,>=2.14.1->google-api-core<3.0.0,>=1.0.0->opencensus->ray[default]->pycisTopic==1.0.2.dev12+g1e354e6) (0.4.8)\n",
      "Installing collected packages: pycisTopic\n",
      "  Attempting uninstall: pycisTopic\n",
      "    Found existing installation: pycisTopic 1.0.2.dev12+g1e354e6\n",
      "    Uninstalling pycisTopic-1.0.2.dev12+g1e354e6:\n",
      "      Successfully uninstalled pycisTopic-1.0.2.dev12+g1e354e6\n",
      "  Running setup.py develop for pycisTopic\n",
      "Successfully installed pycisTopic-1.0.2.dev12+g1e354e6\n"
     ]
    }
   ],
   "source": [
    "#!pip3 install leidenalg\n",
    "#!pip3 install pyranges\n",
    "#!pip3 install pyBigWig\n",
    "#!pip3 install ray\n",
    "#!pip3 install lda\n",
    "#!pip3 install tmtoolkit\n",
    "#!python -m pip install -U gensim\n",
    "#%cd pycisTopic\n",
    "#%ls\n",
    "#%cd ..\n",
    "#!git clone https://github.com/aertslab/pycisTopic.git\n",
    "#%cd pycisTopic\n",
    "#print(os.listdir())\n",
    "#!pip install -e ."
   ]
  },
  {
   "cell_type": "code",
   "execution_count": 41,
   "metadata": {},
   "outputs": [
    {
     "name": "stdout",
     "output_type": "stream",
     "text": [
      "3.6.4 (default, Sep 25 2020, 13:18:17) \n",
      "[GCC 7.5.0]\n",
      "Python 3.8.0\r\n"
     ]
    }
   ],
   "source": [
    "import sys\n",
    "print(sys.version)\n",
    "!python --version"
   ]
  },
  {
   "cell_type": "code",
   "execution_count": null,
   "metadata": {},
   "outputs": [],
   "source": []
  },
  {
   "cell_type": "code",
   "execution_count": 42,
   "metadata": {},
   "outputs": [],
   "source": [
    "#supress warnings\n",
    "import warnings\n",
    "warnings.simplefilter(action='ignore', category=FutureWarning)\n",
    "import sys\n",
    "import os\n",
    "_stderr = sys.stderr\n",
    "null = open(os.devnull,'wb')"
   ]
  },
  {
   "cell_type": "code",
   "execution_count": 6,
   "metadata": {},
   "outputs": [
    {
     "name": "stdout",
     "output_type": "stream",
     "text": [
      "--2023-01-16 14:33:51--  https://cf.10xgenomics.com/samples/cell-arc/2.0.0/pbmc_granulocyte_sorted_3k/pbmc_granulocyte_sorted_3k_filtered_feature_bc_matrix.h5\n",
      "Resolving cf.10xgenomics.com (cf.10xgenomics.com)... 104.18.1.173, 104.18.0.173, 2606:4700::6812:1ad, ...\n",
      "Connecting to cf.10xgenomics.com (cf.10xgenomics.com)|104.18.1.173|:443... connected.\n",
      "HTTP request sent, awaiting response... 200 OK\n",
      "Length: 38844318 (37M) [binary/octet-stream]\n",
      "Saving to: ‘pbmc_tutorial/data/pbmc_granulocyte_sorted_3k_filtered_feature_bc_matrix.h5’\n",
      "\n",
      "pbmc_tutorial/data/ 100%[===================>]  37.04M  7.10MB/s    in 5.0s    \n",
      "\n",
      "2023-01-16 14:33:57 (7.36 MB/s) - ‘pbmc_tutorial/data/pbmc_granulocyte_sorted_3k_filtered_feature_bc_matrix.h5’ saved [38844318/38844318]\n",
      "\n",
      "--2023-01-16 14:33:57--  https://cf.10xgenomics.com/samples/cell-arc/2.0.0/pbmc_granulocyte_sorted_3k/pbmc_granulocyte_sorted_3k_atac_fragments.tsv.gz\n",
      "Resolving cf.10xgenomics.com (cf.10xgenomics.com)... 104.18.0.173, 104.18.1.173, 2606:4700::6812:ad, ...\n",
      "Connecting to cf.10xgenomics.com (cf.10xgenomics.com)|104.18.0.173|:443... connected.\n",
      "HTTP request sent, awaiting response... 200 OK\n",
      "Length: 467587065 (446M) [text/tab-separated-values]\n",
      "Saving to: ‘pbmc_tutorial/data/pbmc_granulocyte_sorted_3k_atac_fragments.tsv.gz’\n",
      "\n",
      "pbmc_tutorial/data/ 100%[===================>] 445.92M  8.37MB/s    in 58s     \n",
      "\n",
      "2023-01-16 14:34:55 (7.75 MB/s) - ‘pbmc_tutorial/data/pbmc_granulocyte_sorted_3k_atac_fragments.tsv.gz’ saved [467587065/467587065]\n",
      "\n"
     ]
    }
   ],
   "source": [
    "!mkdir -p pbmc_tutorial/data\n",
    "!wget -O pbmc_tutorial/data/pbmc_granulocyte_sorted_3k_filtered_feature_bc_matrix.h5 https://cf.10xgenomics.com/samples/cell-arc/2.0.0/pbmc_granulocyte_sorted_3k/pbmc_granulocyte_sorted_3k_filtered_feature_bc_matrix.h5\n",
    "!wget -O pbmc_tutorial/data/pbmc_granulocyte_sorted_3k_atac_fragments.tsv.gz https://cf.10xgenomics.com/samples/cell-arc/2.0.0/pbmc_granulocyte_sorted_3k/pbmc_granulocyte_sorted_3k_atac_fragments.tsv.gz"
   ]
  },
  {
   "cell_type": "code",
   "execution_count": 43,
   "metadata": {},
   "outputs": [],
   "source": [
    "import os\n",
    "work_dir = 'pbmc_tutorial'"
   ]
  },
  {
   "cell_type": "code",
   "execution_count": 44,
   "metadata": {},
   "outputs": [],
   "source": [
    "import scanpy as sc\n",
    "#set some figure parameters for nice display inside jupyternotebooks.\n",
    "%matplotlib inline\n",
    "sc.settings.set_figure_params(dpi=80, frameon=False, figsize=(5, 5), facecolor='white')\n",
    "\n",
    "#make a directory for to store the processed scRNA-seq data.\n",
    "if not os.path.exists(os.path.join(work_dir, 'scRNA')):\n",
    "    os.makedirs(os.path.join(work_dir, 'scRNA'))"
   ]
  },
  {
   "cell_type": "code",
   "execution_count": 45,
   "metadata": {},
   "outputs": [
    {
     "name": "stderr",
     "output_type": "stream",
     "text": [
      "Variable names are not unique. To make them unique, call `.var_names_make_unique`.\n",
      "Variable names are not unique. To make them unique, call `.var_names_make_unique`.\n"
     ]
    },
    {
     "data": {
      "text/plain": [
       "AnnData object with n_obs × n_vars = 2711 × 36601\n",
       "    var: 'gene_ids', 'feature_types', 'genome'"
      ]
     },
     "execution_count": 45,
     "metadata": {},
     "output_type": "execute_result"
    }
   ],
   "source": [
    "adata = sc.read_10x_h5(os.path.join(work_dir, 'data/pbmc_granulocyte_sorted_3k_filtered_feature_bc_matrix.h5'))\n",
    "adata.var_names_make_unique()\n",
    "adata"
   ]
  },
  {
   "cell_type": "code",
   "execution_count": 46,
   "metadata": {},
   "outputs": [],
   "source": [
    "sc.pp.filter_cells(adata, min_genes=200)\n",
    "sc.pp.filter_genes(adata, min_cells=3)"
   ]
  },
  {
   "cell_type": "code",
   "execution_count": 47,
   "metadata": {},
   "outputs": [
    {
     "name": "stderr",
     "output_type": "stream",
     "text": [
      "... storing 'feature_types' as categorical\n",
      "... storing 'genome' as categorical\n"
     ]
    },
    {
     "data": {
      "image/png": "[encoded data removed]",
      "text/plain": [
       "<Figure size 640x320 with 2 Axes>"
      ]
     },
     "metadata": {},
     "output_type": "display_data"
    }
   ],
   "source": [
    "adata.var['mt'] = adata.var_names.str.startswith('MT-')  # annotate the group of mitochondrial genes as 'mt'\n",
    "sc.pp.calculate_qc_metrics(adata, qc_vars=['mt'], percent_top=None, log1p=False, inplace=True)\n",
    "import matplotlib.pyplot as plt\n",
    "mito_filter = 25\n",
    "n_counts_filter = 4300\n",
    "fig, axs = plt.subplots(ncols = 2, figsize = (8,4))\n",
    "sc.pl.scatter(adata, x='total_counts', y='pct_counts_mt', ax = axs[0], show=False)\n",
    "sc.pl.scatter(adata, x='total_counts', y='n_genes_by_counts', ax = axs[1], show = False)\n",
    "#draw horizontal red lines indicating thresholds.\n",
    "axs[0].hlines(y = mito_filter, xmin = 0, xmax = max(adata.obs['total_counts']), color = 'red', ls = 'dashed')\n",
    "axs[1].hlines(y = n_counts_filter, xmin = 0, xmax = max(adata.obs['total_counts']), color = 'red', ls = 'dashed')\n",
    "fig.tight_layout()\n",
    "plt.show()\n"
   ]
  },
  {
   "cell_type": "code",
   "execution_count": 48,
   "metadata": {},
   "outputs": [
    {
     "data": {
      "text/plain": [
       "View of AnnData object with n_obs × n_vars = 2664 × 21255\n",
       "    obs: 'n_genes', 'n_genes_by_counts', 'total_counts', 'total_counts_mt', 'pct_counts_mt'\n",
       "    var: 'gene_ids', 'feature_types', 'genome', 'n_cells', 'mt', 'n_cells_by_counts', 'mean_counts', 'pct_dropout_by_counts', 'total_counts'"
      ]
     },
     "execution_count": 48,
     "metadata": {},
     "output_type": "execute_result"
    }
   ],
   "source": [
    "adata = adata[adata.obs.n_genes_by_counts < n_counts_filter, :]\n",
    "adata = adata[adata.obs.pct_counts_mt < mito_filter, :]\n",
    "adata"
   ]
  },
  {
   "cell_type": "code",
   "execution_count": 49,
   "metadata": {},
   "outputs": [
    {
     "name": "stderr",
     "output_type": "stream",
     "text": [
      "/home/prakki/sw/pyenv/versions/3.6.4/lib/python3.6/site-packages/scanpy/preprocessing/_simple.py:845: UserWarning: Revieved a view of an AnnData. Making a copy.\n",
      "  view_to_actual(adata)\n"
     ]
    }
   ],
   "source": [
    "adata.raw = adata\n",
    "sc.pp.normalize_total(adata, target_sum=1e4)\n",
    "sc.pp.log1p(adata)\n",
    "sc.pp.highly_variable_genes(adata, min_mean=0.0125, max_mean=3, min_disp=0.5)\n",
    "adata = adata[:, adata.var.highly_variable]\n",
    "sc.pp.scale(adata, max_value=10)"
   ]
  },
  {
   "cell_type": "code",
   "execution_count": 50,
   "metadata": {},
   "outputs": [],
   "source": [
    "adata_ref = sc.datasets.pbmc3k_processed() #use the preprocessed data from the Scanpy tutorial as reference\n",
    "var_names = adata_ref.var_names.intersection(adata.var_names) #use genes which are present in both assays\n",
    "adata_ref = adata_ref[:, var_names]\n",
    "adata = adata[:, var_names]\n",
    "sc.pp.pca(adata_ref) #calculate PCA embedding\n",
    "sc.pp.neighbors(adata_ref) #calculate neighborhood graph\n",
    "sc.tl.umap(adata_ref) #calculate umap embedding\n",
    "sc.tl.ingest(adata, adata_ref, obs='louvain') #run label transfer\n",
    "adata.obs.rename({'louvain': 'ingest_celltype_label'}, inplace = True, axis = 1)"
   ]
  },
  {
   "cell_type": "code",
   "execution_count": 51,
   "metadata": {},
   "outputs": [
    {
     "data": {
      "image/png": "[encoded data removed]",
      "text/plain": [
       "<Figure size 400x400 with 1 Axes>"
      ]
     },
     "metadata": {},
     "output_type": "display_data"
    }
   ],
   "source": [
    "sc.tl.pca(adata, svd_solver='arpack')\n",
    "sc.pl.pca_variance_ratio(adata, log=True)"
   ]
  },
  {
   "cell_type": "code",
   "execution_count": 52,
   "metadata": {},
   "outputs": [
    {
     "data": {
      "image/png": "[encoded data removed]",
      "text/plain": [
       "<Figure size 400x400 with 1 Axes>"
      ]
     },
     "metadata": {},
     "output_type": "display_data"
    }
   ],
   "source": [
    "sc.pp.neighbors(adata, n_neighbors=10, n_pcs=10)\n",
    "sc.tl.umap(adata)\n",
    "sc.pl.umap(adata, color = 'ingest_celltype_label')"
   ]
  },
  {
   "cell_type": "code",
   "execution_count": 53,
   "metadata": {},
   "outputs": [
    {
     "data": {
      "image/png": "[encoded data removed]",
      "text/plain": [
       "<Figure size 400x400 with 1 Axes>"
      ]
     },
     "metadata": {},
     "output_type": "display_data"
    }
   ],
   "source": [
    "sc.tl.leiden(adata, resolution = 0.8, key_added = 'leiden_res_0.8')\n",
    "sc.pl.umap(adata, color = 'leiden_res_0.8')"
   ]
  },
  {
   "cell_type": "code",
   "execution_count": 54,
   "metadata": {},
   "outputs": [
    {
     "data": {
      "text/plain": [
       "{'0': 'CD14+ Monocytes',\n",
       " '1': 'CD4 T cells',\n",
       " '2': 'CD4 T cells',\n",
       " '3': 'CD4 T cells',\n",
       " '4': 'CD8 T cells',\n",
       " '5': 'B cells',\n",
       " '6': 'CD14+ Monocytes',\n",
       " '7': 'FCGR3A+ Monocytes',\n",
       " '8': 'NK cells',\n",
       " '9': 'Dendritic cells',\n",
       " '10': 'B cells'}"
      ]
     },
     "execution_count": 54,
     "metadata": {},
     "output_type": "execute_result"
    }
   ],
   "source": [
    "tmp_df = adata.obs.groupby(['leiden_res_0.8', 'ingest_celltype_label']).size().unstack(fill_value=0)\n",
    "tmp_df = (tmp_df / tmp_df.sum(0)).fillna(0)\n",
    "leiden_to_annotation = tmp_df.idxmax(1).to_dict()\n",
    "leiden_to_annotation"
   ]
  },
  {
   "cell_type": "code",
   "execution_count": 55,
   "metadata": {},
   "outputs": [
    {
     "data": {
      "text/plain": [
       "{'0': 'CD14+_Monocytes',\n",
       " '1': 'CD4_T_cells',\n",
       " '2': 'CD4_T_cells',\n",
       " '3': 'CD4_T_cells',\n",
       " '4': 'CD8_T_cells',\n",
       " '5': 'B_cells',\n",
       " '6': 'CD14+_Monocytes',\n",
       " '7': 'B_cells_1',\n",
       " '8': 'NK_cells',\n",
       " '9': 'Dendritic_cells',\n",
       " '10': 'B_cells',\n",
       " '11': 'B_cells_2'}"
      ]
     },
     "execution_count": 55,
     "metadata": {},
     "output_type": "execute_result"
    }
   ],
   "source": [
    "leiden_to_annotation['7'] = 'B cells 1'\n",
    "leiden_to_annotation['11'] = 'B cells 2'\n",
    "leiden_to_annotation = {cluster: leiden_to_annotation[cluster].replace(' ', '_') for cluster in leiden_to_annotation.keys()}\n",
    "leiden_to_annotation"
   ]
  },
  {
   "cell_type": "code",
   "execution_count": 56,
   "metadata": {},
   "outputs": [],
   "source": [
    "adata.obs['celltype'] = [leiden_to_annotation[cluster_id] for cluster_id in adata.obs['leiden_res_0.8']]\n",
    "del(leiden_to_annotation)\n",
    "del(tmp_df)"
   ]
  },
  {
   "cell_type": "code",
   "execution_count": 57,
   "metadata": {},
   "outputs": [
    {
     "name": "stderr",
     "output_type": "stream",
     "text": [
      "... storing 'celltype' as categorical\n"
     ]
    },
    {
     "data": {
      "image/png": "[encoded data removed]",
      "text/plain": [
       "<Figure size 400x400 with 1 Axes>"
      ]
     },
     "metadata": {},
     "output_type": "display_data"
    }
   ],
   "source": [
    "sc.pl.umap(adata, color = 'celltype')"
   ]
  },
  {
   "cell_type": "code",
   "execution_count": 58,
   "metadata": {},
   "outputs": [],
   "source": [
    "adata.write(os.path.join(work_dir, 'scRNA/adata.h5ad'), compression='gzip')"
   ]
  },
  {
   "cell_type": "markdown",
   "metadata": {},
   "source": [
    "ATAC data"
   ]
  },
  {
   "cell_type": "code",
   "execution_count": 79,
   "metadata": {},
   "outputs": [],
   "source": [
    "import os\n",
    "work_dir = 'pbmc_tutorial'\n",
    "import pycisTopic\n",
    "#set some figure parameters for nice display inside jupyternotebooks.\n",
    "%matplotlib inline\n",
    "\n",
    "#make a directory for to store the processed scRNA-seq data.\n",
    "if not os.path.exists(os.path.join(work_dir, 'scATAC')):\n",
    "    os.makedirs(os.path.join(work_dir, 'scATAC'))\n",
    "tmp_dir = '/scratch/leuven/330/vsc33053/'\n"
   ]
  },
  {
   "cell_type": "code",
   "execution_count": 80,
   "metadata": {},
   "outputs": [],
   "source": [
    "fragments_dict = {'10x_pbmc': os.path.join(work_dir, 'data/pbmc_granulocyte_sorted_3k_atac_fragments.tsv.gz')}\n"
   ]
  },
  {
   "cell_type": "code",
   "execution_count": 87,
   "metadata": {},
   "outputs": [
    {
     "name": "stdout",
     "output_type": "stream",
     "text": [
      "pbmc_tutorial\n",
      "['data', 'pbmc_tutorial', 'SC_Analysis_v1.ipynb', 'pycisTopic', 'scenic+.ipynb', '.ipynb_checkpoints']\n",
      "/data01/SingleCell/Python_notebooks\n"
     ]
    }
   ],
   "source": [
    "print(work_dir)\n",
    "print(os.listdir())\n",
    "%cd /data01/SingleCell/Python_notebooks"
   ]
  },
  {
   "cell_type": "code",
   "execution_count": 88,
   "metadata": {},
   "outputs": [],
   "source": [
    "import scanpy as sc\n",
    "adata = sc.read_h5ad(os.path.join(work_dir, 'scRNA/adata.h5ad'))\n",
    "cell_data = adata.obs\n",
    "cell_data['sample_id'] = '10x_pbmc'\n",
    "cell_data['celltype'] = cell_data['celltype'].astype(str) # set data type of the celltype column to str, otherwise the export_pseudobulk function will complain.\n",
    "del(adata)"
   ]
  },
  {
   "cell_type": "code",
   "execution_count": 89,
   "metadata": {},
   "outputs": [],
   "source": [
    "# Get chromosome sizes (for hg38 here)\n",
    "import pyranges as pr\n",
    "import requests\n",
    "import pandas as pd\n",
    "target_url='http://hgdownload.cse.ucsc.edu/goldenPath/hg38/bigZips/hg38.chrom.sizes'\n",
    "chromsizes=pd.read_csv(target_url, sep='\\t', header=None)\n",
    "chromsizes.columns=['Chromosome', 'End']\n",
    "chromsizes['Start']=[0]*chromsizes.shape[0]\n",
    "chromsizes=chromsizes.loc[:,['Chromosome', 'Start', 'End']]\n",
    "# Exceptionally in this case, to agree with CellRangerARC annotations\n",
    "chromsizes['Chromosome'] = [chromsizes['Chromosome'][x].replace('v', '.') for x in range(len(chromsizes['Chromosome']))]\n",
    "chromsizes['Chromosome'] = [chromsizes['Chromosome'][x].split('_')[1] if len(chromsizes['Chromosome'][x].split('_')) > 1 else chromsizes['Chromosome'][x] for x in range(len(chromsizes['Chromosome']))]\n",
    "chromsizes=pr.PyRanges(chromsizes)"
   ]
  },
  {
   "cell_type": "code",
   "execution_count": 104,
   "metadata": {},
   "outputs": [
    {
     "ename": "AttributeError",
     "evalue": "module 'pycisTopic' has no attribute '__version__'",
     "output_type": "error",
     "traceback": [
      "\u001b[0;31m---------------------------------------------------------------------------\u001b[0m",
      "\u001b[0;31mAttributeError\u001b[0m                            Traceback (most recent call last)",
      "\u001b[0;32m<ipython-input-104-7641915d1120>\u001b[0m in \u001b[0;36m<module>\u001b[0;34m\u001b[0m\n\u001b[1;32m      6\u001b[0m \u001b[0;34m'pycisTopic'\u001b[0m \u001b[0;32min\u001b[0m \u001b[0msys\u001b[0m\u001b[0;34m.\u001b[0m\u001b[0mmodules\u001b[0m\u001b[0;34m\u001b[0m\u001b[0m\n\u001b[1;32m      7\u001b[0m \u001b[0;32mimport\u001b[0m \u001b[0mpycisTopic\u001b[0m\u001b[0;34m\u001b[0m\u001b[0m\n\u001b[0;32m----> 8\u001b[0;31m \u001b[0mpycisTopic\u001b[0m\u001b[0;34m.\u001b[0m\u001b[0m__version__\u001b[0m\u001b[0;34m\u001b[0m\u001b[0m\n\u001b[0m",
      "\u001b[0;31mAttributeError\u001b[0m: module 'pycisTopic' has no attribute '__version__'"
     ]
    }
   ],
   "source": [
    "#Little tests\n",
    "\n",
    "#import pycisTopic as pT\n",
    "#help(pycisTopic)\n",
    "#'pT' in sys.modules\n",
    "'pycisTopic' in sys.modules\n",
    "import pycisTopic\n",
    "pycisTopic.__version__"
   ]
  },
  {
   "cell_type": "code",
   "execution_count": 103,
   "metadata": {},
   "outputs": [
    {
     "ename": "ModuleNotFoundError",
     "evalue": "No module named 'pycisTopic.pseudobulk_peak_calling'",
     "output_type": "error",
     "traceback": [
      "\u001b[0;31m---------------------------------------------------------------------------\u001b[0m",
      "\u001b[0;31mModuleNotFoundError\u001b[0m                       Traceback (most recent call last)",
      "\u001b[0;32m<ipython-input-103-0d21b884e816>\u001b[0m in \u001b[0;36m<module>\u001b[0;34m\u001b[0m\n\u001b[0;32m----> 1\u001b[0;31m \u001b[0;32mfrom\u001b[0m \u001b[0mpycisTopic\u001b[0m\u001b[0;34m.\u001b[0m\u001b[0mpseudobulk_peak_calling\u001b[0m \u001b[0;32mimport\u001b[0m \u001b[0mexport_pseudobulk\u001b[0m\u001b[0;34m\u001b[0m\u001b[0m\n\u001b[0m\u001b[1;32m      2\u001b[0m bw_paths, bed_paths = export_pseudobulk(input_data = cell_data,\n\u001b[1;32m      3\u001b[0m                  \u001b[0mvariable\u001b[0m \u001b[0;34m=\u001b[0m \u001b[0;34m'celltype'\u001b[0m\u001b[0;34m,\u001b[0m                                                                     \u001b[0;31m# variable by which to generate pseubulk profiles, in this case we want pseudobulks per celltype\u001b[0m\u001b[0;34m\u001b[0m\u001b[0m\n\u001b[1;32m      4\u001b[0m                  \u001b[0msample_id_col\u001b[0m \u001b[0;34m=\u001b[0m \u001b[0;34m'sample_id'\u001b[0m\u001b[0;34m,\u001b[0m\u001b[0;34m\u001b[0m\u001b[0m\n\u001b[1;32m      5\u001b[0m                  \u001b[0mchromsizes\u001b[0m \u001b[0;34m=\u001b[0m \u001b[0mchromsizes\u001b[0m\u001b[0;34m,\u001b[0m\u001b[0;34m\u001b[0m\u001b[0m\n",
      "\u001b[0;31mModuleNotFoundError\u001b[0m: No module named 'pycisTopic.pseudobulk_peak_calling'"
     ]
    }
   ],
   "source": [
    "from pycisTopic.pseudobulk_peak_calling import export_pseudobulk\n",
    "bw_paths, bed_paths = export_pseudobulk(input_data = cell_data,\n",
    "                 variable = 'celltype',                                                                     # variable by which to generate pseubulk profiles, in this case we want pseudobulks per celltype\n",
    "                 sample_id_col = 'sample_id',\n",
    "                 chromsizes = chromsizes,\n",
    "                 bed_path = os.path.join(work_dir, 'scATAC/consensus_peak_calling/pseudobulk_bed_files/'),  # specify where pseudobulk_bed_files should be stored\n",
    "                 bigwig_path = os.path.join(work_dir, 'scATAC/consensus_peak_calling/pseudobulk_bw_files/'),# specify where pseudobulk_bw_files should be stored\n",
    "                 path_to_fragments = fragments_dict,                                                        # location of fragment fiels\n",
    "                 n_cpu = 8,                                                                                 # specify the number of cores to use, we use ray for multi processing\n",
    "                 normalize_bigwig = True,\n",
    "                 remove_duplicates = True,\n",
    "                 _temp_dir = os.path.join(tmp_dir, 'ray_spill'),\n",
    "                 split_pattern = '-')"
   ]
  },
  {
   "cell_type": "code",
   "execution_count": null,
   "metadata": {},
   "outputs": [],
   "source": [
    "import pickle\n",
    "pickle.dump(bed_paths,\n",
    "            open(os.path.join(work_dir, 'scATAC/consensus_peak_calling/pseudobulk_bed_files/bed_paths.pkl'), 'wb'))\n",
    "pickle.dump(bw_paths,\n",
    "           open(os.path.join(work_dir, 'scATAC/consensus_peak_calling/pseudobulk_bed_files/bw_paths.pkl'), 'wb'))"
   ]
  },
  {
   "cell_type": "code",
   "execution_count": 68,
   "metadata": {},
   "outputs": [
    {
     "ename": "FileNotFoundError",
     "evalue": "[Errno 2] No such file or directory: 'pbmc_tutorial/scATAC/consensus_peak_calling/pseudobulk_bed_files/bed_paths.pkl'",
     "output_type": "error",
     "traceback": [
      "\u001b[0;31m---------------------------------------------------------------------------\u001b[0m",
      "\u001b[0;31mFileNotFoundError\u001b[0m                         Traceback (most recent call last)",
      "\u001b[0;32m<ipython-input-68-d0b8d53db01f>\u001b[0m in \u001b[0;36m<module>\u001b[0;34m\u001b[0m\n\u001b[1;32m      1\u001b[0m \u001b[0;32mimport\u001b[0m \u001b[0mpickle\u001b[0m\u001b[0;34m\u001b[0m\u001b[0m\n\u001b[0;32m----> 2\u001b[0;31m \u001b[0mbed_paths\u001b[0m \u001b[0;34m=\u001b[0m \u001b[0mpickle\u001b[0m\u001b[0;34m.\u001b[0m\u001b[0mload\u001b[0m\u001b[0;34m(\u001b[0m\u001b[0mopen\u001b[0m\u001b[0;34m(\u001b[0m\u001b[0mos\u001b[0m\u001b[0;34m.\u001b[0m\u001b[0mpath\u001b[0m\u001b[0;34m.\u001b[0m\u001b[0mjoin\u001b[0m\u001b[0;34m(\u001b[0m\u001b[0mwork_dir\u001b[0m\u001b[0;34m,\u001b[0m \u001b[0;34m'scATAC/consensus_peak_calling/pseudobulk_bed_files/bed_paths.pkl'\u001b[0m\u001b[0;34m)\u001b[0m\u001b[0;34m,\u001b[0m \u001b[0;34m'rb'\u001b[0m\u001b[0;34m)\u001b[0m\u001b[0;34m)\u001b[0m\u001b[0;34m\u001b[0m\u001b[0m\n\u001b[0m\u001b[1;32m      3\u001b[0m \u001b[0mbw_paths\u001b[0m \u001b[0;34m=\u001b[0m  \u001b[0mpickle\u001b[0m\u001b[0;34m.\u001b[0m\u001b[0mload\u001b[0m\u001b[0;34m(\u001b[0m\u001b[0mopen\u001b[0m\u001b[0;34m(\u001b[0m\u001b[0mos\u001b[0m\u001b[0;34m.\u001b[0m\u001b[0mpath\u001b[0m\u001b[0;34m.\u001b[0m\u001b[0mjoin\u001b[0m\u001b[0;34m(\u001b[0m\u001b[0mwork_dir\u001b[0m\u001b[0;34m,\u001b[0m \u001b[0;34m'scATAC/consensus_peak_calling/pseudobulk_bed_files/bw_paths.pkl'\u001b[0m\u001b[0;34m)\u001b[0m\u001b[0;34m,\u001b[0m \u001b[0;34m'rb'\u001b[0m\u001b[0;34m)\u001b[0m\u001b[0;34m)\u001b[0m\u001b[0;34m\u001b[0m\u001b[0m\n\u001b[1;32m      4\u001b[0m \u001b[0;32mfrom\u001b[0m \u001b[0mpycisTopic\u001b[0m\u001b[0;34m.\u001b[0m\u001b[0mpseudobulk_peak_calling\u001b[0m \u001b[0;32mimport\u001b[0m \u001b[0mpeak_calling\u001b[0m\u001b[0;34m\u001b[0m\u001b[0m\n\u001b[1;32m      5\u001b[0m \u001b[0mmacs_path\u001b[0m\u001b[0;34m=\u001b[0m\u001b[0;34m'macs2'\u001b[0m\u001b[0;34m\u001b[0m\u001b[0m\n",
      "\u001b[0;31mFileNotFoundError\u001b[0m: [Errno 2] No such file or directory: 'pbmc_tutorial/scATAC/consensus_peak_calling/pseudobulk_bed_files/bed_paths.pkl'"
     ]
    }
   ],
   "source": [
    "import pickle\n",
    "bed_paths = pickle.load(open(os.path.join(work_dir, 'scATAC/consensus_peak_calling/pseudobulk_bed_files/bed_paths.pkl'), 'rb'))\n",
    "bw_paths =  pickle.load(open(os.path.join(work_dir, 'scATAC/consensus_peak_calling/pseudobulk_bed_files/bw_paths.pkl'), 'rb'))\n",
    "from pycisTopic.pseudobulk_peak_calling import peak_calling\n",
    "macs_path='macs2'\n",
    "# Run peak calling\n",
    "narrow_peaks_dict = peak_calling(macs_path,\n",
    "                                 bed_paths,\n",
    "                                 os.path.join(work_dir, 'scATAC/consensus_peak_calling/MACS/'),\n",
    "                                 genome_size='hs',\n",
    "                                 n_cpu=8,\n",
    "                                 input_format='BEDPE',\n",
    "                                 shift=73,\n",
    "                                 ext_size=146,\n",
    "                                 keep_dup = 'all',\n",
    "                                 q_value = 0.05,\n",
    "                                 _temp_dir = os.path.join(tmp_dir, 'ray_spill'))"
   ]
  },
  {
   "cell_type": "code",
   "execution_count": 100,
   "metadata": {},
   "outputs": [
    {
     "name": "stdout",
     "output_type": "stream",
     "text": [
      "adjustText==0.7.3\r\n",
      "aiohttp==3.8.3\r\n",
      "aiohttp-cors==0.7.0\r\n",
      "aiosignal==1.3.1\r\n",
      "alabaster==0.7.12\r\n",
      "anndata==0.8.0\r\n",
      "annoy==1.17.1\r\n",
      "ansiwrap==0.8.4\r\n",
      "appdirs==1.4.4\r\n",
      "arboreto==0.1.6\r\n",
      "asttokens==2.2.1\r\n",
      "async-timeout==4.0.2\r\n",
      "attr==0.3.2\r\n",
      "attrs==22.2.0\r\n",
      "Babel==2.11.0\r\n",
      "backcall==0.2.0\r\n",
      "backports.zoneinfo==0.2.1\r\n",
      "bbknn==1.5.1\r\n",
      "beautifulsoup4==4.11.1\r\n",
      "bioservices==1.11.0\r\n",
      "bleach==5.0.1\r\n",
      "blessed==1.19.1\r\n",
      "blosc2==2.0.0\r\n",
      "bokeh==2.4.3\r\n",
      "boltons==21.0.0\r\n",
      "bs4==0.0.1\r\n",
      "cachetools==5.2.0\r\n",
      "cattrs==22.2.0\r\n",
      "certifi==2022.12.7\r\n",
      "cffi==1.15.1\r\n",
      "charset-normalizer==2.1.1\r\n",
      "click==8.1.3\r\n",
      "cloudpickle==2.2.0\r\n",
      "colorama==0.4.6\r\n",
      "colorful==0.5.5\r\n",
      "colorlog==6.7.0\r\n",
      "comm==0.1.2\r\n",
      "contourpy==1.0.6\r\n",
      "cryptography==38.0.4\r\n",
      "ctxcore==0.2.0\r\n",
      "cycler==0.11.0\r\n",
      "Cython==0.29.32\r\n",
      "cytoolz==0.12.1\r\n",
      "dask==2022.12.1\r\n",
      "dataclasses-json==0.5.7\r\n",
      "debugpy==1.6.4\r\n",
      "decorator==5.1.1\r\n",
      "defusedxml==0.7.1\r\n",
      "dill==0.3.6\r\n",
      "distlib==0.3.6\r\n",
      "distributed==2022.12.1\r\n",
      "docutils==0.17.1\r\n",
      "easydev==0.12.0\r\n",
      "entrypoints==0.4\r\n",
      "et-xmlfile==1.1.0\r\n",
      "exceptiongroup==1.1.0\r\n",
      "executing==1.2.0\r\n",
      "fa2==0.3.5\r\n",
      "fastjsonschema==2.16.2\r\n",
      "fbpca==1.0\r\n",
      "filelock==3.9.0\r\n",
      "fonttools==4.38.0\r\n",
      "frozendict==2.3.4\r\n",
      "frozenlist==1.3.3\r\n",
      "fsspec==2022.11.0\r\n",
      "fst-pso==1.8.1\r\n",
      "future==0.18.2\r\n",
      "FuzzyTM==2.0.5\r\n",
      "gensim==4.3.0\r\n",
      "geosketch==1.2\r\n",
      "gevent==22.10.2\r\n",
      "globre==0.1.5\r\n",
      "google-api-core==2.11.0\r\n",
      "google-auth==2.15.0\r\n",
      "googleapis-common-protos==1.57.0\r\n",
      "gpustat==1.0.0\r\n",
      "greenlet==2.0.1\r\n",
      "grequests==0.6.0\r\n",
      "grpcio==1.51.1\r\n",
      "gseapy==0.10.8\r\n",
      "h5py==3.7.0\r\n",
      "harmonypy==0.0.9\r\n",
      "HeapDict==1.0.1\r\n",
      "idna==3.4\r\n",
      "igraph==0.10.2\r\n",
      "imageio==2.23.0\r\n",
      "imagesize==1.4.1\r\n",
      "importlib-metadata==6.0.0\r\n",
      "importlib-resources==5.10.2\r\n",
      "interlap==0.2.7\r\n",
      "intervaltree==3.1.0\r\n",
      "ipykernel==6.19.4\r\n",
      "ipympl==0.9.2\r\n",
      "ipython==8.7.0\r\n",
      "ipython-genutils==0.2.0\r\n",
      "ipywidgets==8.0.4\r\n",
      "jedi==0.18.2\r\n",
      "Jinja2==3.1.2\r\n",
      "joblib==1.2.0\r\n",
      "jsonpickle==3.0.1\r\n",
      "jsonschema==4.17.3\r\n",
      "jupyter_client==7.4.8\r\n",
      "jupyter_core==5.1.1\r\n",
      "jupyterlab-pygments==0.2.2\r\n",
      "jupyterlab-widgets==3.0.5\r\n",
      "kaleido==0.2.1\r\n",
      "kiwisolver==1.4.4\r\n",
      "lda==2.0.0\r\n",
      "leidenalg==0.9.1\r\n",
      "Levenshtein==0.20.9\r\n",
      "llvmlite==0.39.1\r\n",
      "locket==1.0.0\r\n",
      "loompy==3.0.7\r\n",
      "loomxpy @ git+https://github.com/aertslab/LoomXpy@61995ff10940968eac2cee8fe48300ab477a15d0\r\n",
      "lxml==4.9.2\r\n",
      "MACS2==2.2.7.1\r\n",
      "MarkupSafe==2.1.1\r\n",
      "marshmallow==3.19.0\r\n",
      "marshmallow-enum==1.5.1\r\n",
      "matplotlib==3.6.2\r\n",
      "matplotlib-inline==0.1.6\r\n",
      "miniful==0.0.6\r\n",
      "mistune==2.0.4\r\n",
      "mizani==0.8.1\r\n",
      "msgpack==1.0.4\r\n",
      "mudata==0.2.1\r\n",
      "multidict==6.0.4\r\n",
      "multiprocessing-on-dill==3.5.0a4\r\n",
      "mypy-extensions==0.4.3\r\n",
      "natsort==8.2.0\r\n",
      "nbclient==0.7.2\r\n",
      "nbconvert==7.2.7\r\n",
      "nbformat==5.7.1\r\n",
      "nbsphinx==0.8.11\r\n",
      "nbsphinx-link==1.3.0\r\n",
      "ncls==0.0.65\r\n",
      "nest-asyncio==1.5.6\r\n",
      "networkx==2.8.8\r\n",
      "numba==0.56.4\r\n",
      "numexpr==2.8.4\r\n",
      "numpy==1.23.5\r\n",
      "numpy-groupies==0.9.20\r\n",
      "numpydoc==1.5.0\r\n",
      "nvidia-ml-py==11.495.46\r\n",
      "opencensus==0.11.0\r\n",
      "opencensus-context==0.1.3\r\n",
      "openpyxl==3.0.10\r\n",
      "packaging==22.0\r\n",
      "palettable==3.3.0\r\n",
      "pandas==1.5.2\r\n",
      "pandoc==2.3\r\n",
      "pandocfilters==1.5.0\r\n",
      "papermill==2.4.0\r\n",
      "parso==0.8.3\r\n",
      "partd==1.3.0\r\n",
      "patsy==0.5.3\r\n",
      "pbr==3.1.1\r\n",
      "pexpect==4.8.0\r\n",
      "pickleshare==0.7.5\r\n",
      "Pillow==9.3.0\r\n",
      "pkgutil_resolve_name==1.3.10\r\n",
      "platformdirs==2.6.2\r\n",
      "plotly==5.11.0\r\n",
      "plotnine==0.10.1\r\n",
      "plumbum==1.8.0\r\n",
      "ply==3.11\r\n",
      "polars==0.15.8\r\n",
      "progressbar2==4.2.0\r\n",
      "prometheus-client==0.13.1\r\n",
      "prompt-toolkit==3.0.36\r\n",
      "protobuf==4.21.12\r\n",
      "psutil==5.9.4\r\n",
      "ptyprocess==0.7.0\r\n",
      "pure-eval==0.2.2\r\n",
      "py-cpuinfo==9.0.0\r\n",
      "py-spy==0.3.14\r\n",
      "pyarrow==10.0.1\r\n",
      "pyasn1==0.4.8\r\n",
      "pyasn1-modules==0.2.8\r\n",
      "pybedtools==0.9.0\r\n",
      "pyBigWig==0.3.18\r\n",
      "pybiomart==0.2.0\r\n",
      "pycistarget @ git+https://github.com/aertslab/pycistarget@7daf370e241226b2ccc503c7124a2fbff41a37a1\r\n",
      "-e git+https://github.com/aertslab/pycisTopic.git@1e354e62e367b6012852a667550a39c551922efa#egg=pycisTopic\r\n",
      "pycparser==2.21\r\n",
      "pydantic==1.10.3\r\n",
      "pydata-sphinx-theme==0.8.1\r\n",
      "pyfasta==0.5.2\r\n",
      "pyFUME==0.2.25\r\n",
      "pygam==0.8.0\r\n",
      "Pygments==2.13.0\r\n",
      "pynndescent==0.5.8\r\n",
      "pyOpenSSL==22.1.0\r\n",
      "pyparsing==3.0.9\r\n",
      "pyranges==0.0.120\r\n",
      "pyrle==0.0.35\r\n",
      "pyrsistent==0.19.3\r\n",
      "pysam==0.20.0\r\n",
      "pyscenic @ git+https://github.com/aertslab/pySCENIC@0a90cb5ca615c633b2e012a992669f784e98bc8b\r\n",
      "python-dateutil==2.8.2\r\n",
      "python-igraph==0.10.2\r\n",
      "python-Levenshtein==0.20.9\r\n",
      "python-utils==3.4.5\r\n",
      "pytz==2022.7\r\n",
      "pyvis==0.3.1\r\n",
      "PyWavelets==1.4.1\r\n",
      "PyYAML==6.0\r\n",
      "pyzmq==24.0.1\r\n",
      "rapidfuzz==2.13.7\r\n",
      "ray==2.2.0\r\n",
      "requests==2.28.1\r\n",
      "requests-cache==0.9.7\r\n",
      "rsa==4.9\r\n",
      "scanorama==1.7.3\r\n",
      "scanpy==1.8.2\r\n",
      "scikit-image==0.19.3\r\n",
      "scikit-learn==1.2.0\r\n",
      "scipy==1.10.0\r\n",
      "scrublet==0.2.3\r\n",
      "seaborn==0.12.1\r\n",
      "simpful==2.9.0\r\n",
      "sinfo==0.3.4\r\n",
      "six==1.16.0\r\n",
      "sklearn==0.0.post1\r\n",
      "smart-open==6.3.0\r\n",
      "snowballstemmer==2.2.0\r\n",
      "sorted-nearest==0.0.37\r\n",
      "sortedcontainers==2.4.0\r\n",
      "soupsieve==2.3.2.post1\r\n",
      "Sphinx==4.5.0\r\n",
      "sphinx-book-theme==0.3.3\r\n",
      "sphinx-rtd-theme==1.1.1\r\n",
      "sphinxcontrib-applehelp==1.0.2\r\n",
      "sphinxcontrib-devhelp==1.0.2\r\n",
      "sphinxcontrib-htmlhelp==2.0.0\r\n",
      "sphinxcontrib-jsmath==1.0.1\r\n",
      "sphinxcontrib-qthelp==1.0.3\r\n",
      "sphinxcontrib-serializinghtml==1.1.5\r\n",
      "stack-data==0.6.2\r\n",
      "statistics==1.0.3.5\r\n",
      "statsmodels==0.13.5\r\n",
      "stdlib-list==0.8.0\r\n",
      "suds-community==1.1.2\r\n",
      "tables==3.8.0\r\n",
      "tabulate==0.9.0\r\n",
      "tblib==1.7.0\r\n",
      "tenacity==8.1.0\r\n",
      "texttable==1.6.7\r\n",
      "textwrap3==0.9.2\r\n",
      "threadpoolctl==3.1.0\r\n",
      "tifffile==2022.10.10\r\n",
      "tinycss2==1.2.1\r\n",
      "tmtoolkit==0.11.2\r\n",
      "toolz==0.12.0\r\n",
      "tornado==6.2\r\n",
      "tqdm==4.64.1\r\n",
      "traitlets==5.8.0\r\n",
      "tspex==0.6.2\r\n",
      "typing==3.7.4.3\r\n",
      "typing-inspect==0.8.0\r\n",
      "typing_extensions==4.4.0\r\n",
      "umap-learn==0.5.3\r\n",
      "url-normalize==1.4.3\r\n",
      "urllib3==1.26.13\r\n",
      "virtualenv==20.17.1\r\n",
      "wcwidth==0.2.5\r\n",
      "webencodings==0.5.1\r\n",
      "widgetsnbextension==4.0.5\r\n",
      "wrapt==1.14.1\r\n",
      "xlrd==2.0.1\r\n",
      "xmltodict==0.13.0\r\n",
      "yarl==1.8.2\r\n",
      "zict==2.2.0\r\n",
      "zipp==3.11.0\r\n",
      "zope.event==4.6\r\n",
      "zope.interface==5.5.2\r\n"
     ]
    }
   ],
   "source": [
    "!pip freeze "
   ]
  },
  {
   "cell_type": "code",
   "execution_count": null,
   "metadata": {},
   "outputs": [],
   "source": []
  }
 ],
 "metadata": {
  "kernelspec": {
   "display_name": "Python 3",
   "language": "python",
   "name": "python3"
  },
  "language_info": {
   "codemirror_mode": {
    "name": "ipython",
    "version": 3
   },
   "file_extension": ".py",
   "mimetype": "text/x-python",
   "name": "python",
   "nbconvert_exporter": "python",
   "pygments_lexer": "ipython3",
   "version": "3.6.4"
  }
 },
 "nbformat": 4,
 "nbformat_minor": 2
}
